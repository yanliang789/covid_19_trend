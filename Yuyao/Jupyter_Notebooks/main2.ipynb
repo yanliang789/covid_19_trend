{
 "cells": [
  {
   "cell_type": "code",
   "execution_count": 1,
   "metadata": {},
   "outputs": [],
   "source": [
    "from PolynomialRegressionModel import *\n",
    "import numpy as np\n",
    "import pandas as pd\n",
    "import matplotlib.pyplot as plt"
   ]
  },
  {
   "cell_type": "markdown",
   "metadata": {},
   "source": [
    "## Model for US"
   ]
  },
  {
   "cell_type": "code",
   "execution_count": 2,
   "metadata": {},
   "outputs": [
    {
     "data": {
      "text/html": [
       "<div>\n",
       "<style scoped>\n",
       "    .dataframe tbody tr th:only-of-type {\n",
       "        vertical-align: middle;\n",
       "    }\n",
       "\n",
       "    .dataframe tbody tr th {\n",
       "        vertical-align: top;\n",
       "    }\n",
       "\n",
       "    .dataframe thead th {\n",
       "        text-align: right;\n",
       "    }\n",
       "</style>\n",
       "<table border=\"1\" class=\"dataframe\">\n",
       "  <thead>\n",
       "    <tr style=\"text-align: right;\">\n",
       "      <th></th>\n",
       "      <th>ObservationDate</th>\n",
       "      <th>Confirmed</th>\n",
       "      <th>People_Fully_Vaccinated</th>\n",
       "    </tr>\n",
       "  </thead>\n",
       "  <tbody>\n",
       "    <tr>\n",
       "      <th>0</th>\n",
       "      <td>2020-12-20</td>\n",
       "      <td>17954675.0</td>\n",
       "      <td>0.0</td>\n",
       "    </tr>\n",
       "    <tr>\n",
       "      <th>1</th>\n",
       "      <td>2020-12-21</td>\n",
       "      <td>18153724.0</td>\n",
       "      <td>0.0</td>\n",
       "    </tr>\n",
       "    <tr>\n",
       "      <th>2</th>\n",
       "      <td>2020-12-22</td>\n",
       "      <td>18351735.0</td>\n",
       "      <td>0.0</td>\n",
       "    </tr>\n",
       "    <tr>\n",
       "      <th>3</th>\n",
       "      <td>2020-12-23</td>\n",
       "      <td>18581353.0</td>\n",
       "      <td>0.0</td>\n",
       "    </tr>\n",
       "    <tr>\n",
       "      <th>4</th>\n",
       "      <td>2020-12-24</td>\n",
       "      <td>18775557.0</td>\n",
       "      <td>0.0</td>\n",
       "    </tr>\n",
       "    <tr>\n",
       "      <th>...</th>\n",
       "      <td>...</td>\n",
       "      <td>...</td>\n",
       "      <td>...</td>\n",
       "    </tr>\n",
       "    <tr>\n",
       "      <th>129</th>\n",
       "      <td>2021-04-28</td>\n",
       "      <td>32230850.0</td>\n",
       "      <td>199426393.0</td>\n",
       "    </tr>\n",
       "    <tr>\n",
       "      <th>130</th>\n",
       "      <td>2021-04-29</td>\n",
       "      <td>32289049.0</td>\n",
       "      <td>202713598.0</td>\n",
       "    </tr>\n",
       "    <tr>\n",
       "      <th>131</th>\n",
       "      <td>2021-04-30</td>\n",
       "      <td>32346971.0</td>\n",
       "      <td>206220484.0</td>\n",
       "    </tr>\n",
       "    <tr>\n",
       "      <th>132</th>\n",
       "      <td>2021-05-01</td>\n",
       "      <td>32392274.0</td>\n",
       "      <td>210278776.0</td>\n",
       "    </tr>\n",
       "    <tr>\n",
       "      <th>133</th>\n",
       "      <td>2021-05-02</td>\n",
       "      <td>32421534.0</td>\n",
       "      <td>213016060.0</td>\n",
       "    </tr>\n",
       "  </tbody>\n",
       "</table>\n",
       "<p>134 rows × 3 columns</p>\n",
       "</div>"
      ],
      "text/plain": [
       "    ObservationDate   Confirmed  People_Fully_Vaccinated\n",
       "0        2020-12-20  17954675.0                      0.0\n",
       "1        2020-12-21  18153724.0                      0.0\n",
       "2        2020-12-22  18351735.0                      0.0\n",
       "3        2020-12-23  18581353.0                      0.0\n",
       "4        2020-12-24  18775557.0                      0.0\n",
       "..              ...         ...                      ...\n",
       "129      2021-04-28  32230850.0              199426393.0\n",
       "130      2021-04-29  32289049.0              202713598.0\n",
       "131      2021-04-30  32346971.0              206220484.0\n",
       "132      2021-05-01  32392274.0              210278776.0\n",
       "133      2021-05-02  32421534.0              213016060.0\n",
       "\n",
       "[134 rows x 3 columns]"
      ]
     },
     "execution_count": 2,
     "metadata": {},
     "output_type": "execute_result"
    }
   ],
   "source": [
    "df = pd.read_csv('../Data/Confirmed_VS_Vaccinated_US.csv').drop(columns=['Unnamed: 0'])\n",
    "df"
   ]
  },
  {
   "cell_type": "code",
   "execution_count": 3,
   "metadata": {},
   "outputs": [
    {
     "data": {
      "text/plain": [
       "Int64Index([102], dtype='int64')"
      ]
     },
     "execution_count": 3,
     "metadata": {},
     "output_type": "execute_result"
    }
   ],
   "source": [
    "## Use the data from April to May as test\n",
    "df[df['ObservationDate']=='2021-04-01'].index"
   ]
  },
  {
   "cell_type": "code",
   "execution_count": 4,
   "metadata": {},
   "outputs": [
    {
     "data": {
      "text/plain": [
       "array([[  0],\n",
       "       [  1],\n",
       "       [  2],\n",
       "       [  3],\n",
       "       [  4],\n",
       "       [  5],\n",
       "       [  6],\n",
       "       [  7],\n",
       "       [  8],\n",
       "       [  9],\n",
       "       [ 10],\n",
       "       [ 11],\n",
       "       [ 12],\n",
       "       [ 13],\n",
       "       [ 14],\n",
       "       [ 15],\n",
       "       [ 16],\n",
       "       [ 17],\n",
       "       [ 18],\n",
       "       [ 19],\n",
       "       [ 20],\n",
       "       [ 21],\n",
       "       [ 22],\n",
       "       [ 23],\n",
       "       [ 24],\n",
       "       [ 25],\n",
       "       [ 26],\n",
       "       [ 27],\n",
       "       [ 28],\n",
       "       [ 29],\n",
       "       [ 30],\n",
       "       [ 31],\n",
       "       [ 32],\n",
       "       [ 33],\n",
       "       [ 34],\n",
       "       [ 35],\n",
       "       [ 36],\n",
       "       [ 37],\n",
       "       [ 38],\n",
       "       [ 39],\n",
       "       [ 40],\n",
       "       [ 41],\n",
       "       [ 42],\n",
       "       [ 43],\n",
       "       [ 44],\n",
       "       [ 45],\n",
       "       [ 46],\n",
       "       [ 47],\n",
       "       [ 48],\n",
       "       [ 49],\n",
       "       [ 50],\n",
       "       [ 51],\n",
       "       [ 52],\n",
       "       [ 53],\n",
       "       [ 54],\n",
       "       [ 55],\n",
       "       [ 56],\n",
       "       [ 57],\n",
       "       [ 58],\n",
       "       [ 59],\n",
       "       [ 60],\n",
       "       [ 61],\n",
       "       [ 62],\n",
       "       [ 63],\n",
       "       [ 64],\n",
       "       [ 65],\n",
       "       [ 66],\n",
       "       [ 67],\n",
       "       [ 68],\n",
       "       [ 69],\n",
       "       [ 70],\n",
       "       [ 71],\n",
       "       [ 72],\n",
       "       [ 73],\n",
       "       [ 74],\n",
       "       [ 75],\n",
       "       [ 76],\n",
       "       [ 77],\n",
       "       [ 78],\n",
       "       [ 79],\n",
       "       [ 80],\n",
       "       [ 81],\n",
       "       [ 82],\n",
       "       [ 83],\n",
       "       [ 84],\n",
       "       [ 85],\n",
       "       [ 86],\n",
       "       [ 87],\n",
       "       [ 88],\n",
       "       [ 89],\n",
       "       [ 90],\n",
       "       [ 91],\n",
       "       [ 92],\n",
       "       [ 93],\n",
       "       [ 94],\n",
       "       [ 95],\n",
       "       [ 96],\n",
       "       [ 97],\n",
       "       [ 98],\n",
       "       [ 99],\n",
       "       [100],\n",
       "       [101]])"
      ]
     },
     "execution_count": 4,
     "metadata": {},
     "output_type": "execute_result"
    }
   ],
   "source": [
    "x = np.array(df.iloc[:102,:].index.values.tolist()).reshape(-1, 1)\n",
    "x"
   ]
  },
  {
   "cell_type": "code",
   "execution_count": 5,
   "metadata": {},
   "outputs": [
    {
     "data": {
      "text/plain": [
       "array([[102],\n",
       "       [103],\n",
       "       [104],\n",
       "       [105],\n",
       "       [106],\n",
       "       [107],\n",
       "       [108],\n",
       "       [109],\n",
       "       [110],\n",
       "       [111],\n",
       "       [112],\n",
       "       [113],\n",
       "       [114],\n",
       "       [115],\n",
       "       [116],\n",
       "       [117],\n",
       "       [118],\n",
       "       [119],\n",
       "       [120],\n",
       "       [121],\n",
       "       [122],\n",
       "       [123],\n",
       "       [124],\n",
       "       [125],\n",
       "       [126],\n",
       "       [127],\n",
       "       [128],\n",
       "       [129],\n",
       "       [130],\n",
       "       [131],\n",
       "       [132],\n",
       "       [133]])"
      ]
     },
     "execution_count": 5,
     "metadata": {},
     "output_type": "execute_result"
    }
   ],
   "source": [
    "\n",
    "list = []\n",
    "for i in range(0,32):\n",
    "    list.append(102 +i)\n",
    "x_pred = np.array(list).reshape(-1, 1)\n",
    "x_pred"
   ]
  },
  {
   "cell_type": "code",
   "execution_count": 6,
   "metadata": {},
   "outputs": [
    {
     "data": {
      "text/plain": [
       "0              0.0\n",
       "1              0.0\n",
       "2              0.0\n",
       "3              0.0\n",
       "4              0.0\n",
       "          ...     \n",
       "97     102491174.0\n",
       "98     105451667.0\n",
       "99     107528783.0\n",
       "100    109153459.0\n",
       "101    111562791.0\n",
       "Name: People_Fully_Vaccinated, Length: 102, dtype: float64"
      ]
     },
     "execution_count": 6,
     "metadata": {},
     "output_type": "execute_result"
    }
   ],
   "source": [
    "y_v_train = df.iloc[:102,-1]\n",
    "y_v_train"
   ]
  },
  {
   "cell_type": "code",
   "execution_count": 7,
   "metadata": {},
   "outputs": [],
   "source": [
    "model_v = PolynomialRegressionModel(polynomial_degree=2)\n",
    "model_v.train(x,y_v_train)"
   ]
  },
  {
   "cell_type": "code",
   "execution_count": 8,
   "metadata": {},
   "outputs": [
    {
     "data": {
      "text/plain": [
       "array([117010136, 119649258, 122317535, 125014966, 127741553, 130497294,\n",
       "       133282190, 136096241, 138939447, 141811808, 144713323, 147643993,\n",
       "       150603818, 153592798, 156610933, 159658222, 162734667, 165840266,\n",
       "       168975020, 172138929, 175331992, 178554211, 181805584, 185086112,\n",
       "       188395795, 191734632, 195102625, 198499772, 201926074, 205381531,\n",
       "       208866143, 212379910])"
      ]
     },
     "execution_count": 8,
     "metadata": {},
     "output_type": "execute_result"
    }
   ],
   "source": [
    "y_v_pred = model_v.get_predictions(x_pred)\n",
    "y_v_pred"
   ]
  },
  {
   "cell_type": "code",
   "execution_count": 9,
   "metadata": {},
   "outputs": [
    {
     "data": {
      "text/plain": [
       "<matplotlib.collections.PathCollection at 0x186105131c0>"
      ]
     },
     "execution_count": 9,
     "metadata": {},
     "output_type": "execute_result"
    },
    {
     "data": {
      "image/png": "[encoded data removed]",
      "text/plain": [
       "<Figure size 432x288 with 1 Axes>"
      ]
     },
     "metadata": {
      "needs_background": "light"
     },
     "output_type": "display_data"
    }
   ],
   "source": [
    "plt.scatter(x, y_v_train, s=10)"
   ]
  },
  {
   "cell_type": "code",
   "execution_count": 10,
   "metadata": {},
   "outputs": [
    {
     "data": {
      "text/plain": [
       "102    114583082.0\n",
       "103    118422715.0\n",
       "104    122216549.0\n",
       "105    125385077.0\n",
       "106    127355746.0\n",
       "107    128602626.0\n",
       "108    131454029.0\n",
       "109    135064895.0\n",
       "110    139105415.0\n",
       "111    144145651.0\n",
       "112    148071014.0\n",
       "113    150979224.0\n",
       "114    153501691.0\n",
       "115    156266663.0\n",
       "116    159943303.0\n",
       "117    164207620.0\n",
       "118    167974595.0\n",
       "119    171603046.0\n",
       "120    173830334.0\n",
       "121    175551679.0\n",
       "122    178322476.0\n",
       "123    181665228.0\n",
       "124    185563352.0\n",
       "125    189409819.0\n",
       "126    192837765.0\n",
       "127    195081051.0\n",
       "128    196802025.0\n",
       "129    199426393.0\n",
       "130    202713598.0\n",
       "131    206220484.0\n",
       "132    210278776.0\n",
       "133    213016060.0\n",
       "Name: People_Fully_Vaccinated, dtype: float64"
      ]
     },
     "execution_count": 10,
     "metadata": {},
     "output_type": "execute_result"
    }
   ],
   "source": [
    "y_v_test = df.iloc[102:,-1]\n",
    "y_v_test"
   ]
  },
  {
   "cell_type": "code",
   "execution_count": 27,
   "metadata": {},
   "outputs": [
    {
     "data": {
      "image/png": "[encoded data removed]",
      "text/plain": [
       "<Figure size 432x288 with 1 Axes>"
      ]
     },
     "metadata": {
      "needs_background": "light"
     },
     "output_type": "display_data"
    }
   ],
   "source": [
    "plt.plot(x_pred, y_v_pred, color='m', label=\"Predicted Vaccination\")\n",
    "plt.plot(x_pred, y_v_test, color='r',label=\"Real Vaccination\")\n",
    "#plt.title(\"Amount of \" + model_name + \" in each day\")\n",
    "plt.legend()\n",
    "plt.xlabel(\"Day\")\n",
    "plt.ylabel(\"vaccination\")\n",
    "plt.show()"
   ]
  },
  {
   "cell_type": "code",
   "execution_count": 28,
   "metadata": {
    "pycharm": {
     "name": "#%%\n"
    }
   },
   "outputs": [
    {
     "data": {
      "text/plain": [
       "0.0"
      ]
     },
     "execution_count": 28,
     "metadata": {},
     "output_type": "execute_result"
    }
   ],
   "source": [
    "from sklearn.metrics import accuracy_score\n",
    "accuracy_score(y_v_test,y_v_pred)"
   ]
  },
  {
   "cell_type": "markdown",
   "metadata": {
    "pycharm": {
     "name": "#%% md\n"
    }
   },
   "source": [
    "### Train model with features of days and vaccinations "
   ]
  },
  {
   "cell_type": "code",
   "execution_count": 12,
   "metadata": {},
   "outputs": [
    {
     "data": {
      "text/plain": [
       "0              0.0\n",
       "1              0.0\n",
       "2              0.0\n",
       "3              0.0\n",
       "4              0.0\n",
       "          ...     \n",
       "97     102491174.0\n",
       "98     105451667.0\n",
       "99     107528783.0\n",
       "100    109153459.0\n",
       "101    111562791.0\n",
       "Name: People_Fully_Vaccinated, Length: 102, dtype: float64"
      ]
     },
     "execution_count": 12,
     "metadata": {},
     "output_type": "execute_result"
    }
   ],
   "source": [
    "y_c_train = df.iloc[:102,1]\n",
    "vaccination = df.iloc[:102,-1]\n",
    "vaccination"
   ]
  },
  {
   "cell_type": "code",
   "execution_count": 13,
   "metadata": {},
   "outputs": [],
   "source": [
    "x_c_train = np.vstack((np.array(df.iloc[:102,:].index.values.tolist()), vaccination)).T\n",
    "#x_c_train"
   ]
  },
  {
   "cell_type": "code",
   "execution_count": 14,
   "metadata": {},
   "outputs": [
    {
     "data": {
      "text/plain": [
       "<matplotlib.collections.PathCollection at 0x1861066cb20>"
      ]
     },
     "execution_count": 14,
     "metadata": {},
     "output_type": "execute_result"
    },
    {
     "data": {
      "image/png": "[encoded data removed]",
      "text/plain": [
       "<Figure size 432x288 with 1 Axes>"
      ]
     },
     "metadata": {
      "needs_background": "light"
     },
     "output_type": "display_data"
    }
   ],
   "source": [
    "plt.scatter(x,y_c_train,s=10)"
   ]
  },
  {
   "cell_type": "code",
   "execution_count": 15,
   "metadata": {},
   "outputs": [],
   "source": [
    "model_c = PolynomialRegressionModel(polynomial_degree=1)\n",
    "model_c.train(x_c_train,y_c_train)"
   ]
  },
  {
   "cell_type": "code",
   "execution_count": 16,
   "metadata": {},
   "outputs": [
    {
     "data": {
      "text/plain": [
       "array([[      102, 117010136],\n",
       "       [      103, 119649258],\n",
       "       [      104, 122317535],\n",
       "       [      105, 125014966],\n",
       "       [      106, 127741553],\n",
       "       [      107, 130497294],\n",
       "       [      108, 133282190],\n",
       "       [      109, 136096241],\n",
       "       [      110, 138939447],\n",
       "       [      111, 141811808],\n",
       "       [      112, 144713323],\n",
       "       [      113, 147643993],\n",
       "       [      114, 150603818],\n",
       "       [      115, 153592798],\n",
       "       [      116, 156610933],\n",
       "       [      117, 159658222],\n",
       "       [      118, 162734667],\n",
       "       [      119, 165840266],\n",
       "       [      120, 168975020],\n",
       "       [      121, 172138929],\n",
       "       [      122, 175331992],\n",
       "       [      123, 178554211],\n",
       "       [      124, 181805584],\n",
       "       [      125, 185086112],\n",
       "       [      126, 188395795],\n",
       "       [      127, 191734632],\n",
       "       [      128, 195102625],\n",
       "       [      129, 198499772],\n",
       "       [      130, 201926074],\n",
       "       [      131, 205381531],\n",
       "       [      132, 208866143],\n",
       "       [      133, 212379910]])"
      ]
     },
     "execution_count": 16,
     "metadata": {},
     "output_type": "execute_result"
    }
   ],
   "source": [
    "x_c_test = np.vstack((np.array(list), y_v_pred)).T\n",
    "x_c_test"
   ]
  },
  {
   "cell_type": "code",
   "execution_count": 17,
   "metadata": {
    "pycharm": {
     "name": "#%%\n"
    }
   },
   "outputs": [
    {
     "data": {
      "text/plain": [
       "array([29873008, 29860923, 29846309, 29829165, 29809491, 29787287,\n",
       "       29762554, 29735291, 29705499, 29673176, 29638325, 29600943,\n",
       "       29561031, 29518590, 29473620, 29426119, 29376089, 29323529,\n",
       "       29268440, 29210820, 29150672, 29087993, 29022785, 28955047,\n",
       "       28884779, 28811982, 28736654, 28658798, 28578411, 28495495,\n",
       "       28410049, 28322074])"
      ]
     },
     "execution_count": 17,
     "metadata": {},
     "output_type": "execute_result"
    }
   ],
   "source": [
    "y_c_pred = model_c.get_predictions(x_c_test)\n",
    "y_c_pred"
   ]
  },
  {
   "cell_type": "markdown",
   "metadata": {
    "pycharm": {
     "name": "#%% md\n"
    }
   },
   "source": [
    "#### Using real vaccination for prediction"
   ]
  },
  {
   "cell_type": "code",
   "execution_count": 18,
   "metadata": {},
   "outputs": [
    {
     "data": {
      "text/plain": [
       "array([[1.02000000e+02, 1.14583082e+08],\n",
       "       [1.03000000e+02, 1.18422715e+08],\n",
       "       [1.04000000e+02, 1.22216549e+08],\n",
       "       [1.05000000e+02, 1.25385077e+08],\n",
       "       [1.06000000e+02, 1.27355746e+08],\n",
       "       [1.07000000e+02, 1.28602626e+08],\n",
       "       [1.08000000e+02, 1.31454029e+08],\n",
       "       [1.09000000e+02, 1.35064895e+08],\n",
       "       [1.10000000e+02, 1.39105415e+08],\n",
       "       [1.11000000e+02, 1.44145651e+08],\n",
       "       [1.12000000e+02, 1.48071014e+08],\n",
       "       [1.13000000e+02, 1.50979224e+08],\n",
       "       [1.14000000e+02, 1.53501691e+08],\n",
       "       [1.15000000e+02, 1.56266663e+08],\n",
       "       [1.16000000e+02, 1.59943303e+08],\n",
       "       [1.17000000e+02, 1.64207620e+08],\n",
       "       [1.18000000e+02, 1.67974595e+08],\n",
       "       [1.19000000e+02, 1.71603046e+08],\n",
       "       [1.20000000e+02, 1.73830334e+08],\n",
       "       [1.21000000e+02, 1.75551679e+08],\n",
       "       [1.22000000e+02, 1.78322476e+08],\n",
       "       [1.23000000e+02, 1.81665228e+08],\n",
       "       [1.24000000e+02, 1.85563352e+08],\n",
       "       [1.25000000e+02, 1.89409819e+08],\n",
       "       [1.26000000e+02, 1.92837765e+08],\n",
       "       [1.27000000e+02, 1.95081051e+08],\n",
       "       [1.28000000e+02, 1.96802025e+08],\n",
       "       [1.29000000e+02, 1.99426393e+08],\n",
       "       [1.30000000e+02, 2.02713598e+08],\n",
       "       [1.31000000e+02, 2.06220484e+08],\n",
       "       [1.32000000e+02, 2.10278776e+08],\n",
       "       [1.33000000e+02, 2.13016060e+08]])"
      ]
     },
     "execution_count": 18,
     "metadata": {},
     "output_type": "execute_result"
    }
   ],
   "source": [
    "x_c_test_real = np.vstack((np.array(list), np.array(y_v_test.tolist()))).T\n",
    "x_c_test_real"
   ]
  },
  {
   "cell_type": "code",
   "execution_count": 19,
   "metadata": {},
   "outputs": [
    {
     "data": {
      "text/plain": [
       "array([30083598, 29967347, 29855071, 29797051, 29842966, 29951683,\n",
       "       29921179, 29824779, 29691098, 29470674, 29346986, 29311553,\n",
       "       29309590, 29286586, 29184478, 29031379, 28921433, 28823507,\n",
       "       28847156, 28914704, 28891194, 28818057, 28696732, 28579889,\n",
       "       28499360, 28521621, 28589202, 28578397, 28510080, 28422701,\n",
       "       28287478, 28266876])"
      ]
     },
     "execution_count": 19,
     "metadata": {},
     "output_type": "execute_result"
    }
   ],
   "source": [
    "y_c_pred_real = model_c.get_predictions(x_c_test_real)\n",
    "y_c_pred_real"
   ]
  },
  {
   "cell_type": "code",
   "execution_count": 20,
   "metadata": {},
   "outputs": [
    {
     "data": {
      "text/plain": [
       "102    30541255.0\n",
       "103    30611086.0\n",
       "104    30674153.0\n",
       "105    30709125.0\n",
       "106    30786804.0\n",
       "107    30847348.0\n",
       "108    30922386.0\n",
       "109    31002264.0\n",
       "110    31084962.0\n",
       "111    31151497.0\n",
       "112    31197877.0\n",
       "113    31268107.0\n",
       "114    31345985.0\n",
       "115    31421360.0\n",
       "116    31495649.0\n",
       "117    31575640.0\n",
       "118    31628013.0\n",
       "119    31670031.0\n",
       "120    31737964.0\n",
       "121    31799237.0\n",
       "122    31862094.0\n",
       "123    31929351.0\n",
       "124    31991750.0\n",
       "125    32045113.0\n",
       "126    32077178.0\n",
       "127    32124869.0\n",
       "128    32175725.0\n",
       "129    32230850.0\n",
       "130    32289049.0\n",
       "131    32346971.0\n",
       "132    32392274.0\n",
       "133    32421534.0\n",
       "Name: Confirmed, dtype: float64"
      ]
     },
     "execution_count": 20,
     "metadata": {},
     "output_type": "execute_result"
    }
   ],
   "source": [
    "y_c_test = df.iloc[102:,1]\n",
    "y_c_test"
   ]
  },
  {
   "cell_type": "code",
   "execution_count": 21,
   "metadata": {},
   "outputs": [
    {
     "data": {
      "image/png": "[encoded data removed]",
      "text/plain": [
       "<Figure size 864x432 with 2 Axes>"
      ]
     },
     "metadata": {
      "needs_background": "light"
     },
     "output_type": "display_data"
    }
   ],
   "source": [
    "plt.figure(figsize=(12,6))\n",
    "\n",
    "plt.subplot(1,2,1)\n",
    "plt.plot(x_pred, y_c_test, color='r', label=\"Real confirmed cases\")\n",
    "plt.plot(x_pred,y_c_pred,color='b', label=\"predicted confirmed cases\")\n",
    "#plt.title(\"Amount of \" + model_name + \" in each day\")\n",
    "plt.legend()\n",
    "plt.xlabel(\"Day\")\n",
    "plt.ylabel(\"Cases\")\n",
    "\n",
    "plt.subplot(1,2,2)\n",
    "plt.plot(x_pred, y_c_test, color='r', label=\"Real confirmed cases\")\n",
    "plt.plot(x_pred,y_c_pred_real,color='b', label=\"predicted confirmed cases with real vaccination\")\n",
    "#plt.title(\"Amount of \" + model_name + \" in each day\")\n",
    "plt.legend()\n",
    "plt.xlabel(\"Day\")\n",
    "plt.ylabel(\"Cases\")\n",
    "\n",
    "plt.show()"
   ]
  },
  {
   "cell_type": "code",
   "execution_count": 22,
   "metadata": {
    "pycharm": {
     "name": "#%%\n"
    },
    "scrolled": true
   },
   "outputs": [
    {
     "data": {
      "image/png": "[encoded data removed]",
      "text/plain": [
       "<Figure size 1296x432 with 3 Axes>"
      ]
     },
     "metadata": {
      "needs_background": "light"
     },
     "output_type": "display_data"
    }
   ],
   "source": [
    "plt.figure(figsize=(18,6))\n",
    "\n",
    "plt.subplot(1,3,1)\n",
    "plt.plot(x_pred, y_v_pred, color='r', label=\"predicted vaccination\")\n",
    "plt.plot(x_pred,y_c_pred,color='b', label=\"predicted confirmed cases\")\n",
    "#plt.title(\"Amount of \" + model_name + \" in each day\")\n",
    "plt.legend()\n",
    "plt.xlabel(\"Day\")\n",
    "plt.ylabel(\"Cases/Vacciantions\")\n",
    "\n",
    "plt.subplot(1,3,2)\n",
    "plt.plot(x_pred, y_v_test, color='r', label=\"real vaccination\")\n",
    "plt.plot(x_pred,y_c_test,color='b', label=\"real confirmed cases\")\n",
    "#plt.title(\"Amount of \" + model_name + \" in each day\")\n",
    "plt.legend()\n",
    "plt.xlabel(\"Day\")\n",
    "plt.ylabel(\"Cases/Vacciantions\")\n",
    "\n",
    "plt.subplot(1,3,3)\n",
    "plt.plot(x_pred, y_v_test, color='r', label=\"real vaccination\")\n",
    "plt.plot(x_pred,y_c_pred_real,color='b', label=\"predicted confirmed cases with real vaccination\")\n",
    "#plt.title(\"Amount of \" + model_name + \" in each day\")\n",
    "plt.legend()\n",
    "plt.xlabel(\"Day\")\n",
    "plt.ylabel(\"Cases/Vacciantions\")\n",
    "\n",
    "plt.show()"
   ]
  }
 ],
 "metadata": {
  "kernelspec": {
   "display_name": "Python 3",
   "language": "python",
   "name": "python3"
  },
  "language_info": {
   "codemirror_mode": {
    "name": "ipython",
    "version": 3
   },
   "file_extension": ".py",
   "mimetype": "text/x-python",
   "name": "python",
   "nbconvert_exporter": "python",
   "pygments_lexer": "ipython3",
   "version": "3.9.1"
  }
 },
 "nbformat": 4,
 "nbformat_minor": 1
}