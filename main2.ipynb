{
 "cells": [
  {
   "cell_type": "code",
   "execution_count": 238,
   "metadata": {},
   "outputs": [],
   "source": [
    "from PolynomialRegressionModel import *\n",
    "import numpy as np\n",
    "import pandas as pd\n",
    "import matplotlib.pyplot as plt"
   ]
  },
  {
   "cell_type": "code",
   "execution_count": 239,
   "metadata": {},
   "outputs": [
    {
     "data": {
      "text/html": [
       "<div>\n",
       "<style scoped>\n",
       "    .dataframe tbody tr th:only-of-type {\n",
       "        vertical-align: middle;\n",
       "    }\n",
       "\n",
       "    .dataframe tbody tr th {\n",
       "        vertical-align: top;\n",
       "    }\n",
       "\n",
       "    .dataframe thead th {\n",
       "        text-align: right;\n",
       "    }\n",
       "</style>\n",
       "<table border=\"1\" class=\"dataframe\">\n",
       "  <thead>\n",
       "    <tr style=\"text-align: right;\">\n",
       "      <th></th>\n",
       "      <th>ObservationDate</th>\n",
       "      <th>Confirmed</th>\n",
       "      <th>People_Fully_Vaccinated</th>\n",
       "    </tr>\n",
       "  </thead>\n",
       "  <tbody>\n",
       "    <tr>\n",
       "      <th>0</th>\n",
       "      <td>2020-12-20</td>\n",
       "      <td>76818746.0</td>\n",
       "      <td>0.0</td>\n",
       "    </tr>\n",
       "    <tr>\n",
       "      <th>1</th>\n",
       "      <td>2020-12-21</td>\n",
       "      <td>77367360.0</td>\n",
       "      <td>0.0</td>\n",
       "    </tr>\n",
       "    <tr>\n",
       "      <th>2</th>\n",
       "      <td>2020-12-22</td>\n",
       "      <td>78016498.0</td>\n",
       "      <td>0.0</td>\n",
       "    </tr>\n",
       "    <tr>\n",
       "      <th>3</th>\n",
       "      <td>2020-12-23</td>\n",
       "      <td>78710560.0</td>\n",
       "      <td>0.0</td>\n",
       "    </tr>\n",
       "    <tr>\n",
       "      <th>4</th>\n",
       "      <td>2020-12-24</td>\n",
       "      <td>79377452.0</td>\n",
       "      <td>0.0</td>\n",
       "    </tr>\n",
       "    <tr>\n",
       "      <th>...</th>\n",
       "      <td>...</td>\n",
       "      <td>...</td>\n",
       "      <td>...</td>\n",
       "    </tr>\n",
       "    <tr>\n",
       "      <th>65</th>\n",
       "      <td>2021-02-23</td>\n",
       "      <td>112019890.0</td>\n",
       "      <td>41842414.0</td>\n",
       "    </tr>\n",
       "    <tr>\n",
       "      <th>66</th>\n",
       "      <td>2021-02-24</td>\n",
       "      <td>112464430.0</td>\n",
       "      <td>42359354.0</td>\n",
       "    </tr>\n",
       "    <tr>\n",
       "      <th>67</th>\n",
       "      <td>2021-02-25</td>\n",
       "      <td>112911535.0</td>\n",
       "      <td>43514673.0</td>\n",
       "    </tr>\n",
       "    <tr>\n",
       "      <th>68</th>\n",
       "      <td>2021-02-26</td>\n",
       "      <td>113325717.0</td>\n",
       "      <td>45521878.0</td>\n",
       "    </tr>\n",
       "    <tr>\n",
       "      <th>69</th>\n",
       "      <td>2021-02-27</td>\n",
       "      <td>113694842.0</td>\n",
       "      <td>46345540.0</td>\n",
       "    </tr>\n",
       "  </tbody>\n",
       "</table>\n",
       "<p>70 rows × 3 columns</p>\n",
       "</div>"
      ],
      "text/plain": [
       "   ObservationDate    Confirmed  People_Fully_Vaccinated\n",
       "0       2020-12-20   76818746.0                      0.0\n",
       "1       2020-12-21   77367360.0                      0.0\n",
       "2       2020-12-22   78016498.0                      0.0\n",
       "3       2020-12-23   78710560.0                      0.0\n",
       "4       2020-12-24   79377452.0                      0.0\n",
       "..             ...          ...                      ...\n",
       "65      2021-02-23  112019890.0               41842414.0\n",
       "66      2021-02-24  112464430.0               42359354.0\n",
       "67      2021-02-25  112911535.0               43514673.0\n",
       "68      2021-02-26  113325717.0               45521878.0\n",
       "69      2021-02-27  113694842.0               46345540.0\n",
       "\n",
       "[70 rows x 3 columns]"
      ]
     },
     "execution_count": 239,
     "metadata": {},
     "output_type": "execute_result"
    }
   ],
   "source": [
    "df = pd.read_csv('Confirmed_VS_Vaccinated_US.csv').drop(columns=['Unnamed: 0'])\n",
    "df"
   ]
  },
  {
   "cell_type": "code",
   "execution_count": 240,
   "metadata": {},
   "outputs": [
    {
     "data": {
      "text/plain": [
       "array([[70],\n",
       "       [71],\n",
       "       [72],\n",
       "       [73],\n",
       "       [74],\n",
       "       [75],\n",
       "       [76],\n",
       "       [77],\n",
       "       [78],\n",
       "       [79],\n",
       "       [80],\n",
       "       [81],\n",
       "       [82],\n",
       "       [83],\n",
       "       [84],\n",
       "       [85],\n",
       "       [86],\n",
       "       [87],\n",
       "       [88],\n",
       "       [89],\n",
       "       [90]])"
      ]
     },
     "execution_count": 240,
     "metadata": {},
     "output_type": "execute_result"
    }
   ],
   "source": [
    "x = np.array(df.index.values.tolist()).reshape(-1, 1)\n",
    "list = []\n",
    "for i in range(1,22):\n",
    "    list.append(69 +i)\n",
    "x_pred = np.array(list).reshape(-1, 1)\n",
    "x_pred"
   ]
  },
  {
   "cell_type": "code",
   "execution_count": 241,
   "metadata": {},
   "outputs": [
    {
     "data": {
      "text/plain": [
       "0            0.0\n",
       "1            0.0\n",
       "2            0.0\n",
       "3            0.0\n",
       "4            0.0\n",
       "         ...    \n",
       "65    41842414.0\n",
       "66    42359354.0\n",
       "67    43514673.0\n",
       "68    45521878.0\n",
       "69    46345540.0\n",
       "Name: People_Fully_Vaccinated, Length: 70, dtype: float64"
      ]
     },
     "execution_count": 241,
     "metadata": {},
     "output_type": "execute_result"
    }
   ],
   "source": [
    "y_c_train = df.iloc[:,1]\n",
    "y_v_train = df.iloc[:,-1]\n",
    "y_v_train"
   ]
  },
  {
   "cell_type": "code",
   "execution_count": 242,
   "metadata": {},
   "outputs": [],
   "source": [
    "model_v = PolynomialRegressionModel(polynomial_degree=2)\n",
    "model_v.train(x,y_v_train)"
   ]
  },
  {
   "cell_type": "code",
   "execution_count": 243,
   "metadata": {},
   "outputs": [
    {
     "data": {
      "text/plain": [
       "array([47272311, 49005182, 50768694, 52562847, 54387642, 56243079,\n",
       "       58129157, 60045876, 61993238, 63971241, 65979885, 68019171,\n",
       "       70089098, 72189667, 74320878, 76482730, 78675224, 80898359,\n",
       "       83152136, 85436554, 87751614])"
      ]
     },
     "execution_count": 243,
     "metadata": {},
     "output_type": "execute_result"
    }
   ],
   "source": [
    "y_v_pred = model_v.get_predictions(x_pred)\n",
    "y_v_pred"
   ]
  },
  {
   "cell_type": "code",
   "execution_count": 244,
   "metadata": {},
   "outputs": [
    {
     "data": {
      "text/plain": [
       "<matplotlib.collections.PathCollection at 0x1bdabfaebb0>"
      ]
     },
     "execution_count": 244,
     "metadata": {},
     "output_type": "execute_result"
    },
    {
     "data": {
      "image/png": "[encoded data removed]",
      "text/plain": [
       "<Figure size 432x288 with 1 Axes>"
      ]
     },
     "metadata": {
      "needs_background": "light"
     },
     "output_type": "display_data"
    }
   ],
   "source": [
    "plt.scatter(x, y_v_train, s=10)"
   ]
  },
  {
   "cell_type": "code",
   "execution_count": 245,
   "metadata": {},
   "outputs": [
    {
     "data": {
      "text/plain": [
       "0     50217092.0\n",
       "1     52969506.0\n",
       "2     52933742.0\n",
       "3     56283119.0\n",
       "4     57540294.0\n",
       "5     58534730.0\n",
       "6     58056286.0\n",
       "7     60088698.0\n",
       "8     63270356.0\n",
       "9     64762432.0\n",
       "10    69592914.0\n",
       "11    73010600.0\n",
       "12    75600854.0\n",
       "13    78513026.0\n",
       "14    77982576.0\n",
       "15    82336622.0\n",
       "16    79035899.0\n",
       "17    90713305.0\n",
       "18    88548724.0\n",
       "19    90448901.0\n",
       "20    81404397.0\n",
       "Name: People_Fully_Vaccinated, dtype: float64"
      ]
     },
     "execution_count": 245,
     "metadata": {},
     "output_type": "execute_result"
    }
   ],
   "source": [
    "df_y = pd.read_csv('02_28_to_03_20_vaccination.csv')\n",
    "y_v_test = df_y.iloc[:,-1]\n",
    "y_v_test"
   ]
  },
  {
   "cell_type": "code",
   "execution_count": 246,
   "metadata": {},
   "outputs": [
    {
     "data": {
      "image/png": "[encoded data removed]",
      "text/plain": [
       "<Figure size 432x288 with 1 Axes>"
      ]
     },
     "metadata": {
      "needs_background": "light"
     },
     "output_type": "display_data"
    }
   ],
   "source": [
    "plt.plot(x_pred, y_v_pred, color='m', label=\"Predicted Vaccination\")\n",
    "plt.plot(x_pred, y_v_test, color='r',label=\"Real Vaccination\")\n",
    "#plt.title(\"Amount of \" + model_name + \" in each day\")\n",
    "plt.legend()\n",
    "plt.xlabel(\"Day\")\n",
    "plt.ylabel(\"vaccination\")\n",
    "plt.show()"
   ]
  },
  {
   "cell_type": "markdown",
   "metadata": {},
   "source": [
    "### Get vaccination of 100 days"
   ]
  },
  {
   "cell_type": "code",
   "execution_count": 247,
   "metadata": {},
   "outputs": [],
   "source": [
    "x = np.array(df.index.values.tolist()).reshape(-1, 1)\n",
    "list = []\n",
    "for i in range(1,200):\n",
    "    list.append(69 +i)\n",
    "x_pred = np.array(list).reshape(-1, 1)"
   ]
  },
  {
   "cell_type": "code",
   "execution_count": 248,
   "metadata": {},
   "outputs": [],
   "source": [
    "model_v = PolynomialRegressionModel(polynomial_degree=2)\n",
    "model_v.train(x,y_v_train)"
   ]
  },
  {
   "cell_type": "code",
   "execution_count": 249,
   "metadata": {},
   "outputs": [],
   "source": [
    "y_v_pred = model_v.get_predictions(x_pred)\n",
    "#y_v_pred"
   ]
  },
  {
   "cell_type": "markdown",
   "metadata": {},
   "source": [
    "### Train model with features of days and vaccinations "
   ]
  },
  {
   "cell_type": "code",
   "execution_count": 250,
   "metadata": {},
   "outputs": [
    {
     "data": {
      "text/plain": [
       "0            0.0\n",
       "1            0.0\n",
       "2            0.0\n",
       "3            0.0\n",
       "4            0.0\n",
       "         ...    \n",
       "65    41842414.0\n",
       "66    42359354.0\n",
       "67    43514673.0\n",
       "68    45521878.0\n",
       "69    46345540.0\n",
       "Name: People_Fully_Vaccinated, Length: 70, dtype: float64"
      ]
     },
     "execution_count": 250,
     "metadata": {},
     "output_type": "execute_result"
    }
   ],
   "source": [
    "y_c_train = df.iloc[:,1]\n",
    "vaccination = df.iloc[:,-1]\n",
    "vaccination"
   ]
  },
  {
   "cell_type": "code",
   "execution_count": 251,
   "metadata": {},
   "outputs": [],
   "source": [
    "x_c_train = np.vstack((np.array(df.index.values.tolist()), vaccination)).T\n",
    "#x_c_train"
   ]
  },
  {
   "cell_type": "code",
   "execution_count": 252,
   "metadata": {},
   "outputs": [],
   "source": [
    "model_c = PolynomialRegressionModel(polynomial_degree=1)\n",
    "model_c.train(x_c_train,y_c_train)"
   ]
  },
  {
   "cell_type": "code",
   "execution_count": 253,
   "metadata": {},
   "outputs": [],
   "source": [
    "x_c_test = np.vstack((np.array(list), y_v_pred)).T\n",
    "#x_c_test"
   ]
  },
  {
   "cell_type": "code",
   "execution_count": 254,
   "metadata": {},
   "outputs": [
    {
     "data": {
      "text/plain": [
       "array([114165834, 114496764, 114821621, 115140404, 115453114, 115759750,\n",
       "       116060312, 116354801, 116643217, 116925559, 117201827, 117472022,\n",
       "       117736144, 117994192, 118246166, 118492067, 118731894, 118965648,\n",
       "       119193329, 119414936, 119630469, 119839929, 120043315, 120240628,\n",
       "       120431868, 120617034, 120796126, 120969145, 121136090, 121296962,\n",
       "       121451760, 121600485, 121743137, 121879714, 122010219, 122134650,\n",
       "       122253007, 122365291, 122471501, 122571638, 122665701, 122753691,\n",
       "       122835607, 122911450, 122981219, 123044915, 123102537, 123154086,\n",
       "       123199561, 123238963, 123272291, 123299546, 123320727, 123335835,\n",
       "       123344869, 123347830, 123344717, 123335530, 123320270, 123298937,\n",
       "       123271530, 123238050, 123198496, 123152869, 123101168, 123043393,\n",
       "       122979545, 122909624, 122833629, 122751561, 122663419, 122569203,\n",
       "       122468914, 122362552, 122250116, 122131606, 122007024, 121876367,\n",
       "       121739637, 121596833, 121447957, 121293006, 121131982, 120964885,\n",
       "       120791713, 120612469, 120427151, 120235759, 120038294, 119834756,\n",
       "       119625144, 119409458, 119187699, 118959866, 118725960, 118485981,\n",
       "       118239927, 117987801, 117729601, 117465327, 117194980, 116918559,\n",
       "       116636065, 116347498, 116052856, 115752142, 115445354, 115132492,\n",
       "       114813557, 114488548, 114157466, 113820310, 113477081, 113127778,\n",
       "       112772402, 112410952, 112043429, 111669832, 111290162, 110904418,\n",
       "       110512601, 110114710, 109710746, 109300708, 108884597, 108462412,\n",
       "       108034153, 107599822, 107159416, 106712937, 106260385, 105801759,\n",
       "       105337060, 104866287, 104389440, 103906521, 103417527, 102922460,\n",
       "       102421320, 101914106, 101400819, 100881458, 100356023,  99824515,\n",
       "        99286934,  98743279,  98193551,  97637748,  97075873,  96507924,\n",
       "        95933901,  95353805,  94767636,  94175393,  93577076,  92972686,\n",
       "        92362223,  91745686,  91123075,  90494391,  89859634,  89218803,\n",
       "        88571898,  87918920,  87259868,  86594743,  85923545,  85246273,\n",
       "        84562927,  83873508,  83178015,  82476449,  81768809,  81055096,\n",
       "        80335310,  79609449,  78877516,  78139508,  77395428,  76645274,\n",
       "        75889046,  75126745,  74358370,  73583922,  72803400,  72016805,\n",
       "        71224136,  70425394,  69620578,  68809689,  67992726,  67169690,\n",
       "        66340580,  65505397,  64664140,  63816810,  62963406,  62103928,\n",
       "        61238378])"
      ]
     },
     "execution_count": 254,
     "metadata": {},
     "output_type": "execute_result"
    }
   ],
   "source": [
    "y_c_pred = model_c.get_predictions(x_c_test)\n",
    "y_c_pred"
   ]
  },
  {
   "cell_type": "code",
   "execution_count": 255,
   "metadata": {},
   "outputs": [
    {
     "data": {
      "image/png": "[encoded data removed]",
      "text/plain": [
       "<Figure size 432x288 with 1 Axes>"
      ]
     },
     "metadata": {
      "needs_background": "light"
     },
     "output_type": "display_data"
    }
   ],
   "source": [
    "plt.plot(x_pred, y_v_pred, color='r', label=\"predicted vaccination\")\n",
    "plt.plot(x_pred,y_c_pred,color='b', label=\"predicted confirmed cases\")\n",
    "#plt.title(\"Amount of \" + model_name + \" in each day\")\n",
    "plt.legend()\n",
    "plt.xlabel(\"Day\")\n",
    "plt.ylabel(\"Cases/Vacciantions\")\n",
    "plt.show()"
   ]
  }
 ],
 "metadata": {
  "kernelspec": {
   "display_name": "Python 3",
   "language": "python",
   "name": "python3"
  },
  "language_info": {
   "codemirror_mode": {
    "name": "ipython",
    "version": 3
   },
   "file_extension": ".py",
   "mimetype": "text/x-python",
   "name": "python",
   "nbconvert_exporter": "python",
   "pygments_lexer": "ipython3",
   "version": "3.9.1"
  }
 },
 "nbformat": 4,
 "nbformat_minor": 1
}