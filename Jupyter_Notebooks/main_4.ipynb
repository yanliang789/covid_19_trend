{
 "cells": [
  {
   "cell_type": "code",
   "execution_count": 17,
   "metadata": {},
   "outputs": [],
   "source": [
    "from PolynomialRegressionModel import *\n",
    "import numpy as np\n",
    "import pandas as pd\n",
    "import matplotlib.pyplot as plt\n",
    "from NN import NeuralNetModel\n",
    "import json"
   ]
  },
  {
   "cell_type": "code",
   "execution_count": 18,
   "metadata": {},
   "outputs": [],
   "source": [
    "with open(\"config.json\", \"r\") as f:\n",
    "    config = json.load(f)"
   ]
  },
  {
   "cell_type": "code",
   "execution_count": 19,
   "metadata": {},
   "outputs": [
    {
     "data": {
      "text/plain": [
       "{'enabled': True,\n",
       " 'model_name': 'Cases',\n",
       " 'model': {'type': 'neural_net',\n",
       "  'alpha': 1e-06,\n",
       "  'hidden_layer_sizes': 5000,\n",
       "  'learning_rate_init': 0.01,\n",
       "  'max_iter': 100000,\n",
       "  'batch_size': 32,\n",
       "  'tol': 1e-06,\n",
       "  'n_iter_no_change': 250,\n",
       "  'verbose': False},\n",
       " 'datagrabber_class': 'CasesDataGrabber',\n",
       " 'grab_data_from_server': True,\n",
       " 'offline_dataset_date': '2020-09-26',\n",
       " 'days_to_predict': 10}"
      ]
     },
     "execution_count": 19,
     "metadata": {},
     "output_type": "execute_result"
    }
   ],
   "source": [
    "model_config = config[\"models\"]\n",
    "model_config"
   ]
  },
  {
   "cell_type": "code",
   "execution_count": 20,
   "metadata": {},
   "outputs": [
    {
     "data": {
      "text/html": [
       "<div>\n",
       "<style scoped>\n",
       "    .dataframe tbody tr th:only-of-type {\n",
       "        vertical-align: middle;\n",
       "    }\n",
       "\n",
       "    .dataframe tbody tr th {\n",
       "        vertical-align: top;\n",
       "    }\n",
       "\n",
       "    .dataframe thead th {\n",
       "        text-align: right;\n",
       "    }\n",
       "</style>\n",
       "<table border=\"1\" class=\"dataframe\">\n",
       "  <thead>\n",
       "    <tr style=\"text-align: right;\">\n",
       "      <th></th>\n",
       "      <th>ObservationDate</th>\n",
       "      <th>Confirmed</th>\n",
       "      <th>People_Fully_Vaccinated</th>\n",
       "    </tr>\n",
       "  </thead>\n",
       "  <tbody>\n",
       "    <tr>\n",
       "      <th>0</th>\n",
       "      <td>2020-01-22</td>\n",
       "      <td>1.0</td>\n",
       "      <td>0.0</td>\n",
       "    </tr>\n",
       "    <tr>\n",
       "      <th>1</th>\n",
       "      <td>2020-01-23</td>\n",
       "      <td>1.0</td>\n",
       "      <td>0.0</td>\n",
       "    </tr>\n",
       "    <tr>\n",
       "      <th>2</th>\n",
       "      <td>2020-01-24</td>\n",
       "      <td>2.0</td>\n",
       "      <td>0.0</td>\n",
       "    </tr>\n",
       "    <tr>\n",
       "      <th>3</th>\n",
       "      <td>2020-01-25</td>\n",
       "      <td>2.0</td>\n",
       "      <td>0.0</td>\n",
       "    </tr>\n",
       "    <tr>\n",
       "      <th>4</th>\n",
       "      <td>2020-01-26</td>\n",
       "      <td>5.0</td>\n",
       "      <td>0.0</td>\n",
       "    </tr>\n",
       "    <tr>\n",
       "      <th>...</th>\n",
       "      <td>...</td>\n",
       "      <td>...</td>\n",
       "      <td>...</td>\n",
       "    </tr>\n",
       "    <tr>\n",
       "      <th>462</th>\n",
       "      <td>2021-04-28</td>\n",
       "      <td>32230850.0</td>\n",
       "      <td>199426393.0</td>\n",
       "    </tr>\n",
       "    <tr>\n",
       "      <th>463</th>\n",
       "      <td>2021-04-29</td>\n",
       "      <td>32289049.0</td>\n",
       "      <td>202713598.0</td>\n",
       "    </tr>\n",
       "    <tr>\n",
       "      <th>464</th>\n",
       "      <td>2021-04-30</td>\n",
       "      <td>32346971.0</td>\n",
       "      <td>206220484.0</td>\n",
       "    </tr>\n",
       "    <tr>\n",
       "      <th>465</th>\n",
       "      <td>2021-05-01</td>\n",
       "      <td>32392274.0</td>\n",
       "      <td>210278776.0</td>\n",
       "    </tr>\n",
       "    <tr>\n",
       "      <th>466</th>\n",
       "      <td>2021-05-02</td>\n",
       "      <td>32421534.0</td>\n",
       "      <td>213016060.0</td>\n",
       "    </tr>\n",
       "  </tbody>\n",
       "</table>\n",
       "<p>467 rows × 3 columns</p>\n",
       "</div>"
      ],
      "text/plain": [
       "    ObservationDate   Confirmed  People_Fully_Vaccinated\n",
       "0        2020-01-22         1.0                      0.0\n",
       "1        2020-01-23         1.0                      0.0\n",
       "2        2020-01-24         2.0                      0.0\n",
       "3        2020-01-25         2.0                      0.0\n",
       "4        2020-01-26         5.0                      0.0\n",
       "..              ...         ...                      ...\n",
       "462      2021-04-28  32230850.0              199426393.0\n",
       "463      2021-04-29  32289049.0              202713598.0\n",
       "464      2021-04-30  32346971.0              206220484.0\n",
       "465      2021-05-01  32392274.0              210278776.0\n",
       "466      2021-05-02  32421534.0              213016060.0\n",
       "\n",
       "[467 rows x 3 columns]"
      ]
     },
     "execution_count": 20,
     "metadata": {},
     "output_type": "execute_result"
    }
   ],
   "source": [
    "df = pd.read_csv('../Data/Confirmed_Cases_US_Vaccinated_NewDataset.csv').drop(columns=['Unnamed: 0'])\n",
    "df"
   ]
  },
  {
   "cell_type": "code",
   "execution_count": 29,
   "metadata": {},
   "outputs": [
    {
     "data": {
      "text/plain": [
       "array([[  0],\n",
       "       [  1],\n",
       "       [  2],\n",
       "       [  3],\n",
       "       [  4],\n",
       "       [  5],\n",
       "       [  6],\n",
       "       [  7],\n",
       "       [  8],\n",
       "       [  9],\n",
       "       [ 10],\n",
       "       [ 11],\n",
       "       [ 12],\n",
       "       [ 13],\n",
       "       [ 14],\n",
       "       [ 15],\n",
       "       [ 16],\n",
       "       [ 17],\n",
       "       [ 18],\n",
       "       [ 19],\n",
       "       [ 20],\n",
       "       [ 21],\n",
       "       [ 22],\n",
       "       [ 23],\n",
       "       [ 24],\n",
       "       [ 25],\n",
       "       [ 26],\n",
       "       [ 27],\n",
       "       [ 28],\n",
       "       [ 29],\n",
       "       [ 30],\n",
       "       [ 31],\n",
       "       [ 32],\n",
       "       [ 33],\n",
       "       [ 34],\n",
       "       [ 35],\n",
       "       [ 36],\n",
       "       [ 37],\n",
       "       [ 38],\n",
       "       [ 39],\n",
       "       [ 40],\n",
       "       [ 41],\n",
       "       [ 42],\n",
       "       [ 43],\n",
       "       [ 44],\n",
       "       [ 45],\n",
       "       [ 46],\n",
       "       [ 47],\n",
       "       [ 48],\n",
       "       [ 49],\n",
       "       [ 50],\n",
       "       [ 51],\n",
       "       [ 52],\n",
       "       [ 53],\n",
       "       [ 54],\n",
       "       [ 55],\n",
       "       [ 56],\n",
       "       [ 57],\n",
       "       [ 58],\n",
       "       [ 59],\n",
       "       [ 60],\n",
       "       [ 61],\n",
       "       [ 62],\n",
       "       [ 63],\n",
       "       [ 64],\n",
       "       [ 65],\n",
       "       [ 66],\n",
       "       [ 67],\n",
       "       [ 68],\n",
       "       [ 69],\n",
       "       [ 70],\n",
       "       [ 71],\n",
       "       [ 72],\n",
       "       [ 73],\n",
       "       [ 74],\n",
       "       [ 75],\n",
       "       [ 76],\n",
       "       [ 77],\n",
       "       [ 78],\n",
       "       [ 79],\n",
       "       [ 80],\n",
       "       [ 81],\n",
       "       [ 82],\n",
       "       [ 83],\n",
       "       [ 84],\n",
       "       [ 85],\n",
       "       [ 86],\n",
       "       [ 87],\n",
       "       [ 88],\n",
       "       [ 89],\n",
       "       [ 90],\n",
       "       [ 91],\n",
       "       [ 92],\n",
       "       [ 93],\n",
       "       [ 94],\n",
       "       [ 95],\n",
       "       [ 96],\n",
       "       [ 97],\n",
       "       [ 98],\n",
       "       [ 99],\n",
       "       [100],\n",
       "       [101],\n",
       "       [102],\n",
       "       [103],\n",
       "       [104],\n",
       "       [105],\n",
       "       [106],\n",
       "       [107],\n",
       "       [108],\n",
       "       [109],\n",
       "       [110],\n",
       "       [111],\n",
       "       [112],\n",
       "       [113],\n",
       "       [114],\n",
       "       [115],\n",
       "       [116],\n",
       "       [117],\n",
       "       [118],\n",
       "       [119],\n",
       "       [120],\n",
       "       [121],\n",
       "       [122],\n",
       "       [123],\n",
       "       [124],\n",
       "       [125],\n",
       "       [126],\n",
       "       [127],\n",
       "       [128],\n",
       "       [129],\n",
       "       [130],\n",
       "       [131],\n",
       "       [132],\n",
       "       [133],\n",
       "       [134],\n",
       "       [135],\n",
       "       [136],\n",
       "       [137],\n",
       "       [138],\n",
       "       [139],\n",
       "       [140],\n",
       "       [141],\n",
       "       [142],\n",
       "       [143],\n",
       "       [144],\n",
       "       [145],\n",
       "       [146],\n",
       "       [147],\n",
       "       [148],\n",
       "       [149],\n",
       "       [150],\n",
       "       [151],\n",
       "       [152],\n",
       "       [153],\n",
       "       [154],\n",
       "       [155],\n",
       "       [156],\n",
       "       [157],\n",
       "       [158],\n",
       "       [159],\n",
       "       [160],\n",
       "       [161],\n",
       "       [162],\n",
       "       [163],\n",
       "       [164],\n",
       "       [165],\n",
       "       [166],\n",
       "       [167],\n",
       "       [168],\n",
       "       [169],\n",
       "       [170],\n",
       "       [171],\n",
       "       [172],\n",
       "       [173],\n",
       "       [174],\n",
       "       [175],\n",
       "       [176],\n",
       "       [177],\n",
       "       [178],\n",
       "       [179],\n",
       "       [180],\n",
       "       [181],\n",
       "       [182],\n",
       "       [183],\n",
       "       [184],\n",
       "       [185],\n",
       "       [186],\n",
       "       [187],\n",
       "       [188],\n",
       "       [189],\n",
       "       [190],\n",
       "       [191],\n",
       "       [192],\n",
       "       [193],\n",
       "       [194],\n",
       "       [195],\n",
       "       [196],\n",
       "       [197],\n",
       "       [198],\n",
       "       [199],\n",
       "       [200],\n",
       "       [201],\n",
       "       [202],\n",
       "       [203],\n",
       "       [204],\n",
       "       [205],\n",
       "       [206],\n",
       "       [207],\n",
       "       [208],\n",
       "       [209],\n",
       "       [210],\n",
       "       [211],\n",
       "       [212],\n",
       "       [213],\n",
       "       [214],\n",
       "       [215],\n",
       "       [216],\n",
       "       [217],\n",
       "       [218],\n",
       "       [219],\n",
       "       [220],\n",
       "       [221],\n",
       "       [222],\n",
       "       [223],\n",
       "       [224],\n",
       "       [225],\n",
       "       [226],\n",
       "       [227],\n",
       "       [228],\n",
       "       [229],\n",
       "       [230],\n",
       "       [231],\n",
       "       [232],\n",
       "       [233],\n",
       "       [234],\n",
       "       [235],\n",
       "       [236],\n",
       "       [237],\n",
       "       [238],\n",
       "       [239],\n",
       "       [240],\n",
       "       [241],\n",
       "       [242],\n",
       "       [243],\n",
       "       [244],\n",
       "       [245],\n",
       "       [246],\n",
       "       [247],\n",
       "       [248],\n",
       "       [249],\n",
       "       [250],\n",
       "       [251],\n",
       "       [252],\n",
       "       [253],\n",
       "       [254],\n",
       "       [255],\n",
       "       [256],\n",
       "       [257],\n",
       "       [258],\n",
       "       [259],\n",
       "       [260],\n",
       "       [261],\n",
       "       [262],\n",
       "       [263],\n",
       "       [264],\n",
       "       [265],\n",
       "       [266],\n",
       "       [267],\n",
       "       [268],\n",
       "       [269],\n",
       "       [270],\n",
       "       [271],\n",
       "       [272],\n",
       "       [273],\n",
       "       [274],\n",
       "       [275],\n",
       "       [276],\n",
       "       [277],\n",
       "       [278],\n",
       "       [279],\n",
       "       [280],\n",
       "       [281],\n",
       "       [282],\n",
       "       [283],\n",
       "       [284],\n",
       "       [285],\n",
       "       [286],\n",
       "       [287],\n",
       "       [288],\n",
       "       [289],\n",
       "       [290],\n",
       "       [291],\n",
       "       [292],\n",
       "       [293],\n",
       "       [294],\n",
       "       [295],\n",
       "       [296],\n",
       "       [297],\n",
       "       [298],\n",
       "       [299],\n",
       "       [300],\n",
       "       [301],\n",
       "       [302],\n",
       "       [303],\n",
       "       [304],\n",
       "       [305],\n",
       "       [306],\n",
       "       [307],\n",
       "       [308],\n",
       "       [309],\n",
       "       [310],\n",
       "       [311],\n",
       "       [312],\n",
       "       [313],\n",
       "       [314],\n",
       "       [315],\n",
       "       [316],\n",
       "       [317],\n",
       "       [318],\n",
       "       [319],\n",
       "       [320],\n",
       "       [321],\n",
       "       [322],\n",
       "       [323],\n",
       "       [324],\n",
       "       [325],\n",
       "       [326],\n",
       "       [327],\n",
       "       [328],\n",
       "       [329],\n",
       "       [330],\n",
       "       [331],\n",
       "       [332],\n",
       "       [333],\n",
       "       [334],\n",
       "       [335],\n",
       "       [336],\n",
       "       [337],\n",
       "       [338],\n",
       "       [339],\n",
       "       [340],\n",
       "       [341],\n",
       "       [342],\n",
       "       [343],\n",
       "       [344],\n",
       "       [345],\n",
       "       [346],\n",
       "       [347],\n",
       "       [348],\n",
       "       [349],\n",
       "       [350],\n",
       "       [351],\n",
       "       [352],\n",
       "       [353],\n",
       "       [354],\n",
       "       [355],\n",
       "       [356],\n",
       "       [357],\n",
       "       [358],\n",
       "       [359],\n",
       "       [360],\n",
       "       [361],\n",
       "       [362],\n",
       "       [363],\n",
       "       [364],\n",
       "       [365],\n",
       "       [366],\n",
       "       [367],\n",
       "       [368],\n",
       "       [369],\n",
       "       [370],\n",
       "       [371],\n",
       "       [372],\n",
       "       [373],\n",
       "       [374],\n",
       "       [375],\n",
       "       [376],\n",
       "       [377],\n",
       "       [378],\n",
       "       [379],\n",
       "       [380],\n",
       "       [381],\n",
       "       [382],\n",
       "       [383],\n",
       "       [384],\n",
       "       [385],\n",
       "       [386],\n",
       "       [387],\n",
       "       [388],\n",
       "       [389],\n",
       "       [390],\n",
       "       [391],\n",
       "       [392],\n",
       "       [393],\n",
       "       [394],\n",
       "       [395],\n",
       "       [396],\n",
       "       [397],\n",
       "       [398],\n",
       "       [399]])"
      ]
     },
     "execution_count": 29,
     "metadata": {},
     "output_type": "execute_result"
    }
   ],
   "source": [
    "x = np.array(df.iloc[0:400,:].index.values.tolist()).reshape(-1, 1)\n",
    "x"
   ]
  },
  {
   "cell_type": "code",
   "execution_count": 30,
   "metadata": {},
   "outputs": [
    {
     "data": {
      "text/plain": [
       "array([[400],\n",
       "       [401],\n",
       "       [402],\n",
       "       [403],\n",
       "       [404],\n",
       "       [405],\n",
       "       [406],\n",
       "       [407],\n",
       "       [408],\n",
       "       [409],\n",
       "       [410],\n",
       "       [411],\n",
       "       [412],\n",
       "       [413],\n",
       "       [414],\n",
       "       [415],\n",
       "       [416],\n",
       "       [417],\n",
       "       [418],\n",
       "       [419],\n",
       "       [420],\n",
       "       [421],\n",
       "       [422],\n",
       "       [423],\n",
       "       [424],\n",
       "       [425],\n",
       "       [426],\n",
       "       [427],\n",
       "       [428],\n",
       "       [429],\n",
       "       [430],\n",
       "       [431]])"
      ]
     },
     "execution_count": 30,
     "metadata": {},
     "output_type": "execute_result"
    }
   ],
   "source": [
    "list = []\n",
    "for i in range(0,32):\n",
    "    list.append(400 +i)\n",
    "x_pred = np.array(list).reshape(-1, 1)\n",
    "x_pred"
   ]
  },
  {
   "cell_type": "code",
   "execution_count": 32,
   "metadata": {},
   "outputs": [
    {
     "data": {
      "text/plain": [
       "0             0.0\n",
       "1             0.0\n",
       "2             0.0\n",
       "3             0.0\n",
       "4             0.0\n",
       "          ...    \n",
       "395    36662603.0\n",
       "396    38646621.0\n",
       "397    39830639.0\n",
       "398    40753622.0\n",
       "399    42237364.0\n",
       "Name: People_Fully_Vaccinated, Length: 400, dtype: float64"
      ]
     },
     "execution_count": 32,
     "metadata": {},
     "output_type": "execute_result"
    }
   ],
   "source": [
    "y_v_train = df.iloc[0:400,-1]\n",
    "y_v_train"
   ]
  },
  {
   "cell_type": "code",
   "execution_count": 33,
   "metadata": {},
   "outputs": [],
   "source": [
    "neural_net_model = NeuralNetModel(model_config[\"model_name\"])\n",
    "neural_net_model.train(x, y_v_train, model_config[\"model\"])"
   ]
  },
  {
   "cell_type": "code",
   "execution_count": 34,
   "metadata": {},
   "outputs": [],
   "source": [
    "beginning_day=len(x)\n",
    "limit=10\n",
    "next_days_x = np.array(range(beginning_day, beginning_day + limit)).reshape(-1, 1)\n",
    "y_v_pred = neural_net_model.get_predictions(x_pred)"
   ]
  },
  {
   "cell_type": "code",
   "execution_count": 35,
   "metadata": {},
   "outputs": [
    {
     "data": {
      "text/plain": [
       "array([25171161, 25633732, 26096302, 26558873, 27021444, 27484014,\n",
       "       27946585, 28409155, 28871726, 29334296, 29796867, 30259438,\n",
       "       30722008, 31184579, 31647149, 32109720, 32572290, 33034861,\n",
       "       33497432, 33960002, 34422573, 34885143, 35347714, 35810285,\n",
       "       36272855, 36735426, 37197996, 37660567, 38123137, 38585708,\n",
       "       39048279, 39510849], dtype=int32)"
      ]
     },
     "execution_count": 35,
     "metadata": {},
     "output_type": "execute_result"
    }
   ],
   "source": [
    "y_v_pred"
   ]
  },
  {
   "cell_type": "code",
   "execution_count": 36,
   "metadata": {},
   "outputs": [
    {
     "data": {
      "text/plain": [
       "<matplotlib.collections.PathCollection at 0x137b17460>"
      ]
     },
     "execution_count": 36,
     "metadata": {},
     "output_type": "execute_result"
    },
    {
     "data": {
      "image/png": "[encoded data removed]",
      "text/plain": [
       "<Figure size 432x288 with 1 Axes>"
      ]
     },
     "metadata": {
      "needs_background": "light"
     },
     "output_type": "display_data"
    }
   ],
   "source": [
    "plt.scatter(x, y_v_train, s=10)"
   ]
  },
  {
   "cell_type": "code",
   "execution_count": 45,
   "metadata": {},
   "outputs": [
    {
     "data": {
      "text/plain": [
       "400     44096712.0\n",
       "401     46252199.0\n",
       "402     48493135.0\n",
       "403     50699588.0\n",
       "404     52096977.0\n",
       "405     53501643.0\n",
       "406     55126552.0\n",
       "407     56841037.0\n",
       "408     58691006.0\n",
       "409     60883263.0\n",
       "410     62744094.0\n",
       "411     64390483.0\n",
       "412     65646672.0\n",
       "413     67289666.0\n",
       "414     69252556.0\n",
       "415     71578210.0\n",
       "416     75543687.0\n",
       "417     76609480.0\n",
       "418     78440516.0\n",
       "419     79872266.0\n",
       "420     81800777.0\n",
       "421     83829418.0\n",
       "422     85777975.0\n",
       "423     88020607.0\n",
       "424     90272606.0\n",
       "425     91843540.0\n",
       "426     93096352.0\n",
       "427     94791129.0\n",
       "428     96938836.0\n",
       "429     99546515.0\n",
       "430    102491174.0\n",
       "431    105451667.0\n",
       "Name: People_Fully_Vaccinated, dtype: float64"
      ]
     },
     "execution_count": 45,
     "metadata": {},
     "output_type": "execute_result"
    }
   ],
   "source": [
    "y_v_test = df.iloc[400:432,-1]\n",
    "y_v_test"
   ]
  },
  {
   "cell_type": "code",
   "execution_count": 46,
   "metadata": {},
   "outputs": [
    {
     "data": {
      "image/png": "[encoded data removed]",
      "text/plain": [
       "<Figure size 432x288 with 1 Axes>"
      ]
     },
     "metadata": {
      "needs_background": "light"
     },
     "output_type": "display_data"
    }
   ],
   "source": [
    "plt.plot(x_pred, y_v_pred, color='m', label=\"Predicted Vaccination\")\n",
    "plt.plot(x_pred, y_v_test, color='r',label=\"Real Vaccination\")\n",
    "#plt.title(\"Amount of \" + model_name + \" in each day\")\n",
    "plt.legend()\n",
    "plt.xlabel(\"Day\")\n",
    "plt.ylabel(\"vaccination\")\n",
    "plt.show()"
   ]
  },
  {
   "cell_type": "code",
   "execution_count": 47,
   "metadata": {},
   "outputs": [
    {
     "data": {
      "text/plain": [
       "400     44096712.0\n",
       "401     46252199.0\n",
       "402     48493135.0\n",
       "403     50699588.0\n",
       "404     52096977.0\n",
       "405     53501643.0\n",
       "406     55126552.0\n",
       "407     56841037.0\n",
       "408     58691006.0\n",
       "409     60883263.0\n",
       "410     62744094.0\n",
       "411     64390483.0\n",
       "412     65646672.0\n",
       "413     67289666.0\n",
       "414     69252556.0\n",
       "415     71578210.0\n",
       "416     75543687.0\n",
       "417     76609480.0\n",
       "418     78440516.0\n",
       "419     79872266.0\n",
       "420     81800777.0\n",
       "421     83829418.0\n",
       "422     85777975.0\n",
       "423     88020607.0\n",
       "424     90272606.0\n",
       "425     91843540.0\n",
       "426     93096352.0\n",
       "427     94791129.0\n",
       "428     96938836.0\n",
       "429     99546515.0\n",
       "430    102491174.0\n",
       "431    105451667.0\n",
       "Name: People_Fully_Vaccinated, dtype: float64"
      ]
     },
     "execution_count": 47,
     "metadata": {},
     "output_type": "execute_result"
    }
   ],
   "source": [
    "y_c_train = df.iloc[400:432,1]\n",
    "vaccination = df.iloc[400:432,-1]\n",
    "vaccination"
   ]
  },
  {
   "cell_type": "code",
   "execution_count": 53,
   "metadata": {},
   "outputs": [
    {
     "data": {
      "text/plain": [
       "array([[4.00000000e+02, 4.40967120e+07],\n",
       "       [4.01000000e+02, 4.62521990e+07],\n",
       "       [4.02000000e+02, 4.84931350e+07],\n",
       "       [4.03000000e+02, 5.06995880e+07],\n",
       "       [4.04000000e+02, 5.20969770e+07],\n",
       "       [4.05000000e+02, 5.35016430e+07],\n",
       "       [4.06000000e+02, 5.51265520e+07],\n",
       "       [4.07000000e+02, 5.68410370e+07],\n",
       "       [4.08000000e+02, 5.86910060e+07],\n",
       "       [4.09000000e+02, 6.08832630e+07],\n",
       "       [4.10000000e+02, 6.27440940e+07],\n",
       "       [4.11000000e+02, 6.43904830e+07],\n",
       "       [4.12000000e+02, 6.56466720e+07],\n",
       "       [4.13000000e+02, 6.72896660e+07],\n",
       "       [4.14000000e+02, 6.92525560e+07],\n",
       "       [4.15000000e+02, 7.15782100e+07],\n",
       "       [4.16000000e+02, 7.55436870e+07],\n",
       "       [4.17000000e+02, 7.66094800e+07],\n",
       "       [4.18000000e+02, 7.84405160e+07],\n",
       "       [4.19000000e+02, 7.98722660e+07],\n",
       "       [4.20000000e+02, 8.18007770e+07],\n",
       "       [4.21000000e+02, 8.38294180e+07],\n",
       "       [4.22000000e+02, 8.57779750e+07],\n",
       "       [4.23000000e+02, 8.80206070e+07],\n",
       "       [4.24000000e+02, 9.02726060e+07],\n",
       "       [4.25000000e+02, 9.18435400e+07],\n",
       "       [4.26000000e+02, 9.30963520e+07],\n",
       "       [4.27000000e+02, 9.47911290e+07],\n",
       "       [4.28000000e+02, 9.69388360e+07],\n",
       "       [4.29000000e+02, 9.95465150e+07],\n",
       "       [4.30000000e+02, 1.02491174e+08],\n",
       "       [4.31000000e+02, 1.05451667e+08]])"
      ]
     },
     "execution_count": 53,
     "metadata": {},
     "output_type": "execute_result"
    }
   ],
   "source": [
    "x_c_train = np.vstack((np.array(df.iloc[400:432,:].index.values.tolist()), vaccination)).T\n",
    "x_c_train"
   ]
  },
  {
   "cell_type": "code",
   "execution_count": 56,
   "metadata": {},
   "outputs": [],
   "source": [
    "neural_net_model = NeuralNetModel(model_config[\"model_name\"])\n",
    "neural_net_model.train(x_c_train, y_c_train, model_config[\"model\"])"
   ]
  },
  {
   "cell_type": "code",
   "execution_count": 57,
   "metadata": {},
   "outputs": [
    {
     "data": {
      "text/plain": [
       "array([[     400, 25171161],\n",
       "       [     401, 25633732],\n",
       "       [     402, 26096302],\n",
       "       [     403, 26558873],\n",
       "       [     404, 27021444],\n",
       "       [     405, 27484014],\n",
       "       [     406, 27946585],\n",
       "       [     407, 28409155],\n",
       "       [     408, 28871726],\n",
       "       [     409, 29334296],\n",
       "       [     410, 29796867],\n",
       "       [     411, 30259438],\n",
       "       [     412, 30722008],\n",
       "       [     413, 31184579],\n",
       "       [     414, 31647149],\n",
       "       [     415, 32109720],\n",
       "       [     416, 32572290],\n",
       "       [     417, 33034861],\n",
       "       [     418, 33497432],\n",
       "       [     419, 33960002],\n",
       "       [     420, 34422573],\n",
       "       [     421, 34885143],\n",
       "       [     422, 35347714],\n",
       "       [     423, 35810285],\n",
       "       [     424, 36272855],\n",
       "       [     425, 36735426],\n",
       "       [     426, 37197996],\n",
       "       [     427, 37660567],\n",
       "       [     428, 38123137],\n",
       "       [     429, 38585708],\n",
       "       [     430, 39048279],\n",
       "       [     431, 39510849]])"
      ]
     },
     "execution_count": 57,
     "metadata": {},
     "output_type": "execute_result"
    }
   ],
   "source": [
    "x_c_test = np.vstack((np.array(list), y_v_pred)).T\n",
    "x_c_test"
   ]
  },
  {
   "cell_type": "code",
   "execution_count": 58,
   "metadata": {},
   "outputs": [
    {
     "data": {
      "text/plain": [
       "array([ 9601769,  9776839,  9951908, 10126979, 10302049, 10477118,\n",
       "       10652189, 10827258, 11002328, 11177398, 11352468, 11527538,\n",
       "       11702608, 11877678, 12052748, 12227818, 12402888, 12577958,\n",
       "       12753028, 12928098, 13103168, 13278238, 13453308, 13628378,\n",
       "       13803448, 13978518, 14153588, 14328658, 14503728, 14678798,\n",
       "       14853868, 15028938], dtype=int32)"
      ]
     },
     "execution_count": 58,
     "metadata": {},
     "output_type": "execute_result"
    }
   ],
   "source": [
    "y_c_pred = neural_net_model.get_predictions(x_c_test)\n",
    "y_c_pred"
   ]
  },
  {
   "cell_type": "code",
   "execution_count": 59,
   "metadata": {},
   "outputs": [
    {
     "data": {
      "text/plain": [
       "array([[4.00000000e+02, 4.40967120e+07],\n",
       "       [4.01000000e+02, 4.62521990e+07],\n",
       "       [4.02000000e+02, 4.84931350e+07],\n",
       "       [4.03000000e+02, 5.06995880e+07],\n",
       "       [4.04000000e+02, 5.20969770e+07],\n",
       "       [4.05000000e+02, 5.35016430e+07],\n",
       "       [4.06000000e+02, 5.51265520e+07],\n",
       "       [4.07000000e+02, 5.68410370e+07],\n",
       "       [4.08000000e+02, 5.86910060e+07],\n",
       "       [4.09000000e+02, 6.08832630e+07],\n",
       "       [4.10000000e+02, 6.27440940e+07],\n",
       "       [4.11000000e+02, 6.43904830e+07],\n",
       "       [4.12000000e+02, 6.56466720e+07],\n",
       "       [4.13000000e+02, 6.72896660e+07],\n",
       "       [4.14000000e+02, 6.92525560e+07],\n",
       "       [4.15000000e+02, 7.15782100e+07],\n",
       "       [4.16000000e+02, 7.55436870e+07],\n",
       "       [4.17000000e+02, 7.66094800e+07],\n",
       "       [4.18000000e+02, 7.84405160e+07],\n",
       "       [4.19000000e+02, 7.98722660e+07],\n",
       "       [4.20000000e+02, 8.18007770e+07],\n",
       "       [4.21000000e+02, 8.38294180e+07],\n",
       "       [4.22000000e+02, 8.57779750e+07],\n",
       "       [4.23000000e+02, 8.80206070e+07],\n",
       "       [4.24000000e+02, 9.02726060e+07],\n",
       "       [4.25000000e+02, 9.18435400e+07],\n",
       "       [4.26000000e+02, 9.30963520e+07],\n",
       "       [4.27000000e+02, 9.47911290e+07],\n",
       "       [4.28000000e+02, 9.69388360e+07],\n",
       "       [4.29000000e+02, 9.95465150e+07],\n",
       "       [4.30000000e+02, 1.02491174e+08],\n",
       "       [4.31000000e+02, 1.05451667e+08]])"
      ]
     },
     "execution_count": 59,
     "metadata": {},
     "output_type": "execute_result"
    }
   ],
   "source": [
    "x_c_test_real = np.vstack((np.array(list), np.array(y_v_test.tolist()))).T\n",
    "x_c_test_real"
   ]
  },
  {
   "cell_type": "code",
   "execution_count": 60,
   "metadata": {},
   "outputs": [
    {
     "data": {
      "text/plain": [
       "array([16755685, 17570683, 18417980, 19252243, 19780677, 20311862,\n",
       "       20926300, 21574597, 22274108, 23103005, 23806621, 24429178,\n",
       "       24904239, 25525512, 26267708, 27147029, 28646208, 29049298,\n",
       "       29741652, 30283075, 31012275, 31779324, 32516102, 33364040,\n",
       "       34215520, 34809555, 35283338, 35924186, 36736243, 37722170,\n",
       "       38835477, 39954770], dtype=int32)"
      ]
     },
     "execution_count": 60,
     "metadata": {},
     "output_type": "execute_result"
    }
   ],
   "source": [
    "y_c_pred_real = neural_net_model.get_predictions(x_c_test_real)\n",
    "y_c_pred_real"
   ]
  },
  {
   "cell_type": "code",
   "execution_count": 61,
   "metadata": {},
   "outputs": [
    {
     "data": {
      "text/plain": [
       "400    28455466.0\n",
       "401    28532812.0\n",
       "402    28597387.0\n",
       "403    28648744.0\n",
       "404    28706973.0\n",
       "405    28764033.0\n",
       "406    28831226.0\n",
       "407    28899277.0\n",
       "408    28965728.0\n",
       "409    29023931.0\n",
       "410    29064938.0\n",
       "411    29109974.0\n",
       "412    29167616.0\n",
       "413    29225536.0\n",
       "414    29288010.0\n",
       "415    29349533.0\n",
       "416    29402465.0\n",
       "417    29440686.0\n",
       "418    29497352.0\n",
       "419    29551309.0\n",
       "420    29610445.0\n",
       "421    29670983.0\n",
       "422    29732612.0\n",
       "423    29787986.0\n",
       "424    29821754.0\n",
       "425    29873347.0\n",
       "426    29926950.0\n",
       "427    30013910.0\n",
       "428    30081375.0\n",
       "429    30158696.0\n",
       "430    30221396.0\n",
       "431    30264493.0\n",
       "Name: Confirmed, dtype: float64"
      ]
     },
     "execution_count": 61,
     "metadata": {},
     "output_type": "execute_result"
    }
   ],
   "source": [
    "y_c_test = df.iloc[400:432,1]\n",
    "y_c_test"
   ]
  },
  {
   "cell_type": "code",
   "execution_count": 62,
   "metadata": {},
   "outputs": [
    {
     "data": {
      "image/png": "[encoded data removed]",
      "text/plain": [
       "<Figure size 864x432 with 2 Axes>"
      ]
     },
     "metadata": {
      "needs_background": "light"
     },
     "output_type": "display_data"
    }
   ],
   "source": [
    "plt.figure(figsize=(12,6))\n",
    "\n",
    "plt.subplot(1,2,1)\n",
    "plt.plot(x_pred, y_c_test, color='r', label=\"Real confirmed cases\")\n",
    "plt.plot(x_pred,y_c_pred,color='b', label=\"predicted confirmed cases\")\n",
    "#plt.title(\"Amount of \" + model_name + \" in each day\")\n",
    "plt.legend()\n",
    "plt.xlabel(\"Day\")\n",
    "plt.ylabel(\"Cases\")\n",
    "\n",
    "plt.subplot(1,2,2)\n",
    "plt.plot(x_pred, y_c_test, color='r', label=\"Real confirmed cases\")\n",
    "plt.plot(x_pred,y_c_pred_real,color='b', label=\"predicted confirmed cases with real vaccination\")\n",
    "#plt.title(\"Amount of \" + model_name + \" in each day\")\n",
    "plt.legend()\n",
    "plt.xlabel(\"Day\")\n",
    "plt.ylabel(\"Cases\")\n",
    "\n",
    "plt.show()"
   ]
  },
  {
   "cell_type": "code",
   "execution_count": 63,
   "metadata": {},
   "outputs": [
    {
     "data": {
      "image/png": "[encoded data removed]",
      "text/plain": [
       "<Figure size 1296x432 with 3 Axes>"
      ]
     },
     "metadata": {
      "needs_background": "light"
     },
     "output_type": "display_data"
    }
   ],
   "source": [
    "plt.figure(figsize=(18,6))\n",
    "\n",
    "plt.subplot(1,3,1)\n",
    "plt.plot(x_pred, y_v_pred, color='r', label=\"predicted vaccination\")\n",
    "plt.plot(x_pred,y_c_pred,color='b', label=\"predicted confirmed cases\")\n",
    "#plt.title(\"Amount of \" + model_name + \" in each day\")\n",
    "plt.legend()\n",
    "plt.xlabel(\"Day\")\n",
    "plt.ylabel(\"Cases/Vacciantions\")\n",
    "\n",
    "plt.subplot(1,3,2)\n",
    "plt.plot(x_pred, y_v_test, color='r', label=\"real vaccination\")\n",
    "plt.plot(x_pred,y_c_test,color='b', label=\"real confirmed cases\")\n",
    "#plt.title(\"Amount of \" + model_name + \" in each day\")\n",
    "plt.legend()\n",
    "plt.xlabel(\"Day\")\n",
    "plt.ylabel(\"Cases/Vacciantions\")\n",
    "\n",
    "plt.subplot(1,3,3)\n",
    "plt.plot(x_pred, y_v_test, color='r', label=\"real vaccination\")\n",
    "plt.plot(x_pred,y_c_pred_real,color='b', label=\"predicted confirmed cases with real vaccination\")\n",
    "#plt.title(\"Amount of \" + model_name + \" in each day\")\n",
    "plt.legend()\n",
    "plt.xlabel(\"Day\")\n",
    "plt.ylabel(\"Cases/Vacciantions\")\n",
    "\n",
    "plt.show()"
   ]
  },
  {
   "cell_type": "code",
   "execution_count": null,
   "metadata": {},
   "outputs": [],
   "source": []
  }
 ],
 "metadata": {
  "kernelspec": {
   "display_name": "PyCharm (Lab1)",
   "language": "python",
   "name": "pycharm-237eae58"
  },
  "language_info": {
   "codemirror_mode": {
    "name": "ipython",
    "version": 3
   },
   "file_extension": ".py",
   "mimetype": "text/x-python",
   "name": "python",
   "nbconvert_exporter": "python",
   "pygments_lexer": "ipython3",
   "version": "3.8.2"
  }
 },
 "nbformat": 4,
 "nbformat_minor": 1
}