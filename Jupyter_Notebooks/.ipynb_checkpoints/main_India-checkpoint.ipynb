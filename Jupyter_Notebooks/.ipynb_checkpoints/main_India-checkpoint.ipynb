{
 "cells": [
  {
   "cell_type": "code",
   "execution_count": 122,
   "id": "referenced-quantum",
   "metadata": {},
   "outputs": [],
   "source": [
    "import numpy as np\n",
    "import pandas as pd\n",
    "import matplotlib.pyplot as plt\n",
    "from PolynomialRegressionModel import *"
   ]
  },
  {
   "cell_type": "code",
   "execution_count": 52,
   "id": "quiet-laugh",
   "metadata": {},
   "outputs": [
    {
     "data": {
      "text/html": [
       "<div>\n",
       "<style scoped>\n",
       "    .dataframe tbody tr th:only-of-type {\n",
       "        vertical-align: middle;\n",
       "    }\n",
       "\n",
       "    .dataframe tbody tr th {\n",
       "        vertical-align: top;\n",
       "    }\n",
       "\n",
       "    .dataframe thead th {\n",
       "        text-align: right;\n",
       "    }\n",
       "</style>\n",
       "<table border=\"1\" class=\"dataframe\">\n",
       "  <thead>\n",
       "    <tr style=\"text-align: right;\">\n",
       "      <th></th>\n",
       "      <th>ObservationDate</th>\n",
       "      <th>Confirmed</th>\n",
       "    </tr>\n",
       "  </thead>\n",
       "  <tbody>\n",
       "    <tr>\n",
       "      <th>0</th>\n",
       "      <td>2020-01-30</td>\n",
       "      <td>1.0</td>\n",
       "    </tr>\n",
       "    <tr>\n",
       "      <th>1</th>\n",
       "      <td>2020-01-31</td>\n",
       "      <td>1.0</td>\n",
       "    </tr>\n",
       "    <tr>\n",
       "      <th>2</th>\n",
       "      <td>2020-02-01</td>\n",
       "      <td>1.0</td>\n",
       "    </tr>\n",
       "    <tr>\n",
       "      <th>3</th>\n",
       "      <td>2020-02-02</td>\n",
       "      <td>2.0</td>\n",
       "    </tr>\n",
       "    <tr>\n",
       "      <th>4</th>\n",
       "      <td>2020-02-03</td>\n",
       "      <td>3.0</td>\n",
       "    </tr>\n",
       "    <tr>\n",
       "      <th>...</th>\n",
       "      <td>...</td>\n",
       "      <td>...</td>\n",
       "    </tr>\n",
       "    <tr>\n",
       "      <th>454</th>\n",
       "      <td>2021-04-28</td>\n",
       "      <td>18376421.0</td>\n",
       "    </tr>\n",
       "    <tr>\n",
       "      <th>455</th>\n",
       "      <td>2021-04-29</td>\n",
       "      <td>18762976.0</td>\n",
       "    </tr>\n",
       "    <tr>\n",
       "      <th>456</th>\n",
       "      <td>2021-04-30</td>\n",
       "      <td>19164969.0</td>\n",
       "    </tr>\n",
       "    <tr>\n",
       "      <th>457</th>\n",
       "      <td>2021-05-01</td>\n",
       "      <td>19557457.0</td>\n",
       "    </tr>\n",
       "    <tr>\n",
       "      <th>458</th>\n",
       "      <td>2021-05-02</td>\n",
       "      <td>19557457.0</td>\n",
       "    </tr>\n",
       "  </tbody>\n",
       "</table>\n",
       "<p>459 rows × 2 columns</p>\n",
       "</div>"
      ],
      "text/plain": [
       "    ObservationDate   Confirmed\n",
       "0        2020-01-30         1.0\n",
       "1        2020-01-31         1.0\n",
       "2        2020-02-01         1.0\n",
       "3        2020-02-02         2.0\n",
       "4        2020-02-03         3.0\n",
       "..              ...         ...\n",
       "454      2021-04-28  18376421.0\n",
       "455      2021-04-29  18762976.0\n",
       "456      2021-04-30  19164969.0\n",
       "457      2021-05-01  19557457.0\n",
       "458      2021-05-02  19557457.0\n",
       "\n",
       "[459 rows x 2 columns]"
      ]
     },
     "execution_count": 52,
     "metadata": {},
     "output_type": "execute_result"
    }
   ],
   "source": [
    "df = pd.read_csv('../Data/Confirmed_Cases_India.csv').drop(columns=['Unnamed: 0'])\n",
    "df"
   ]
  },
  {
   "cell_type": "code",
   "execution_count": 102,
   "id": "japanese-model",
   "metadata": {},
   "outputs": [
    {
     "data": {
      "text/plain": [
       "[337]"
      ]
     },
     "execution_count": 102,
     "metadata": {},
     "output_type": "execute_result"
    }
   ],
   "source": [
    "flag = df[df['ObservationDate']=='2021-01-01'].index.tolist()\n",
    "flag"
   ]
  },
  {
   "cell_type": "code",
   "execution_count": 103,
   "id": "olympic-sunset",
   "metadata": {},
   "outputs": [
    {
     "data": {
      "text/plain": [
       "array([[  0],\n",
       "       [  1],\n",
       "       [  2],\n",
       "       [  3],\n",
       "       [  4],\n",
       "       [  5],\n",
       "       [  6],\n",
       "       [  7],\n",
       "       [  8],\n",
       "       [  9],\n",
       "       [ 10],\n",
       "       [ 11],\n",
       "       [ 12],\n",
       "       [ 13],\n",
       "       [ 14],\n",
       "       [ 15],\n",
       "       [ 16],\n",
       "       [ 17],\n",
       "       [ 18],\n",
       "       [ 19],\n",
       "       [ 20],\n",
       "       [ 21],\n",
       "       [ 22],\n",
       "       [ 23],\n",
       "       [ 24],\n",
       "       [ 25],\n",
       "       [ 26],\n",
       "       [ 27],\n",
       "       [ 28],\n",
       "       [ 29],\n",
       "       [ 30],\n",
       "       [ 31],\n",
       "       [ 32],\n",
       "       [ 33],\n",
       "       [ 34],\n",
       "       [ 35],\n",
       "       [ 36],\n",
       "       [ 37],\n",
       "       [ 38],\n",
       "       [ 39],\n",
       "       [ 40],\n",
       "       [ 41],\n",
       "       [ 42],\n",
       "       [ 43],\n",
       "       [ 44],\n",
       "       [ 45],\n",
       "       [ 46],\n",
       "       [ 47],\n",
       "       [ 48],\n",
       "       [ 49],\n",
       "       [ 50],\n",
       "       [ 51],\n",
       "       [ 52],\n",
       "       [ 53],\n",
       "       [ 54],\n",
       "       [ 55],\n",
       "       [ 56],\n",
       "       [ 57],\n",
       "       [ 58],\n",
       "       [ 59],\n",
       "       [ 60],\n",
       "       [ 61],\n",
       "       [ 62],\n",
       "       [ 63],\n",
       "       [ 64],\n",
       "       [ 65],\n",
       "       [ 66],\n",
       "       [ 67],\n",
       "       [ 68],\n",
       "       [ 69],\n",
       "       [ 70],\n",
       "       [ 71],\n",
       "       [ 72],\n",
       "       [ 73],\n",
       "       [ 74],\n",
       "       [ 75],\n",
       "       [ 76],\n",
       "       [ 77],\n",
       "       [ 78],\n",
       "       [ 79],\n",
       "       [ 80],\n",
       "       [ 81],\n",
       "       [ 82],\n",
       "       [ 83],\n",
       "       [ 84],\n",
       "       [ 85],\n",
       "       [ 86],\n",
       "       [ 87],\n",
       "       [ 88],\n",
       "       [ 89],\n",
       "       [ 90],\n",
       "       [ 91],\n",
       "       [ 92],\n",
       "       [ 93],\n",
       "       [ 94],\n",
       "       [ 95],\n",
       "       [ 96],\n",
       "       [ 97],\n",
       "       [ 98],\n",
       "       [ 99],\n",
       "       [100],\n",
       "       [101],\n",
       "       [102],\n",
       "       [103],\n",
       "       [104],\n",
       "       [105],\n",
       "       [106],\n",
       "       [107],\n",
       "       [108],\n",
       "       [109],\n",
       "       [110],\n",
       "       [111],\n",
       "       [112],\n",
       "       [113],\n",
       "       [114],\n",
       "       [115],\n",
       "       [116],\n",
       "       [117],\n",
       "       [118],\n",
       "       [119],\n",
       "       [120],\n",
       "       [121],\n",
       "       [122],\n",
       "       [123],\n",
       "       [124],\n",
       "       [125],\n",
       "       [126],\n",
       "       [127],\n",
       "       [128],\n",
       "       [129],\n",
       "       [130],\n",
       "       [131],\n",
       "       [132],\n",
       "       [133],\n",
       "       [134],\n",
       "       [135],\n",
       "       [136],\n",
       "       [137],\n",
       "       [138],\n",
       "       [139],\n",
       "       [140],\n",
       "       [141],\n",
       "       [142],\n",
       "       [143],\n",
       "       [144],\n",
       "       [145],\n",
       "       [146],\n",
       "       [147],\n",
       "       [148],\n",
       "       [149],\n",
       "       [150],\n",
       "       [151],\n",
       "       [152],\n",
       "       [153],\n",
       "       [154],\n",
       "       [155],\n",
       "       [156],\n",
       "       [157],\n",
       "       [158],\n",
       "       [159],\n",
       "       [160],\n",
       "       [161],\n",
       "       [162],\n",
       "       [163],\n",
       "       [164],\n",
       "       [165],\n",
       "       [166],\n",
       "       [167],\n",
       "       [168],\n",
       "       [169],\n",
       "       [170],\n",
       "       [171],\n",
       "       [172],\n",
       "       [173],\n",
       "       [174],\n",
       "       [175],\n",
       "       [176],\n",
       "       [177],\n",
       "       [178],\n",
       "       [179],\n",
       "       [180],\n",
       "       [181],\n",
       "       [182],\n",
       "       [183],\n",
       "       [184],\n",
       "       [185],\n",
       "       [186],\n",
       "       [187],\n",
       "       [188],\n",
       "       [189],\n",
       "       [190],\n",
       "       [191],\n",
       "       [192],\n",
       "       [193],\n",
       "       [194],\n",
       "       [195],\n",
       "       [196],\n",
       "       [197],\n",
       "       [198],\n",
       "       [199],\n",
       "       [200],\n",
       "       [201],\n",
       "       [202],\n",
       "       [203],\n",
       "       [204],\n",
       "       [205],\n",
       "       [206],\n",
       "       [207],\n",
       "       [208],\n",
       "       [209],\n",
       "       [210],\n",
       "       [211],\n",
       "       [212],\n",
       "       [213],\n",
       "       [214],\n",
       "       [215],\n",
       "       [216],\n",
       "       [217],\n",
       "       [218],\n",
       "       [219],\n",
       "       [220],\n",
       "       [221],\n",
       "       [222],\n",
       "       [223],\n",
       "       [224],\n",
       "       [225],\n",
       "       [226],\n",
       "       [227],\n",
       "       [228],\n",
       "       [229],\n",
       "       [230],\n",
       "       [231],\n",
       "       [232],\n",
       "       [233],\n",
       "       [234],\n",
       "       [235],\n",
       "       [236],\n",
       "       [237],\n",
       "       [238],\n",
       "       [239],\n",
       "       [240],\n",
       "       [241],\n",
       "       [242],\n",
       "       [243],\n",
       "       [244],\n",
       "       [245],\n",
       "       [246],\n",
       "       [247],\n",
       "       [248],\n",
       "       [249],\n",
       "       [250],\n",
       "       [251],\n",
       "       [252],\n",
       "       [253],\n",
       "       [254],\n",
       "       [255],\n",
       "       [256],\n",
       "       [257],\n",
       "       [258],\n",
       "       [259],\n",
       "       [260],\n",
       "       [261],\n",
       "       [262],\n",
       "       [263],\n",
       "       [264],\n",
       "       [265],\n",
       "       [266],\n",
       "       [267],\n",
       "       [268],\n",
       "       [269],\n",
       "       [270],\n",
       "       [271],\n",
       "       [272],\n",
       "       [273],\n",
       "       [274],\n",
       "       [275],\n",
       "       [276],\n",
       "       [277],\n",
       "       [278],\n",
       "       [279],\n",
       "       [280],\n",
       "       [281],\n",
       "       [282],\n",
       "       [283],\n",
       "       [284],\n",
       "       [285],\n",
       "       [286],\n",
       "       [287],\n",
       "       [288],\n",
       "       [289],\n",
       "       [290],\n",
       "       [291],\n",
       "       [292],\n",
       "       [293],\n",
       "       [294],\n",
       "       [295],\n",
       "       [296],\n",
       "       [297],\n",
       "       [298],\n",
       "       [299],\n",
       "       [300],\n",
       "       [301],\n",
       "       [302],\n",
       "       [303],\n",
       "       [304],\n",
       "       [305],\n",
       "       [306],\n",
       "       [307],\n",
       "       [308],\n",
       "       [309],\n",
       "       [310],\n",
       "       [311],\n",
       "       [312],\n",
       "       [313],\n",
       "       [314],\n",
       "       [315],\n",
       "       [316],\n",
       "       [317],\n",
       "       [318],\n",
       "       [319],\n",
       "       [320],\n",
       "       [321],\n",
       "       [322],\n",
       "       [323],\n",
       "       [324],\n",
       "       [325],\n",
       "       [326],\n",
       "       [327],\n",
       "       [328],\n",
       "       [329],\n",
       "       [330],\n",
       "       [331],\n",
       "       [332],\n",
       "       [333],\n",
       "       [334],\n",
       "       [335],\n",
       "       [336]])"
      ]
     },
     "execution_count": 103,
     "metadata": {},
     "output_type": "execute_result"
    }
   ],
   "source": [
    "x = np.array(df.iloc[:flag[0],:].index.values.tolist()).reshape(-1, 1)\n",
    "x"
   ]
  },
  {
   "cell_type": "code",
   "execution_count": 104,
   "id": "ignored-bridal",
   "metadata": {},
   "outputs": [
    {
     "data": {
      "text/plain": [
       "array([[337],\n",
       "       [338],\n",
       "       [339],\n",
       "       [340],\n",
       "       [341],\n",
       "       [342],\n",
       "       [343],\n",
       "       [344],\n",
       "       [345],\n",
       "       [346],\n",
       "       [347],\n",
       "       [348],\n",
       "       [349],\n",
       "       [350],\n",
       "       [351],\n",
       "       [352],\n",
       "       [353],\n",
       "       [354],\n",
       "       [355],\n",
       "       [356],\n",
       "       [357],\n",
       "       [358],\n",
       "       [359],\n",
       "       [360],\n",
       "       [361],\n",
       "       [362],\n",
       "       [363],\n",
       "       [364],\n",
       "       [365],\n",
       "       [366],\n",
       "       [367],\n",
       "       [368],\n",
       "       [369],\n",
       "       [370],\n",
       "       [371],\n",
       "       [372],\n",
       "       [373],\n",
       "       [374],\n",
       "       [375],\n",
       "       [376],\n",
       "       [377],\n",
       "       [378],\n",
       "       [379],\n",
       "       [380],\n",
       "       [381],\n",
       "       [382],\n",
       "       [383],\n",
       "       [384],\n",
       "       [385],\n",
       "       [386],\n",
       "       [387],\n",
       "       [388],\n",
       "       [389],\n",
       "       [390],\n",
       "       [391],\n",
       "       [392],\n",
       "       [393],\n",
       "       [394],\n",
       "       [395],\n",
       "       [396],\n",
       "       [397],\n",
       "       [398],\n",
       "       [399],\n",
       "       [400],\n",
       "       [401],\n",
       "       [402],\n",
       "       [403],\n",
       "       [404],\n",
       "       [405],\n",
       "       [406],\n",
       "       [407],\n",
       "       [408],\n",
       "       [409],\n",
       "       [410],\n",
       "       [411],\n",
       "       [412],\n",
       "       [413],\n",
       "       [414],\n",
       "       [415],\n",
       "       [416],\n",
       "       [417],\n",
       "       [418],\n",
       "       [419],\n",
       "       [420],\n",
       "       [421],\n",
       "       [422],\n",
       "       [423],\n",
       "       [424],\n",
       "       [425],\n",
       "       [426],\n",
       "       [427],\n",
       "       [428],\n",
       "       [429],\n",
       "       [430],\n",
       "       [431],\n",
       "       [432],\n",
       "       [433],\n",
       "       [434],\n",
       "       [435],\n",
       "       [436],\n",
       "       [437],\n",
       "       [438],\n",
       "       [439],\n",
       "       [440],\n",
       "       [441],\n",
       "       [442],\n",
       "       [443],\n",
       "       [444],\n",
       "       [445],\n",
       "       [446],\n",
       "       [447],\n",
       "       [448],\n",
       "       [449],\n",
       "       [450],\n",
       "       [451],\n",
       "       [452],\n",
       "       [453],\n",
       "       [454],\n",
       "       [455],\n",
       "       [456],\n",
       "       [457],\n",
       "       [458]])"
      ]
     },
     "execution_count": 104,
     "metadata": {},
     "output_type": "execute_result"
    }
   ],
   "source": [
    "list = []\n",
    "for i in range(0,458-flag[0]+1):\n",
    "    list.append(flag[0] +i)\n",
    "x_test = np.array(list).reshape(-1, 1)\n",
    "x_test"
   ]
  },
  {
   "cell_type": "code",
   "execution_count": 105,
   "id": "understood-tobago",
   "metadata": {},
   "outputs": [
    {
     "data": {
      "text/plain": [
       "0             1.0\n",
       "1             1.0\n",
       "2             1.0\n",
       "3             2.0\n",
       "4             3.0\n",
       "          ...    \n",
       "332    10207871.0\n",
       "333    10224303.0\n",
       "334    10244852.0\n",
       "335    10266674.0\n",
       "336    10266674.0\n",
       "Name: Confirmed, Length: 337, dtype: float64"
      ]
     },
     "execution_count": 105,
     "metadata": {},
     "output_type": "execute_result"
    }
   ],
   "source": [
    "y_train = df.iloc[:flag[0],-1]\n",
    "y_train"
   ]
  },
  {
   "cell_type": "code",
   "execution_count": 106,
   "id": "complex-handy",
   "metadata": {},
   "outputs": [
    {
     "data": {
      "image/png": "[encoded data removed]",
      "text/plain": [
       "<Figure size 432x288 with 1 Axes>"
      ]
     },
     "metadata": {
      "needs_background": "light"
     },
     "output_type": "display_data"
    }
   ],
   "source": [
    "plt.plot(x, y_train, color='r',label=\"Real Confirmed Cases\")\n",
    "#plt.title(\"Amount of \" + model_name + \" in each day\")\n",
    "plt.legend()\n",
    "plt.xlabel(\"Day\")\n",
    "plt.ylabel(\"Cases\")\n",
    "plt.show()"
   ]
  },
  {
   "cell_type": "code",
   "execution_count": 107,
   "id": "central-least",
   "metadata": {},
   "outputs": [
    {
     "data": {
      "text/plain": [
       "337    10286709.0\n",
       "338    10323965.0\n",
       "339    10340469.0\n",
       "340    10356844.0\n",
       "341    10374932.0\n",
       "          ...    \n",
       "454    18376421.0\n",
       "455    18762976.0\n",
       "456    19164969.0\n",
       "457    19557457.0\n",
       "458    19557457.0\n",
       "Name: Confirmed, Length: 122, dtype: float64"
      ]
     },
     "execution_count": 107,
     "metadata": {},
     "output_type": "execute_result"
    }
   ],
   "source": [
    "y_test = df.iloc[flag[0]:,-1]\n",
    "y_test"
   ]
  },
  {
   "cell_type": "code",
   "execution_count": 108,
   "id": "boxed-crown",
   "metadata": {},
   "outputs": [
    {
     "data": {
      "text/plain": [
       "GridSearchCV(cv=5, estimator=SVR(),\n",
       "             param_grid={'kernel': ['rbf', 'linear', 'poly']})"
      ]
     },
     "execution_count": 108,
     "metadata": {},
     "output_type": "execute_result"
    }
   ],
   "source": [
    "from sklearn.svm import SVR\n",
    "from sklearn.model_selection import GridSearchCV\n",
    "\n",
    "params = {'kernel':['rbf','linear','poly']}\n",
    "svr = SVR()\n",
    "gs = GridSearchCV(svr,param_grid=params, cv=5)\n",
    "gs.fit(x, y_train)\n",
    "#gs.best_params_"
   ]
  },
  {
   "cell_type": "code",
   "execution_count": 109,
   "id": "weekly-region",
   "metadata": {},
   "outputs": [
    {
     "data": {
      "text/plain": [
       "{'kernel': 'linear'}"
      ]
     },
     "execution_count": 109,
     "metadata": {},
     "output_type": "execute_result"
    }
   ],
   "source": [
    "gs.best_params_"
   ]
  },
  {
   "cell_type": "code",
   "execution_count": 110,
   "id": "stupid-constraint",
   "metadata": {},
   "outputs": [],
   "source": [
    "svr = SVR(kernel='linear')\n",
    "svr.fit(x,y_train)\n",
    "y_pred = svr.predict(x_test)"
   ]
  },
  {
   "cell_type": "code",
   "execution_count": 111,
   "id": "obvious-vampire",
   "metadata": {},
   "outputs": [
    {
     "data": {
      "text/plain": [
       "array([5116574.475     , 5133460.76666667, 5150347.05833333,\n",
       "       5167233.35      , 5184119.64166667, 5201005.93333333,\n",
       "       5217892.225     , 5234778.51666667, 5251664.80833333,\n",
       "       5268551.1       , 5285437.39166667, 5302323.68333333,\n",
       "       5319209.975     , 5336096.26666667, 5352982.55833333,\n",
       "       5369868.85      , 5386755.14166667, 5403641.43333333,\n",
       "       5420527.725     , 5437414.01666667, 5454300.30833333,\n",
       "       5471186.6       , 5488072.89166667, 5504959.18333333,\n",
       "       5521845.475     , 5538731.76666667, 5555618.05833333,\n",
       "       5572504.35      , 5589390.64166667, 5606276.93333333,\n",
       "       5623163.225     , 5640049.51666667, 5656935.80833333,\n",
       "       5673822.1       , 5690708.39166667, 5707594.68333333,\n",
       "       5724480.975     , 5741367.26666667, 5758253.55833333,\n",
       "       5775139.85      , 5792026.14166667, 5808912.43333333,\n",
       "       5825798.725     , 5842685.01666667, 5859571.30833333,\n",
       "       5876457.6       , 5893343.89166667, 5910230.18333333,\n",
       "       5927116.475     , 5944002.76666667, 5960889.05833333,\n",
       "       5977775.35      , 5994661.64166667, 6011547.93333333,\n",
       "       6028434.225     , 6045320.51666667, 6062206.80833333,\n",
       "       6079093.1       , 6095979.39166667, 6112865.68333333,\n",
       "       6129751.975     , 6146638.26666667, 6163524.55833333,\n",
       "       6180410.85      , 6197297.14166667, 6214183.43333333,\n",
       "       6231069.725     , 6247956.01666667, 6264842.30833333,\n",
       "       6281728.6       , 6298614.89166667, 6315501.18333333,\n",
       "       6332387.475     , 6349273.76666667, 6366160.05833333,\n",
       "       6383046.35      , 6399932.64166667, 6416818.93333333,\n",
       "       6433705.225     , 6450591.51666667, 6467477.80833333,\n",
       "       6484364.1       , 6501250.39166667, 6518136.68333333,\n",
       "       6535022.975     , 6551909.26666667, 6568795.55833333,\n",
       "       6585681.85      , 6602568.14166667, 6619454.43333333,\n",
       "       6636340.725     , 6653227.01666667, 6670113.30833333,\n",
       "       6686999.6       , 6703885.89166667, 6720772.18333333,\n",
       "       6737658.475     , 6754544.76666667, 6771431.05833333,\n",
       "       6788317.35      , 6805203.64166667, 6822089.93333333,\n",
       "       6838976.225     , 6855862.51666667, 6872748.80833333,\n",
       "       6889635.1       , 6906521.39166667, 6923407.68333333,\n",
       "       6940293.975     , 6957180.26666667, 6974066.55833333,\n",
       "       6990952.85      , 7007839.14166667, 7024725.43333333,\n",
       "       7041611.725     , 7058498.01666667, 7075384.30833334,\n",
       "       7092270.6       , 7109156.89166667, 7126043.18333334,\n",
       "       7142929.475     , 7159815.76666667])"
      ]
     },
     "execution_count": 111,
     "metadata": {},
     "output_type": "execute_result"
    }
   ],
   "source": [
    "y_pred"
   ]
  },
  {
   "cell_type": "code",
   "execution_count": 112,
   "id": "spare-concept",
   "metadata": {},
   "outputs": [
    {
     "data": {
      "image/png": "[encoded data removed]",
      "text/plain": [
       "<Figure size 432x288 with 1 Axes>"
      ]
     },
     "metadata": {
      "needs_background": "light"
     },
     "output_type": "display_data"
    }
   ],
   "source": [
    "plt.plot(x_test, y_pred, color='m', label=\"Predicted Confirmed Cases\")\n",
    "plt.plot(x_test, y_test, color='r',label=\"Real Confirmed Cases\")\n",
    "#plt.title(\"Amount of \" + model_name + \" in each day\")\n",
    "plt.legend()\n",
    "plt.xlabel(\"Day\")\n",
    "plt.ylabel(\"Cases\")\n",
    "plt.show()"
   ]
  },
  {
   "cell_type": "code",
   "execution_count": 118,
   "id": "painted-bathroom",
   "metadata": {},
   "outputs": [
    {
     "data": {
      "text/plain": [
       "{'algorithm': 'auto', 'n_neighbors': 3}"
      ]
     },
     "execution_count": 118,
     "metadata": {},
     "output_type": "execute_result"
    }
   ],
   "source": [
    "from sklearn.neighbors import KNeighborsRegressor\n",
    "\n",
    "params = {'n_neighbors':[3,5,10],\n",
    "         'algorithm':['auto', 'ball_tree', 'kd_tree', 'brute']}\n",
    "knnr = KNeighborsRegressor()\n",
    "gs = GridSearchCV(knnr,param_grid=params, cv=5)\n",
    "gs.fit(x, y_train)\n",
    "gs.best_params_"
   ]
  },
  {
   "cell_type": "code",
   "execution_count": 119,
   "id": "proud-egypt",
   "metadata": {},
   "outputs": [],
   "source": [
    "knnr = KNeighborsRegressor(n_neighbors=3, algorithm='auto')\n",
    "knnr.fit(x,y_train)\n",
    "y_pred = knnr.predict(x_test)"
   ]
  },
  {
   "cell_type": "code",
   "execution_count": 120,
   "id": "breathing-result",
   "metadata": {},
   "outputs": [
    {
     "data": {
      "image/png": "[encoded data removed]",
      "text/plain": [
       "<Figure size 432x288 with 1 Axes>"
      ]
     },
     "metadata": {
      "needs_background": "light"
     },
     "output_type": "display_data"
    }
   ],
   "source": [
    "plt.plot(x_test, y_pred, color='m', label=\"Predicted Confirmed Cases\")\n",
    "plt.plot(x_test, y_test, color='r',label=\"Real Confirmed Cases\")\n",
    "#plt.title(\"Amount of \" + model_name + \" in each day\")\n",
    "plt.legend()\n",
    "plt.xlabel(\"Day\")\n",
    "plt.ylabel(\"Cases\")\n",
    "plt.show()"
   ]
  },
  {
   "cell_type": "code",
   "execution_count": 123,
   "id": "sharing-oracle",
   "metadata": {},
   "outputs": [
    {
     "data": {
      "text/plain": [
       "array([ 9196518,  9231900,  9267283,  9302666,  9338049,  9373431,\n",
       "        9408814,  9444197,  9479579,  9514962,  9550345,  9585728,\n",
       "        9621110,  9656493,  9691876,  9727258,  9762641,  9798024,\n",
       "        9833407,  9868789,  9904172,  9939555,  9974937, 10010320,\n",
       "       10045703, 10081086, 10116468, 10151851, 10187234, 10222616,\n",
       "       10257999, 10293382, 10328765, 10364147, 10399530, 10434913,\n",
       "       10470295, 10505678, 10541061, 10576444, 10611826, 10647209,\n",
       "       10682592, 10717974, 10753357, 10788740, 10824123, 10859505,\n",
       "       10894888, 10930271, 10965653, 11001036, 11036419, 11071802,\n",
       "       11107184, 11142567, 11177950, 11213332, 11248715, 11284098,\n",
       "       11319481, 11354863, 11390246, 11425629, 11461011, 11496394,\n",
       "       11531777, 11567160, 11602542, 11637925, 11673308, 11708690,\n",
       "       11744073, 11779456, 11814839, 11850221, 11885604, 11920987,\n",
       "       11956369, 11991752, 12027135, 12062518, 12097900, 12133283,\n",
       "       12168666, 12204048, 12239431, 12274814, 12310197, 12345579,\n",
       "       12380962, 12416345, 12451727, 12487110, 12522493, 12557876,\n",
       "       12593258, 12628641, 12664024, 12699406, 12734789, 12770172,\n",
       "       12805555, 12840937, 12876320, 12911703, 12947085, 12982468,\n",
       "       13017851, 13053234, 13088616, 13123999, 13159382, 13194765,\n",
       "       13230147, 13265530, 13300913, 13336295, 13371678, 13407061,\n",
       "       13442444, 13477826])"
      ]
     },
     "execution_count": 123,
     "metadata": {},
     "output_type": "execute_result"
    }
   ],
   "source": [
    "model = PolynomialRegressionModel(polynomial_degree=1)\n",
    "model.train(x,y_train)\n",
    "y_pred = model.get_predictions(x_test)\n",
    "y_pred"
   ]
  },
  {
   "cell_type": "code",
   "execution_count": 124,
   "id": "aquatic-paris",
   "metadata": {},
   "outputs": [
    {
     "data": {
      "image/png": "[encoded data removed]",
      "text/plain": [
       "<Figure size 432x288 with 1 Axes>"
      ]
     },
     "metadata": {
      "needs_background": "light"
     },
     "output_type": "display_data"
    }
   ],
   "source": [
    "plt.plot(x_test, y_pred, color='m', label=\"Predicted Confirmed Cases\")\n",
    "plt.plot(x_test, y_test, color='r',label=\"Real Confirmed Cases\")\n",
    "#plt.title(\"Amount of \" + model_name + \" in each day\")\n",
    "plt.legend()\n",
    "plt.xlabel(\"Day\")\n",
    "plt.ylabel(\"Cases\")\n",
    "plt.show()"
   ]
  }
 ],
 "metadata": {
  "kernelspec": {
   "display_name": "Python 3",
   "language": "python",
   "name": "python3"
  },
  "language_info": {
   "codemirror_mode": {
    "name": "ipython",
    "version": 3
   },
   "file_extension": ".py",
   "mimetype": "text/x-python",
   "name": "python",
   "nbconvert_exporter": "python",
   "pygments_lexer": "ipython3",
   "version": "3.9.1"
  }
 },
 "nbformat": 4,
 "nbformat_minor": 5
}
