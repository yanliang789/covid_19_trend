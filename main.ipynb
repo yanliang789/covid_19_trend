{
 "cells": [
  {
   "cell_type": "code",
   "execution_count": 11,
   "metadata": {},
   "outputs": [],
   "source": [
    "from PolynomialRegressionModel import *\n",
    "import numpy as np\n",
    "import pandas as pd\n",
    "import matplotlib.pyplot as plt"
   ]
  },
  {
   "cell_type": "code",
   "execution_count": 2,
   "metadata": {},
   "outputs": [
    {
     "data": {
      "text/html": [
       "<div>\n",
       "<style scoped>\n",
       "    .dataframe tbody tr th:only-of-type {\n",
       "        vertical-align: middle;\n",
       "    }\n",
       "\n",
       "    .dataframe tbody tr th {\n",
       "        vertical-align: top;\n",
       "    }\n",
       "\n",
       "    .dataframe thead th {\n",
       "        text-align: right;\n",
       "    }\n",
       "</style>\n",
       "<table border=\"1\" class=\"dataframe\">\n",
       "  <thead>\n",
       "    <tr style=\"text-align: right;\">\n",
       "      <th></th>\n",
       "      <th>Dates</th>\n",
       "      <th>Confirmed</th>\n",
       "    </tr>\n",
       "  </thead>\n",
       "  <tbody>\n",
       "    <tr>\n",
       "      <th>0</th>\n",
       "      <td>0</td>\n",
       "      <td>10</td>\n",
       "    </tr>\n",
       "    <tr>\n",
       "      <th>1</th>\n",
       "      <td>1</td>\n",
       "      <td>15</td>\n",
       "    </tr>\n",
       "    <tr>\n",
       "      <th>2</th>\n",
       "      <td>2</td>\n",
       "      <td>25</td>\n",
       "    </tr>\n",
       "    <tr>\n",
       "      <th>3</th>\n",
       "      <td>3</td>\n",
       "      <td>38</td>\n",
       "    </tr>\n",
       "    <tr>\n",
       "      <th>4</th>\n",
       "      <td>4</td>\n",
       "      <td>56</td>\n",
       "    </tr>\n",
       "    <tr>\n",
       "      <th>...</th>\n",
       "      <td>...</td>\n",
       "      <td>...</td>\n",
       "    </tr>\n",
       "    <tr>\n",
       "      <th>398</th>\n",
       "      <td>398</td>\n",
       "      <td>112019890</td>\n",
       "    </tr>\n",
       "    <tr>\n",
       "      <th>399</th>\n",
       "      <td>399</td>\n",
       "      <td>112464430</td>\n",
       "    </tr>\n",
       "    <tr>\n",
       "      <th>400</th>\n",
       "      <td>400</td>\n",
       "      <td>112911535</td>\n",
       "    </tr>\n",
       "    <tr>\n",
       "      <th>401</th>\n",
       "      <td>401</td>\n",
       "      <td>113325717</td>\n",
       "    </tr>\n",
       "    <tr>\n",
       "      <th>402</th>\n",
       "      <td>402</td>\n",
       "      <td>113694842</td>\n",
       "    </tr>\n",
       "  </tbody>\n",
       "</table>\n",
       "<p>403 rows × 2 columns</p>\n",
       "</div>"
      ],
      "text/plain": [
       "     Dates  Confirmed\n",
       "0        0         10\n",
       "1        1         15\n",
       "2        2         25\n",
       "3        3         38\n",
       "4        4         56\n",
       "..     ...        ...\n",
       "398    398  112019890\n",
       "399    399  112464430\n",
       "400    400  112911535\n",
       "401    401  113325717\n",
       "402    402  113694842\n",
       "\n",
       "[403 rows x 2 columns]"
      ]
     },
     "execution_count": 2,
     "metadata": {},
     "output_type": "execute_result"
    }
   ],
   "source": [
    "df = pd.read_csv('Confirmed_Cases_US.csv')\n",
    "df"
   ]
  },
  {
   "cell_type": "code",
   "execution_count": 3,
   "metadata": {},
   "outputs": [
    {
     "data": {
      "text/plain": [
       "0             10\n",
       "1             15\n",
       "2             25\n",
       "3             38\n",
       "4             56\n",
       "         ...    \n",
       "398    112019890\n",
       "399    112464430\n",
       "400    112911535\n",
       "401    113325717\n",
       "402    113694842\n",
       "Name: Confirmed, Length: 403, dtype: int64"
      ]
     },
     "execution_count": 3,
     "metadata": {},
     "output_type": "execute_result"
    }
   ],
   "source": [
    "x = df.iloc[:,:-1]\n",
    "y = df.iloc[:,-1]\n",
    "y"
   ]
  },
  {
   "cell_type": "code",
   "execution_count": 26,
   "metadata": {},
   "outputs": [],
   "source": [
    "model = PolynomialRegressionModel(polynomial_degree=4)"
   ]
  },
  {
   "cell_type": "code",
   "execution_count": 27,
   "metadata": {},
   "outputs": [],
   "source": [
    "model.train(x,y)"
   ]
  },
  {
   "cell_type": "code",
   "execution_count": 36,
   "metadata": {},
   "outputs": [],
   "source": [
    "list = []\n",
    "for i in range(0,200):\n",
    "    list.append(403 +i)\n",
    "x_pred = np.array(list).reshape(-1, 1)"
   ]
  },
  {
   "cell_type": "code",
   "execution_count": 37,
   "metadata": {},
   "outputs": [
    {
     "data": {
      "text/plain": [
       "array([119387435, 120053334, 120719622, 121386272, 122053257, 122720551,\n",
       "       123388127, 124055957, 124724015, 125392272, 126060701, 126729275,\n",
       "       127397965, 128066743, 128735581, 129404451, 130073323, 130742170,\n",
       "       131410962, 132079670, 132748265, 133416718, 134084998, 134753078,\n",
       "       135420925, 136088512, 136755806, 137422779, 138089399, 138755636,\n",
       "       139421459, 140086838, 140751740, 141416136, 142079992, 142743279,\n",
       "       143405963, 144068014, 144729399, 145390086, 146050042, 146709235,\n",
       "       147367632, 148025201, 148681908, 149337721, 149992605, 150646528,\n",
       "       151299456, 151951355, 152602191, 153251930, 153900538, 154547980,\n",
       "       155194222, 155839228, 156482965, 157125397, 157766489, 158406205,\n",
       "       159044510, 159681368, 160316744, 160950601, 161582904, 162213615,\n",
       "       162842699, 163470118, 164095837, 164719818, 165342023, 165962417,\n",
       "       166580960, 167197617, 167812348, 168425117, 169035884, 169644613,\n",
       "       170251264, 170855799, 171458179, 172058365, 172656319, 173252002,\n",
       "       173845373, 174436394, 175025024, 175611225, 176194956, 176776177,\n",
       "       177354847, 177930927, 178504376, 179075153, 179643217, 180208527,\n",
       "       180771042, 181330721, 181887521, 182441402, 182992322, 183540238,\n",
       "       184085108, 184626891, 185165543, 185701022, 186233285, 186762289,\n",
       "       187287992, 187810350, 188329319, 188844856, 189356917, 189865458,\n",
       "       190370436, 190871806, 191369523, 191863544, 192353823, 192840316,\n",
       "       193322977, 193801762, 194276625, 194747521, 195214404, 195677229,\n",
       "       196135949, 196590518, 197040890, 197487019, 197928858, 198366361,\n",
       "       198799480, 199228168, 199652379, 200072064, 200487177, 200897670,\n",
       "       201303495, 201704603, 202100947, 202492479, 202879150, 203260911,\n",
       "       203637713, 204009508, 204376247, 204737880, 205094359, 205445632,\n",
       "       205791651, 206132366, 206467726, 206797682, 207122184, 207441180,\n",
       "       207754619, 208062452, 208364628, 208661094, 208951800, 209236694,\n",
       "       209515725, 209788841, 210055990, 210317119, 210572178, 210821112,\n",
       "       211063870, 211300399, 211530647, 211754559, 211972083, 212183165,\n",
       "       212387753, 212585792, 212777228, 212962008, 213140077, 213311382,\n",
       "       213475867, 213633478, 213784160, 213927859, 214064518, 214194084,\n",
       "       214316501, 214431712, 214539663, 214640297, 214733559, 214819392,\n",
       "       214897740, 214968546, 215031754, 215087306, 215135147, 215175219,\n",
       "       215207464, 215231825])"
      ]
     },
     "execution_count": 37,
     "metadata": {},
     "output_type": "execute_result"
    }
   ],
   "source": [
    "#x_pred = np.array([403,404,405,406,407,408]).reshape(-1, 1)\n",
    "y_pred = model.get_predictions(x_pred)\n",
    "y_pred"
   ]
  },
  {
   "cell_type": "code",
   "execution_count": 38,
   "metadata": {},
   "outputs": [
    {
     "data": {
      "text/plain": [
       "<matplotlib.collections.PathCollection at 0x1ef91eceeb0>"
      ]
     },
     "execution_count": 38,
     "metadata": {},
     "output_type": "execute_result"
    },
    {
     "data": {
      "image/png": "[encoded data removed]",
      "text/plain": [
       "<Figure size 432x288 with 1 Axes>"
      ]
     },
     "metadata": {
      "needs_background": "light"
     },
     "output_type": "display_data"
    }
   ],
   "source": [
    "plt.scatter(x, y, s=10)"
   ]
  },
  {
   "cell_type": "code",
   "execution_count": 39,
   "metadata": {},
   "outputs": [
    {
     "data": {
      "image/png": "[encoded data removed]",
      "text/plain": [
       "<Figure size 432x288 with 1 Axes>"
      ]
     },
     "metadata": {
      "needs_background": "light"
     },
     "output_type": "display_data"
    }
   ],
   "source": [
    "plt.plot(x_pred, y_pred, color='m')\n",
    "#plt.title(\"Amount of \" + model_name + \" in each day\")\n",
    "plt.xlabel(\"Day\")\n",
    "plt.ylabel(\"Cases\")\n",
    "plt.show()"
   ]
  }
 ],
 "metadata": {
  "kernelspec": {
   "display_name": "Python 3",
   "language": "python",
   "name": "python3"
  },
  "language_info": {
   "codemirror_mode": {
    "name": "ipython",
    "version": 3
   },
   "file_extension": ".py",
   "mimetype": "text/x-python",
   "name": "python",
   "nbconvert_exporter": "python",
   "pygments_lexer": "ipython3",
   "version": "3.9.1"
  }
 },
 "nbformat": 4,
 "nbformat_minor": 1
}
