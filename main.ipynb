{
 "cells": [
  {
   "cell_type": "code",
   "execution_count": 127,
   "metadata": {},
   "outputs": [],
   "source": [
    "from PolynomialRegressionModel import *\n",
    "import numpy as np\n",
    "import pandas as pd\n",
    "import matplotlib.pyplot as plt\n",
    "from NN import NeuralNetModel\n",
    "import json"
   ]
  },
  {
   "cell_type": "code",
   "execution_count": 128,
   "metadata": {},
   "outputs": [],
   "source": [
    "with open(\"config.json\", \"r\") as f:\n",
    "    config = json.load(f)"
   ]
  },
  {
   "cell_type": "code",
   "execution_count": 129,
   "metadata": {},
   "outputs": [
    {
     "data": {
      "text/plain": [
       "{'enabled': True,\n",
       " 'model_name': 'Cases',\n",
       " 'model': {'type': 'neural_net',\n",
       "  'alpha': 1e-06,\n",
       "  'hidden_layer_sizes': 5000,\n",
       "  'learning_rate_init': 0.01,\n",
       "  'max_iter': 100000,\n",
       "  'batch_size': 32,\n",
       "  'tol': 1e-06,\n",
       "  'n_iter_no_change': 250,\n",
       "  'verbose': False},\n",
       " 'datagrabber_class': 'CasesDataGrabber',\n",
       " 'grab_data_from_server': True,\n",
       " 'offline_dataset_date': '2020-09-26',\n",
       " 'days_to_predict': 10}"
      ]
     },
     "execution_count": 129,
     "metadata": {},
     "output_type": "execute_result"
    }
   ],
   "source": [
    "model_config = config[\"models\"]\n",
    "model_config"
   ]
  },
  {
   "cell_type": "code",
   "execution_count": 130,
   "metadata": {},
   "outputs": [
    {
     "data": {
      "text/html": [
       "<div>\n",
       "<style scoped>\n",
       "    .dataframe tbody tr th:only-of-type {\n",
       "        vertical-align: middle;\n",
       "    }\n",
       "\n",
       "    .dataframe tbody tr th {\n",
       "        vertical-align: top;\n",
       "    }\n",
       "\n",
       "    .dataframe thead th {\n",
       "        text-align: right;\n",
       "    }\n",
       "</style>\n",
       "<table border=\"1\" class=\"dataframe\">\n",
       "  <thead>\n",
       "    <tr style=\"text-align: right;\">\n",
       "      <th></th>\n",
       "      <th>ObservationDate</th>\n",
       "      <th>Confirmed</th>\n",
       "      <th>People_Fully_Vaccinated</th>\n",
       "    </tr>\n",
       "  </thead>\n",
       "  <tbody>\n",
       "    <tr>\n",
       "      <th>0</th>\n",
       "      <td>2020-12-20</td>\n",
       "      <td>17954675.0</td>\n",
       "      <td>0.0</td>\n",
       "    </tr>\n",
       "    <tr>\n",
       "      <th>1</th>\n",
       "      <td>2020-12-21</td>\n",
       "      <td>18153724.0</td>\n",
       "      <td>0.0</td>\n",
       "    </tr>\n",
       "    <tr>\n",
       "      <th>2</th>\n",
       "      <td>2020-12-22</td>\n",
       "      <td>18351735.0</td>\n",
       "      <td>0.0</td>\n",
       "    </tr>\n",
       "    <tr>\n",
       "      <th>3</th>\n",
       "      <td>2020-12-23</td>\n",
       "      <td>18581353.0</td>\n",
       "      <td>0.0</td>\n",
       "    </tr>\n",
       "    <tr>\n",
       "      <th>4</th>\n",
       "      <td>2020-12-24</td>\n",
       "      <td>18775557.0</td>\n",
       "      <td>0.0</td>\n",
       "    </tr>\n",
       "    <tr>\n",
       "      <th>...</th>\n",
       "      <td>...</td>\n",
       "      <td>...</td>\n",
       "      <td>...</td>\n",
       "    </tr>\n",
       "    <tr>\n",
       "      <th>129</th>\n",
       "      <td>2021-04-28</td>\n",
       "      <td>32230850.0</td>\n",
       "      <td>199426393.0</td>\n",
       "    </tr>\n",
       "    <tr>\n",
       "      <th>130</th>\n",
       "      <td>2021-04-29</td>\n",
       "      <td>32289049.0</td>\n",
       "      <td>202713598.0</td>\n",
       "    </tr>\n",
       "    <tr>\n",
       "      <th>131</th>\n",
       "      <td>2021-04-30</td>\n",
       "      <td>32346971.0</td>\n",
       "      <td>206220484.0</td>\n",
       "    </tr>\n",
       "    <tr>\n",
       "      <th>132</th>\n",
       "      <td>2021-05-01</td>\n",
       "      <td>32392274.0</td>\n",
       "      <td>210278776.0</td>\n",
       "    </tr>\n",
       "    <tr>\n",
       "      <th>133</th>\n",
       "      <td>2021-05-02</td>\n",
       "      <td>32421534.0</td>\n",
       "      <td>213016060.0</td>\n",
       "    </tr>\n",
       "  </tbody>\n",
       "</table>\n",
       "<p>134 rows × 3 columns</p>\n",
       "</div>"
      ],
      "text/plain": [
       "    ObservationDate   Confirmed  People_Fully_Vaccinated\n",
       "0        2020-12-20  17954675.0                      0.0\n",
       "1        2020-12-21  18153724.0                      0.0\n",
       "2        2020-12-22  18351735.0                      0.0\n",
       "3        2020-12-23  18581353.0                      0.0\n",
       "4        2020-12-24  18775557.0                      0.0\n",
       "..              ...         ...                      ...\n",
       "129      2021-04-28  32230850.0              199426393.0\n",
       "130      2021-04-29  32289049.0              202713598.0\n",
       "131      2021-04-30  32346971.0              206220484.0\n",
       "132      2021-05-01  32392274.0              210278776.0\n",
       "133      2021-05-02  32421534.0              213016060.0\n",
       "\n",
       "[134 rows x 3 columns]"
      ]
     },
     "execution_count": 130,
     "metadata": {},
     "output_type": "execute_result"
    }
   ],
   "source": [
    "df = pd.read_csv('Confirmed_Cases_US_Vaccinated_NewDataset_copy.csv').drop(columns=['Unnamed: 0'])\n",
    "df"
   ]
  },
  {
   "cell_type": "code",
   "execution_count": 131,
   "metadata": {},
   "outputs": [
    {
     "data": {
      "text/plain": [
       "Int64Index([102], dtype='int64')"
      ]
     },
     "execution_count": 131,
     "metadata": {},
     "output_type": "execute_result"
    }
   ],
   "source": [
    "## Use the data from April to May as test\n",
    "df[df['ObservationDate']=='2021-04-01'].index"
   ]
  },
  {
   "cell_type": "code",
   "execution_count": 132,
   "metadata": {},
   "outputs": [
    {
     "data": {
      "text/plain": [
       "array([[  0],\n",
       "       [  1],\n",
       "       [  2],\n",
       "       [  3],\n",
       "       [  4],\n",
       "       [  5],\n",
       "       [  6],\n",
       "       [  7],\n",
       "       [  8],\n",
       "       [  9],\n",
       "       [ 10],\n",
       "       [ 11],\n",
       "       [ 12],\n",
       "       [ 13],\n",
       "       [ 14],\n",
       "       [ 15],\n",
       "       [ 16],\n",
       "       [ 17],\n",
       "       [ 18],\n",
       "       [ 19],\n",
       "       [ 20],\n",
       "       [ 21],\n",
       "       [ 22],\n",
       "       [ 23],\n",
       "       [ 24],\n",
       "       [ 25],\n",
       "       [ 26],\n",
       "       [ 27],\n",
       "       [ 28],\n",
       "       [ 29],\n",
       "       [ 30],\n",
       "       [ 31],\n",
       "       [ 32],\n",
       "       [ 33],\n",
       "       [ 34],\n",
       "       [ 35],\n",
       "       [ 36],\n",
       "       [ 37],\n",
       "       [ 38],\n",
       "       [ 39],\n",
       "       [ 40],\n",
       "       [ 41],\n",
       "       [ 42],\n",
       "       [ 43],\n",
       "       [ 44],\n",
       "       [ 45],\n",
       "       [ 46],\n",
       "       [ 47],\n",
       "       [ 48],\n",
       "       [ 49],\n",
       "       [ 50],\n",
       "       [ 51],\n",
       "       [ 52],\n",
       "       [ 53],\n",
       "       [ 54],\n",
       "       [ 55],\n",
       "       [ 56],\n",
       "       [ 57],\n",
       "       [ 58],\n",
       "       [ 59],\n",
       "       [ 60],\n",
       "       [ 61],\n",
       "       [ 62],\n",
       "       [ 63],\n",
       "       [ 64],\n",
       "       [ 65],\n",
       "       [ 66],\n",
       "       [ 67],\n",
       "       [ 68],\n",
       "       [ 69],\n",
       "       [ 70],\n",
       "       [ 71],\n",
       "       [ 72],\n",
       "       [ 73],\n",
       "       [ 74],\n",
       "       [ 75],\n",
       "       [ 76],\n",
       "       [ 77],\n",
       "       [ 78],\n",
       "       [ 79],\n",
       "       [ 80],\n",
       "       [ 81],\n",
       "       [ 82],\n",
       "       [ 83],\n",
       "       [ 84],\n",
       "       [ 85],\n",
       "       [ 86],\n",
       "       [ 87],\n",
       "       [ 88],\n",
       "       [ 89],\n",
       "       [ 90],\n",
       "       [ 91],\n",
       "       [ 92],\n",
       "       [ 93],\n",
       "       [ 94],\n",
       "       [ 95],\n",
       "       [ 96],\n",
       "       [ 97],\n",
       "       [ 98],\n",
       "       [ 99],\n",
       "       [100],\n",
       "       [101]])"
      ]
     },
     "execution_count": 132,
     "metadata": {},
     "output_type": "execute_result"
    }
   ],
   "source": [
    "x = np.array(df.iloc[:102,:].index.values.tolist()).reshape(-1, 1)\n",
    "x"
   ]
  },
  {
   "cell_type": "code",
   "execution_count": 133,
   "metadata": {},
   "outputs": [
    {
     "data": {
      "text/plain": [
       "array([[102],\n",
       "       [103],\n",
       "       [104],\n",
       "       [105],\n",
       "       [106],\n",
       "       [107],\n",
       "       [108],\n",
       "       [109],\n",
       "       [110],\n",
       "       [111],\n",
       "       [112],\n",
       "       [113],\n",
       "       [114],\n",
       "       [115],\n",
       "       [116],\n",
       "       [117],\n",
       "       [118],\n",
       "       [119],\n",
       "       [120],\n",
       "       [121],\n",
       "       [122],\n",
       "       [123],\n",
       "       [124],\n",
       "       [125],\n",
       "       [126],\n",
       "       [127],\n",
       "       [128],\n",
       "       [129],\n",
       "       [130],\n",
       "       [131],\n",
       "       [132],\n",
       "       [133]])"
      ]
     },
     "execution_count": 133,
     "metadata": {},
     "output_type": "execute_result"
    }
   ],
   "source": [
    "list = []\n",
    "for i in range(0,32):\n",
    "    list.append(102 +i)\n",
    "x_pred = np.array(list).reshape(-1, 1)\n",
    "x_pred"
   ]
  },
  {
   "cell_type": "code",
   "execution_count": 134,
   "metadata": {},
   "outputs": [
    {
     "data": {
      "text/plain": [
       "0              0.0\n",
       "1              0.0\n",
       "2              0.0\n",
       "3              0.0\n",
       "4              0.0\n",
       "          ...     \n",
       "97     102491174.0\n",
       "98     105451667.0\n",
       "99     107528783.0\n",
       "100    109153459.0\n",
       "101    111562791.0\n",
       "Name: People_Fully_Vaccinated, Length: 102, dtype: float64"
      ]
     },
     "execution_count": 134,
     "metadata": {},
     "output_type": "execute_result"
    }
   ],
   "source": [
    "y_v_train = df.iloc[:102,-1]\n",
    "y_v_train"
   ]
  },
  {
   "cell_type": "code",
   "execution_count": 135,
   "metadata": {},
   "outputs": [],
   "source": [
    "neural_net_model = NeuralNetModel(model_config[\"model_name\"])\n",
    "neural_net_model.train(x, y_v_train, model_config[\"model\"])"
   ]
  },
  {
   "cell_type": "code",
   "execution_count": 136,
   "metadata": {},
   "outputs": [],
   "source": [
    "beginning_day=len(x)\n",
    "limit=10\n",
    "next_days_x = np.array(range(beginning_day, beginning_day + limit)).reshape(-1, 1)\n",
    "y_v_pred = neural_net_model.get_predictions(x_pred)"
   ]
  },
  {
   "cell_type": "code",
   "execution_count": 137,
   "metadata": {},
   "outputs": [
    {
     "data": {
      "text/plain": [
       "array([111480517, 113403092, 115311292, 117215768, 119120244, 121024721,\n",
       "       122929197, 124833673, 126738149, 128642626, 130547102, 132451578,\n",
       "       134356054, 136260531, 138165007, 140069483, 141973959, 143878436,\n",
       "       145782912, 147687388, 149591864, 151496341, 153400817, 155305293,\n",
       "       157209769, 159114246, 161018722, 162923198, 164827674, 166732151,\n",
       "       168636627, 170541103], dtype=int32)"
      ]
     },
     "execution_count": 137,
     "metadata": {},
     "output_type": "execute_result"
    }
   ],
   "source": [
    "y_v_pred"
   ]
  },
  {
   "cell_type": "code",
   "execution_count": 138,
   "metadata": {},
   "outputs": [
    {
     "data": {
      "text/plain": [
       "<matplotlib.collections.PathCollection at 0x1328f3be0>"
      ]
     },
     "execution_count": 138,
     "metadata": {},
     "output_type": "execute_result"
    },
    {
     "data": {
      "image/png": "[encoded data removed]",
      "text/plain": [
       "<Figure size 432x288 with 1 Axes>"
      ]
     },
     "metadata": {
      "needs_background": "light"
     },
     "output_type": "display_data"
    }
   ],
   "source": [
    "plt.scatter(x, y_v_train, s=10)"
   ]
  },
  {
   "cell_type": "code",
   "execution_count": 139,
   "metadata": {},
   "outputs": [
    {
     "data": {
      "text/plain": [
       "102    114583082.0\n",
       "103    118422715.0\n",
       "104    122216549.0\n",
       "105    125385077.0\n",
       "106    127355746.0\n",
       "107    128602626.0\n",
       "108    131454029.0\n",
       "109    135064895.0\n",
       "110    139105415.0\n",
       "111    144145651.0\n",
       "112    148071014.0\n",
       "113    150979224.0\n",
       "114    153501691.0\n",
       "115    156266663.0\n",
       "116    159943303.0\n",
       "117    164207620.0\n",
       "118    167974595.0\n",
       "119    171603046.0\n",
       "120    173830334.0\n",
       "121    175551679.0\n",
       "122    178322476.0\n",
       "123    181665228.0\n",
       "124    185563352.0\n",
       "125    189409819.0\n",
       "126    192837765.0\n",
       "127    195081051.0\n",
       "128    196802025.0\n",
       "129    199426393.0\n",
       "130    202713598.0\n",
       "131    206220484.0\n",
       "132    210278776.0\n",
       "133    213016060.0\n",
       "Name: People_Fully_Vaccinated, dtype: float64"
      ]
     },
     "execution_count": 139,
     "metadata": {},
     "output_type": "execute_result"
    }
   ],
   "source": [
    "y_v_test = df.iloc[102:,-1]\n",
    "y_v_test"
   ]
  },
  {
   "cell_type": "code",
   "execution_count": 140,
   "metadata": {},
   "outputs": [
    {
     "data": {
      "image/png": "[encoded data removed]",
      "text/plain": [
       "<Figure size 432x288 with 1 Axes>"
      ]
     },
     "metadata": {
      "needs_background": "light"
     },
     "output_type": "display_data"
    }
   ],
   "source": [
    "plt.plot(x_pred, y_v_pred, color='m', label=\"Predicted Vaccination\")\n",
    "plt.plot(x_pred, y_v_test, color='r',label=\"Real Vaccination\")\n",
    "#plt.title(\"Amount of \" + model_name + \" in each day\")\n",
    "plt.legend()\n",
    "plt.xlabel(\"Day\")\n",
    "plt.ylabel(\"vaccination\")\n",
    "plt.show()"
   ]
  },
  {
   "cell_type": "code",
   "execution_count": 141,
   "metadata": {},
   "outputs": [
    {
     "data": {
      "text/plain": [
       "0              0.0\n",
       "1              0.0\n",
       "2              0.0\n",
       "3              0.0\n",
       "4              0.0\n",
       "          ...     \n",
       "97     102491174.0\n",
       "98     105451667.0\n",
       "99     107528783.0\n",
       "100    109153459.0\n",
       "101    111562791.0\n",
       "Name: People_Fully_Vaccinated, Length: 102, dtype: float64"
      ]
     },
     "execution_count": 141,
     "metadata": {},
     "output_type": "execute_result"
    }
   ],
   "source": [
    "y_c_train = df.iloc[:102,1]\n",
    "vaccination = df.iloc[:102,-1]\n",
    "vaccination"
   ]
  },
  {
   "cell_type": "code",
   "execution_count": 142,
   "metadata": {},
   "outputs": [
    {
     "data": {
      "text/plain": [
       "array([[0.00000000e+00, 0.00000000e+00],\n",
       "       [1.00000000e+00, 0.00000000e+00],\n",
       "       [2.00000000e+00, 0.00000000e+00],\n",
       "       [3.00000000e+00, 0.00000000e+00],\n",
       "       [4.00000000e+00, 0.00000000e+00],\n",
       "       [5.00000000e+00, 0.00000000e+00],\n",
       "       [6.00000000e+00, 0.00000000e+00],\n",
       "       [7.00000000e+00, 0.00000000e+00],\n",
       "       [8.00000000e+00, 0.00000000e+00],\n",
       "       [9.00000000e+00, 0.00000000e+00],\n",
       "       [1.00000000e+01, 0.00000000e+00],\n",
       "       [1.10000000e+01, 0.00000000e+00],\n",
       "       [1.20000000e+01, 0.00000000e+00],\n",
       "       [1.30000000e+01, 0.00000000e+00],\n",
       "       [1.40000000e+01, 0.00000000e+00],\n",
       "       [1.50000000e+01, 0.00000000e+00],\n",
       "       [1.60000000e+01, 0.00000000e+00],\n",
       "       [1.70000000e+01, 0.00000000e+00],\n",
       "       [1.80000000e+01, 0.00000000e+00],\n",
       "       [1.90000000e+01, 0.00000000e+00],\n",
       "       [2.00000000e+01, 0.00000000e+00],\n",
       "       [2.10000000e+01, 0.00000000e+00],\n",
       "       [2.20000000e+01, 0.00000000e+00],\n",
       "       [2.30000000e+01, 1.56688500e+06],\n",
       "       [2.40000000e+01, 2.05742000e+06],\n",
       "       [2.50000000e+01, 0.00000000e+00],\n",
       "       [2.60000000e+01, 3.22104800e+06],\n",
       "       [2.70000000e+01, 0.00000000e+00],\n",
       "       [2.80000000e+01, 0.00000000e+00],\n",
       "       [2.90000000e+01, 0.00000000e+00],\n",
       "       [3.00000000e+01, 4.04624800e+06],\n",
       "       [3.10000000e+01, 4.32283800e+06],\n",
       "       [3.20000000e+01, 4.78992200e+06],\n",
       "       [3.30000000e+01, 5.51390600e+06],\n",
       "       [3.40000000e+01, 6.05573000e+06],\n",
       "       [3.50000000e+01, 6.43367200e+06],\n",
       "       [3.60000000e+01, 6.69278000e+06],\n",
       "       [3.70000000e+01, 6.96384200e+06],\n",
       "       [3.80000000e+01, 7.60210600e+06],\n",
       "       [3.90000000e+01, 8.52611200e+06],\n",
       "       [4.00000000e+01, 9.56177600e+06],\n",
       "       [4.10000000e+01, 1.05193860e+07],\n",
       "       [4.20000000e+01, 1.13142840e+07],\n",
       "       [4.30000000e+01, 1.18556940e+07],\n",
       "       [4.40000000e+01, 1.21295840e+07],\n",
       "       [4.50000000e+01, 1.28738620e+07],\n",
       "       [4.60000000e+01, 1.38521000e+07],\n",
       "       [4.70000000e+01, 1.50077280e+07],\n",
       "       [4.80000000e+01, 1.66343600e+07],\n",
       "       [4.90000000e+01, 1.82943700e+07],\n",
       "       [5.00000000e+01, 1.90360300e+07],\n",
       "       [5.10000000e+01, 1.96808580e+07],\n",
       "       [5.20000000e+01, 2.09390280e+07],\n",
       "       [5.30000000e+01, 2.23775640e+07],\n",
       "       [5.40000000e+01, 2.41716600e+07],\n",
       "       [5.50000000e+01, 2.61643440e+07],\n",
       "       [5.60000000e+01, 2.81548800e+07],\n",
       "       [5.70000000e+01, 0.00000000e+00],\n",
       "       [5.80000000e+01, 3.00308680e+07],\n",
       "       [5.90000000e+01, 3.09430720e+07],\n",
       "       [6.00000000e+01, 3.23247160e+07],\n",
       "       [6.10000000e+01, 3.49123370e+07],\n",
       "       [6.20000000e+01, 3.66626030e+07],\n",
       "       [6.30000000e+01, 3.86466210e+07],\n",
       "       [6.40000000e+01, 3.98306390e+07],\n",
       "       [6.50000000e+01, 4.07536220e+07],\n",
       "       [6.60000000e+01, 4.22373640e+07],\n",
       "       [6.70000000e+01, 4.40967120e+07],\n",
       "       [6.80000000e+01, 4.62521990e+07],\n",
       "       [6.90000000e+01, 4.84931350e+07],\n",
       "       [7.00000000e+01, 5.06995880e+07],\n",
       "       [7.10000000e+01, 5.20969770e+07],\n",
       "       [7.20000000e+01, 5.35016430e+07],\n",
       "       [7.30000000e+01, 5.51265520e+07],\n",
       "       [7.40000000e+01, 5.68410370e+07],\n",
       "       [7.50000000e+01, 5.86910060e+07],\n",
       "       [7.60000000e+01, 6.08832630e+07],\n",
       "       [7.70000000e+01, 6.27440940e+07],\n",
       "       [7.80000000e+01, 6.43904830e+07],\n",
       "       [7.90000000e+01, 6.56466720e+07],\n",
       "       [8.00000000e+01, 6.72896660e+07],\n",
       "       [8.10000000e+01, 6.92525560e+07],\n",
       "       [8.20000000e+01, 7.15782100e+07],\n",
       "       [8.30000000e+01, 7.55436870e+07],\n",
       "       [8.40000000e+01, 7.66094800e+07],\n",
       "       [8.50000000e+01, 7.84405160e+07],\n",
       "       [8.60000000e+01, 7.98722660e+07],\n",
       "       [8.70000000e+01, 8.18007770e+07],\n",
       "       [8.80000000e+01, 8.38294180e+07],\n",
       "       [8.90000000e+01, 8.57779750e+07],\n",
       "       [9.00000000e+01, 8.80206070e+07],\n",
       "       [9.10000000e+01, 9.02726060e+07],\n",
       "       [9.20000000e+01, 9.18435400e+07],\n",
       "       [9.30000000e+01, 9.30963520e+07],\n",
       "       [9.40000000e+01, 9.47911290e+07],\n",
       "       [9.50000000e+01, 9.69388360e+07],\n",
       "       [9.60000000e+01, 9.95465150e+07],\n",
       "       [9.70000000e+01, 1.02491174e+08],\n",
       "       [9.80000000e+01, 1.05451667e+08],\n",
       "       [9.90000000e+01, 1.07528783e+08],\n",
       "       [1.00000000e+02, 1.09153459e+08],\n",
       "       [1.01000000e+02, 1.11562791e+08]])"
      ]
     },
     "execution_count": 142,
     "metadata": {},
     "output_type": "execute_result"
    }
   ],
   "source": [
    "x_c_train = np.vstack((np.array(df.iloc[:102,:].index.values.tolist()), vaccination)).T\n",
    "x_c_train"
   ]
  },
  {
   "cell_type": "code",
   "execution_count": 143,
   "metadata": {},
   "outputs": [
    {
     "data": {
      "text/plain": [
       "<matplotlib.collections.PathCollection at 0x13255bf40>"
      ]
     },
     "execution_count": 143,
     "metadata": {},
     "output_type": "execute_result"
    },
    {
     "data": {
      "image/png": "[encoded data removed]",
      "text/plain": [
       "<Figure size 432x288 with 1 Axes>"
      ]
     },
     "metadata": {
      "needs_background": "light"
     },
     "output_type": "display_data"
    }
   ],
   "source": [
    "plt.scatter(x,y_c_train,s=10)"
   ]
  },
  {
   "cell_type": "code",
   "execution_count": 144,
   "metadata": {},
   "outputs": [],
   "source": [
    "neural_net_model = NeuralNetModel(model_config[\"model_name\"])\n",
    "neural_net_model.train(x_c_train, y_c_train, model_config[\"model\"])"
   ]
  },
  {
   "cell_type": "code",
   "execution_count": 145,
   "metadata": {},
   "outputs": [
    {
     "data": {
      "text/plain": [
       "array([[      102, 111480517],\n",
       "       [      103, 113403092],\n",
       "       [      104, 115311292],\n",
       "       [      105, 117215768],\n",
       "       [      106, 119120244],\n",
       "       [      107, 121024721],\n",
       "       [      108, 122929197],\n",
       "       [      109, 124833673],\n",
       "       [      110, 126738149],\n",
       "       [      111, 128642626],\n",
       "       [      112, 130547102],\n",
       "       [      113, 132451578],\n",
       "       [      114, 134356054],\n",
       "       [      115, 136260531],\n",
       "       [      116, 138165007],\n",
       "       [      117, 140069483],\n",
       "       [      118, 141973959],\n",
       "       [      119, 143878436],\n",
       "       [      120, 145782912],\n",
       "       [      121, 147687388],\n",
       "       [      122, 149591864],\n",
       "       [      123, 151496341],\n",
       "       [      124, 153400817],\n",
       "       [      125, 155305293],\n",
       "       [      126, 157209769],\n",
       "       [      127, 159114246],\n",
       "       [      128, 161018722],\n",
       "       [      129, 162923198],\n",
       "       [      130, 164827674],\n",
       "       [      131, 166732151],\n",
       "       [      132, 168636627],\n",
       "       [      133, 170541103]])"
      ]
     },
     "execution_count": 145,
     "metadata": {},
     "output_type": "execute_result"
    }
   ],
   "source": [
    "x_c_test = np.vstack((np.array(list), y_v_pred)).T\n",
    "x_c_test"
   ]
  },
  {
   "cell_type": "code",
   "execution_count": 146,
   "metadata": {},
   "outputs": [
    {
     "data": {
      "text/plain": [
       "array([44619044, 45388294, 46151795, 46913806, 47675817, 48437828,\n",
       "       49199839, 49961850, 50723861, 51485873, 52247884, 53009895,\n",
       "       53771906, 54533917, 55295928, 56057939, 56819950, 57581962,\n",
       "       58343973, 59105984, 59867995, 60630006, 61392017, 62154028,\n",
       "       62916039, 63678051, 64440062, 65202073, 65964084, 66726095,\n",
       "       67488106, 68250117], dtype=int32)"
      ]
     },
     "execution_count": 146,
     "metadata": {},
     "output_type": "execute_result"
    }
   ],
   "source": [
    "y_c_pred = neural_net_model.get_predictions(x_c_test)\n",
    "y_c_pred"
   ]
  },
  {
   "cell_type": "code",
   "execution_count": 147,
   "metadata": {},
   "outputs": [
    {
     "data": {
      "text/plain": [
       "array([[1.02000000e+02, 1.14583082e+08],\n",
       "       [1.03000000e+02, 1.18422715e+08],\n",
       "       [1.04000000e+02, 1.22216549e+08],\n",
       "       [1.05000000e+02, 1.25385077e+08],\n",
       "       [1.06000000e+02, 1.27355746e+08],\n",
       "       [1.07000000e+02, 1.28602626e+08],\n",
       "       [1.08000000e+02, 1.31454029e+08],\n",
       "       [1.09000000e+02, 1.35064895e+08],\n",
       "       [1.10000000e+02, 1.39105415e+08],\n",
       "       [1.11000000e+02, 1.44145651e+08],\n",
       "       [1.12000000e+02, 1.48071014e+08],\n",
       "       [1.13000000e+02, 1.50979224e+08],\n",
       "       [1.14000000e+02, 1.53501691e+08],\n",
       "       [1.15000000e+02, 1.56266663e+08],\n",
       "       [1.16000000e+02, 1.59943303e+08],\n",
       "       [1.17000000e+02, 1.64207620e+08],\n",
       "       [1.18000000e+02, 1.67974595e+08],\n",
       "       [1.19000000e+02, 1.71603046e+08],\n",
       "       [1.20000000e+02, 1.73830334e+08],\n",
       "       [1.21000000e+02, 1.75551679e+08],\n",
       "       [1.22000000e+02, 1.78322476e+08],\n",
       "       [1.23000000e+02, 1.81665228e+08],\n",
       "       [1.24000000e+02, 1.85563352e+08],\n",
       "       [1.25000000e+02, 1.89409819e+08],\n",
       "       [1.26000000e+02, 1.92837765e+08],\n",
       "       [1.27000000e+02, 1.95081051e+08],\n",
       "       [1.28000000e+02, 1.96802025e+08],\n",
       "       [1.29000000e+02, 1.99426393e+08],\n",
       "       [1.30000000e+02, 2.02713598e+08],\n",
       "       [1.31000000e+02, 2.06220484e+08],\n",
       "       [1.32000000e+02, 2.10278776e+08],\n",
       "       [1.33000000e+02, 2.13016060e+08]])"
      ]
     },
     "execution_count": 147,
     "metadata": {},
     "output_type": "execute_result"
    }
   ],
   "source": [
    "x_c_test_real = np.vstack((np.array(list), np.array(y_v_test.tolist()))).T\n",
    "x_c_test_real"
   ]
  },
  {
   "cell_type": "code",
   "execution_count": 148,
   "metadata": {},
   "outputs": [
    {
     "data": {
      "text/plain": [
       "array([45859936, 47395926, 48913599, 50181176, 50969662, 51468663,\n",
       "       52609404, 54053897, 55670233, 57686413, 59256692, 60420153,\n",
       "       61429334, 62535506, 64006306, 65712152, 67219082, 68670608,\n",
       "       69561730, 70250497, 71358999, 72696258, 74255642, 75794366,\n",
       "       77165699, 78063219, 78751838, 79801774, 81116817, 82519723,\n",
       "       84143167, 85238266], dtype=int32)"
      ]
     },
     "execution_count": 148,
     "metadata": {},
     "output_type": "execute_result"
    }
   ],
   "source": [
    "y_c_pred_real = neural_net_model.get_predictions(x_c_test_real)\n",
    "y_c_pred_real"
   ]
  },
  {
   "cell_type": "code",
   "execution_count": 149,
   "metadata": {},
   "outputs": [
    {
     "data": {
      "text/plain": [
       "102    30541255.0\n",
       "103    30611086.0\n",
       "104    30674153.0\n",
       "105    30709125.0\n",
       "106    30786804.0\n",
       "107    30847348.0\n",
       "108    30922386.0\n",
       "109    31002264.0\n",
       "110    31084962.0\n",
       "111    31151497.0\n",
       "112    31197877.0\n",
       "113    31268107.0\n",
       "114    31345985.0\n",
       "115    31421360.0\n",
       "116    31495649.0\n",
       "117    31575640.0\n",
       "118    31628013.0\n",
       "119    31670031.0\n",
       "120    31737964.0\n",
       "121    31799237.0\n",
       "122    31862094.0\n",
       "123    31929351.0\n",
       "124    31991750.0\n",
       "125    32045113.0\n",
       "126    32077178.0\n",
       "127    32124869.0\n",
       "128    32175725.0\n",
       "129    32230850.0\n",
       "130    32289049.0\n",
       "131    32346971.0\n",
       "132    32392274.0\n",
       "133    32421534.0\n",
       "Name: Confirmed, dtype: float64"
      ]
     },
     "execution_count": 149,
     "metadata": {},
     "output_type": "execute_result"
    }
   ],
   "source": [
    "y_c_test = df.iloc[102:,1]\n",
    "y_c_test"
   ]
  },
  {
   "cell_type": "code",
   "execution_count": 150,
   "metadata": {},
   "outputs": [
    {
     "data": {
      "image/png": "[encoded data removed]",
      "text/plain": [
       "<Figure size 864x432 with 2 Axes>"
      ]
     },
     "metadata": {
      "needs_background": "light"
     },
     "output_type": "display_data"
    }
   ],
   "source": [
    "plt.figure(figsize=(12,6))\n",
    "\n",
    "plt.subplot(1,2,1)\n",
    "plt.plot(x_pred, y_c_test, color='r', label=\"Real confirmed cases\")\n",
    "plt.plot(x_pred,y_c_pred,color='b', label=\"predicted confirmed cases\")\n",
    "#plt.title(\"Amount of \" + model_name + \" in each day\")\n",
    "plt.legend()\n",
    "plt.xlabel(\"Day\")\n",
    "plt.ylabel(\"Cases\")\n",
    "\n",
    "plt.subplot(1,2,2)\n",
    "plt.plot(x_pred, y_c_test, color='r', label=\"Real confirmed cases\")\n",
    "plt.plot(x_pred,y_c_pred_real,color='b', label=\"predicted confirmed cases with real vaccination\")\n",
    "#plt.title(\"Amount of \" + model_name + \" in each day\")\n",
    "plt.legend()\n",
    "plt.xlabel(\"Day\")\n",
    "plt.ylabel(\"Cases\")\n",
    "\n",
    "plt.show()"
   ]
  },
  {
   "cell_type": "code",
   "execution_count": 151,
   "metadata": {},
   "outputs": [
    {
     "data": {
      "image/png": "[encoded data removed]",
      "text/plain": [
       "<Figure size 1296x432 with 3 Axes>"
      ]
     },
     "metadata": {
      "needs_background": "light"
     },
     "output_type": "display_data"
    }
   ],
   "source": [
    "plt.figure(figsize=(18,6))\n",
    "\n",
    "plt.subplot(1,3,1)\n",
    "plt.plot(x_pred, y_v_pred, color='r', label=\"predicted vaccination\")\n",
    "plt.plot(x_pred,y_c_pred,color='b', label=\"predicted confirmed cases\")\n",
    "#plt.title(\"Amount of \" + model_name + \" in each day\")\n",
    "plt.legend()\n",
    "plt.xlabel(\"Day\")\n",
    "plt.ylabel(\"Cases/Vacciantions\")\n",
    "\n",
    "plt.subplot(1,3,2)\n",
    "plt.plot(x_pred, y_v_test, color='r', label=\"real vaccination\")\n",
    "plt.plot(x_pred,y_c_test,color='b', label=\"real confirmed cases\")\n",
    "#plt.title(\"Amount of \" + model_name + \" in each day\")\n",
    "plt.legend()\n",
    "plt.xlabel(\"Day\")\n",
    "plt.ylabel(\"Cases/Vacciantions\")\n",
    "\n",
    "plt.subplot(1,3,3)\n",
    "plt.plot(x_pred, y_v_test, color='r', label=\"real vaccination\")\n",
    "plt.plot(x_pred,y_c_pred_real,color='b', label=\"predicted confirmed cases with real vaccination\")\n",
    "#plt.title(\"Amount of \" + model_name + \" in each day\")\n",
    "plt.legend()\n",
    "plt.xlabel(\"Day\")\n",
    "plt.ylabel(\"Cases/Vacciantions\")\n",
    "\n",
    "plt.show()"
   ]
  }
 ],
 "metadata": {
  "kernelspec": {
   "display_name": "PyCharm (Lab1)",
   "language": "python",
   "name": "pycharm-237eae58"
  },
  "language_info": {
   "codemirror_mode": {
    "name": "ipython",
    "version": 3
   },
   "file_extension": ".py",
   "mimetype": "text/x-python",
   "name": "python",
   "nbconvert_exporter": "python",
   "pygments_lexer": "ipython3",
   "version": "3.8.2"
  }
 },
 "nbformat": 4,
 "nbformat_minor": 1
}
