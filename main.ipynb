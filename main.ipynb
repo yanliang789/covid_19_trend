{
 "cells": [
  {
   "cell_type": "code",
   "execution_count": 100,
   "metadata": {},
   "outputs": [],
   "source": [
    "from PolynomialRegressionModel import *\n",
    "import numpy as np\n",
    "import pandas as pd\n",
    "import matplotlib.pyplot as plt\n",
    "from NN import NeuralNetModel\n",
    "import json"
   ]
  },
  {
   "cell_type": "code",
   "execution_count": 103,
   "metadata": {},
   "outputs": [],
   "source": [
    "with open(\"config.json\", \"r\") as f:\n",
    "    config = json.load(f)"
   ]
  },
  {
   "cell_type": "code",
   "execution_count": 104,
   "metadata": {},
   "outputs": [
    {
     "data": {
      "text/plain": [
       "{'enabled': True,\n",
       " 'model_name': 'Cases',\n",
       " 'model': {'type': 'neural_net',\n",
       "  'alpha': 1e-06,\n",
       "  'hidden_layer_sizes': 'auto',\n",
       "  'learning_rate_init': 0.1,\n",
       "  'max_iter': 50000,\n",
       "  'batch_size': 32,\n",
       "  'tol': 1e-06,\n",
       "  'n_iter_no_change': 250,\n",
       "  'verbose': False},\n",
       " 'datagrabber_class': 'CasesDataGrabber',\n",
       " 'grab_data_from_server': True,\n",
       " 'offline_dataset_date': '2020-09-26',\n",
       " 'days_to_predict': 10}"
      ]
     },
     "execution_count": 104,
     "metadata": {},
     "output_type": "execute_result"
    }
   ],
   "source": [
    "model_config = config[\"models\"]\n",
    "model_config"
   ]
  },
  {
   "cell_type": "code",
   "execution_count": 105,
   "metadata": {},
   "outputs": [
    {
     "data": {
      "text/html": [
       "<div>\n",
       "<style scoped>\n",
       "    .dataframe tbody tr th:only-of-type {\n",
       "        vertical-align: middle;\n",
       "    }\n",
       "\n",
       "    .dataframe tbody tr th {\n",
       "        vertical-align: top;\n",
       "    }\n",
       "\n",
       "    .dataframe thead th {\n",
       "        text-align: right;\n",
       "    }\n",
       "</style>\n",
       "<table border=\"1\" class=\"dataframe\">\n",
       "  <thead>\n",
       "    <tr style=\"text-align: right;\">\n",
       "      <th></th>\n",
       "      <th>ObservationDate</th>\n",
       "      <th>Confirmed</th>\n",
       "      <th>People_Fully_Vaccinated</th>\n",
       "    </tr>\n",
       "  </thead>\n",
       "  <tbody>\n",
       "    <tr>\n",
       "      <th>0</th>\n",
       "      <td>2020-12-20</td>\n",
       "      <td>76818746.0</td>\n",
       "      <td>0.0</td>\n",
       "    </tr>\n",
       "    <tr>\n",
       "      <th>1</th>\n",
       "      <td>2020-12-21</td>\n",
       "      <td>77367360.0</td>\n",
       "      <td>0.0</td>\n",
       "    </tr>\n",
       "    <tr>\n",
       "      <th>2</th>\n",
       "      <td>2020-12-22</td>\n",
       "      <td>78016498.0</td>\n",
       "      <td>0.0</td>\n",
       "    </tr>\n",
       "    <tr>\n",
       "      <th>3</th>\n",
       "      <td>2020-12-23</td>\n",
       "      <td>78710560.0</td>\n",
       "      <td>0.0</td>\n",
       "    </tr>\n",
       "    <tr>\n",
       "      <th>4</th>\n",
       "      <td>2020-12-24</td>\n",
       "      <td>79377452.0</td>\n",
       "      <td>0.0</td>\n",
       "    </tr>\n",
       "    <tr>\n",
       "      <th>...</th>\n",
       "      <td>...</td>\n",
       "      <td>...</td>\n",
       "      <td>...</td>\n",
       "    </tr>\n",
       "    <tr>\n",
       "      <th>65</th>\n",
       "      <td>2021-02-23</td>\n",
       "      <td>112019890.0</td>\n",
       "      <td>41842414.0</td>\n",
       "    </tr>\n",
       "    <tr>\n",
       "      <th>66</th>\n",
       "      <td>2021-02-24</td>\n",
       "      <td>112464430.0</td>\n",
       "      <td>42359354.0</td>\n",
       "    </tr>\n",
       "    <tr>\n",
       "      <th>67</th>\n",
       "      <td>2021-02-25</td>\n",
       "      <td>112911535.0</td>\n",
       "      <td>43514673.0</td>\n",
       "    </tr>\n",
       "    <tr>\n",
       "      <th>68</th>\n",
       "      <td>2021-02-26</td>\n",
       "      <td>113325717.0</td>\n",
       "      <td>45521878.0</td>\n",
       "    </tr>\n",
       "    <tr>\n",
       "      <th>69</th>\n",
       "      <td>2021-02-27</td>\n",
       "      <td>113694842.0</td>\n",
       "      <td>46345540.0</td>\n",
       "    </tr>\n",
       "  </tbody>\n",
       "</table>\n",
       "<p>70 rows × 3 columns</p>\n",
       "</div>"
      ],
      "text/plain": [
       "   ObservationDate    Confirmed  People_Fully_Vaccinated\n",
       "0       2020-12-20   76818746.0                      0.0\n",
       "1       2020-12-21   77367360.0                      0.0\n",
       "2       2020-12-22   78016498.0                      0.0\n",
       "3       2020-12-23   78710560.0                      0.0\n",
       "4       2020-12-24   79377452.0                      0.0\n",
       "..             ...          ...                      ...\n",
       "65      2021-02-23  112019890.0               41842414.0\n",
       "66      2021-02-24  112464430.0               42359354.0\n",
       "67      2021-02-25  112911535.0               43514673.0\n",
       "68      2021-02-26  113325717.0               45521878.0\n",
       "69      2021-02-27  113694842.0               46345540.0\n",
       "\n",
       "[70 rows x 3 columns]"
      ]
     },
     "execution_count": 105,
     "metadata": {},
     "output_type": "execute_result"
    }
   ],
   "source": [
    "df_vac = pd.read_csv('Confirmed_VS_Vaccinated_US.csv').drop(columns=['Unnamed: 0'])\n",
    "df_vac"
   ]
  },
  {
   "cell_type": "code",
   "execution_count": 106,
   "metadata": {},
   "outputs": [
    {
     "data": {
      "text/plain": [
       "array([[70],\n",
       "       [71],\n",
       "       [72],\n",
       "       [73],\n",
       "       [74],\n",
       "       [75],\n",
       "       [76],\n",
       "       [77],\n",
       "       [78],\n",
       "       [79],\n",
       "       [80],\n",
       "       [81],\n",
       "       [82],\n",
       "       [83],\n",
       "       [84],\n",
       "       [85],\n",
       "       [86],\n",
       "       [87],\n",
       "       [88],\n",
       "       [89],\n",
       "       [90]])"
      ]
     },
     "execution_count": 106,
     "metadata": {},
     "output_type": "execute_result"
    }
   ],
   "source": [
    "x = np.array(df_vac.index.values.tolist()).reshape(-1, 1)\n",
    "list = []\n",
    "for i in range(1,22):\n",
    "    list.append(69 +i)\n",
    "x_pred = np.array(list).reshape(-1, 1)\n",
    "x_pred"
   ]
  },
  {
   "cell_type": "code",
   "execution_count": 107,
   "metadata": {},
   "outputs": [
    {
     "data": {
      "text/plain": [
       "0            0.0\n",
       "1            0.0\n",
       "2            0.0\n",
       "3            0.0\n",
       "4            0.0\n",
       "         ...    \n",
       "65    41842414.0\n",
       "66    42359354.0\n",
       "67    43514673.0\n",
       "68    45521878.0\n",
       "69    46345540.0\n",
       "Name: People_Fully_Vaccinated, Length: 70, dtype: float64"
      ]
     },
     "execution_count": 107,
     "metadata": {},
     "output_type": "execute_result"
    }
   ],
   "source": [
    "y_c_train = df_vac.iloc[:,1]\n",
    "y_v_train = df_vac.iloc[:,-1]\n",
    "y_v_train"
   ]
  },
  {
   "cell_type": "code",
   "execution_count": 109,
   "metadata": {},
   "outputs": [],
   "source": [
    "neural_net_model = NeuralNetModel(model_config[\"model_name\"])\n",
    "neural_net_model.train(x, y_v_train, model_config[\"model\"])"
   ]
  },
  {
   "cell_type": "code",
   "execution_count": 110,
   "metadata": {},
   "outputs": [],
   "source": [
    "beginning_day=len(x)\n",
    "limit=10\n",
    "next_days_x = np.array(range(beginning_day, beginning_day + limit)).reshape(-1, 1)\n",
    "y_v_pred = neural_net_model.get_predictions(x_pred)"
   ]
  },
  {
   "cell_type": "code",
   "execution_count": 111,
   "metadata": {},
   "outputs": [
    {
     "data": {
      "text/plain": [
       "array([50344412, 52143297, 53942183, 55741069, 57539955, 59338841,\n",
       "       61137727, 62936613, 64735499, 66534384, 68333270, 70132156,\n",
       "       71931042, 73729928, 75528814, 77327700, 79126586, 80925471,\n",
       "       82724357, 84523243, 86322129])"
      ]
     },
     "execution_count": 111,
     "metadata": {},
     "output_type": "execute_result"
    }
   ],
   "source": [
    "y_v_pred"
   ]
  },
  {
   "cell_type": "code",
   "execution_count": 112,
   "metadata": {},
   "outputs": [
    {
     "data": {
      "text/plain": [
       "0     50217092.0\n",
       "1     52969506.0\n",
       "2     52933742.0\n",
       "3     56283119.0\n",
       "4     57540294.0\n",
       "5     58534730.0\n",
       "6     58056286.0\n",
       "7     60088698.0\n",
       "8     63270356.0\n",
       "9     64762432.0\n",
       "10    69592914.0\n",
       "11    73010600.0\n",
       "12    75600854.0\n",
       "13    78513026.0\n",
       "14    77982576.0\n",
       "15    82336622.0\n",
       "16    79035899.0\n",
       "17    90713305.0\n",
       "18    88548724.0\n",
       "19    90448901.0\n",
       "20    81404397.0\n",
       "Name: People_Fully_Vaccinated, dtype: float64"
      ]
     },
     "execution_count": 112,
     "metadata": {},
     "output_type": "execute_result"
    }
   ],
   "source": [
    "df_y = pd.read_csv('02_28_to_03_20_vaccination.csv')\n",
    "y_v_test = df_y.iloc[:,-1]\n",
    "y_v_test"
   ]
  },
  {
   "cell_type": "code",
   "execution_count": 113,
   "metadata": {},
   "outputs": [],
   "source": [
    "import matplotlib.pyplot as plt"
   ]
  },
  {
   "cell_type": "code",
   "execution_count": 114,
   "metadata": {},
   "outputs": [
    {
     "data": {
      "image/png": "[encoded data removed]",
      "text/plain": [
       "<Figure size 432x288 with 1 Axes>"
      ]
     },
     "metadata": {
      "needs_background": "light"
     },
     "output_type": "display_data"
    }
   ],
   "source": [
    "plt.plot(x_pred, y_v_pred, color='m', label=\"Predicted Vaccination\")\n",
    "plt.plot(x_pred,y_v_test,color='r', label=\"Real Vaccination\")\n",
    "#plt.title(\"Amount of \" + model_name + \" in each day\")\n",
    "plt.legend()\n",
    "plt.xlabel(\"Day\")\n",
    "plt.ylabel(\"vaccination\")\n",
    "plt.show()"
   ]
  },
  {
   "cell_type": "code",
   "execution_count": 117,
   "metadata": {},
   "outputs": [],
   "source": [
    "x_100 = np.array(df_vac.index.values.tolist()).reshape(-1, 1)\n",
    "list = []\n",
    "for i in range(1,200):\n",
    "    list.append(69 +i)\n",
    "x_pred_100 = np.array(list).reshape(-1, 1)"
   ]
  },
  {
   "cell_type": "code",
   "execution_count": 118,
   "metadata": {},
   "outputs": [],
   "source": [
    "neural_net_model_100 = NeuralNetModel(model_config[\"model_name\"])\n",
    "neural_net_model_100.train(x, y_v_train, model_config[\"model\"])"
   ]
  },
  {
   "cell_type": "code",
   "execution_count": 121,
   "metadata": {},
   "outputs": [
    {
     "data": {
      "text/plain": [
       "array([ 49062123,  50802451,  52542780,  54283109,  56023437,  57763766,\n",
       "        59504094,  61244423,  62984751,  64725080,  66465408,  68205737,\n",
       "        69946065,  71686394,  73426722,  75167051,  76907380,  78647708,\n",
       "        80388037,  82128365,  83868694,  85609022,  87349351,  89089679,\n",
       "        90830008,  92570336,  94310665,  96050994,  97791322,  99531651,\n",
       "       101271979, 103012308, 104752636, 106492965, 108233293, 109973622,\n",
       "       111713950, 113454279, 115194608, 116934936, 118675265, 120415593,\n",
       "       122155922, 123896250, 125636579, 127376907, 129117236, 130857564,\n",
       "       132597893, 134338222, 136078550, 137818879, 139559207, 141299536,\n",
       "       143039864, 144780193, 146520521, 148260850, 150001178, 151741507,\n",
       "       153481836, 155222164, 156962493, 158702821, 160443150, 162183478,\n",
       "       163923807, 165664135, 167404464, 169144792, 170885121, 172625450,\n",
       "       174365778, 176106107, 177846435, 179586764, 181327092, 183067421,\n",
       "       184807749, 186548078, 188288406, 190028735, 191769064, 193509392,\n",
       "       195249721, 196990049, 198730378, 200470706, 202211035, 203951363,\n",
       "       205691692, 207432020, 209172349, 210912678, 212653006, 214393335,\n",
       "       216133663, 217873992, 219614320, 221354649, 223094977, 224835306,\n",
       "       226575634, 228315963, 230056291, 231796620, 233536949, 235277277,\n",
       "       237017606, 238757934, 240498263, 242238591, 243978920, 245719248,\n",
       "       247459577, 249199905, 250940234, 252680563, 254420891, 256161220,\n",
       "       257901548, 259641877, 261382205, 263122534, 264862862, 266603191,\n",
       "       268343519, 270083848, 271824177, 273564505, 275304834, 277045162,\n",
       "       278785491, 280525819, 282266148, 284006476, 285746805, 287487133,\n",
       "       289227462, 290967791, 292708119, 294448448, 296188776, 297929105,\n",
       "       299669433, 301409762, 303150090, 304890419, 306630747, 308371076,\n",
       "       310111405, 311851733, 313592062, 315332390, 317072719, 318813047,\n",
       "       320553376, 322293704, 324034033, 325774361, 327514690, 329255019,\n",
       "       330995347, 332735676, 334476004, 336216333, 337956661, 339696990,\n",
       "       341437318, 343177647, 344917975, 346658304, 348398633, 350138961,\n",
       "       351879290, 353619618, 355359947, 357100275, 358840604, 360580932,\n",
       "       362321261, 364061589, 365801918, 367542246, 369282575, 371022904,\n",
       "       372763232, 374503561, 376243889, 377984218, 379724546, 381464875,\n",
       "       383205203, 384945532, 386685860, 388426189, 390166518, 391906846,\n",
       "       393647175])"
      ]
     },
     "execution_count": 121,
     "metadata": {},
     "output_type": "execute_result"
    }
   ],
   "source": [
    "y_v_pred_vac_100 = neural_net_model_100.get_predictions(x_pred_100)\n",
    "y_v_pred_vac_100"
   ]
  },
  {
   "cell_type": "code",
   "execution_count": 123,
   "metadata": {},
   "outputs": [
    {
     "data": {
      "text/plain": [
       "0            0.0\n",
       "1            0.0\n",
       "2            0.0\n",
       "3            0.0\n",
       "4            0.0\n",
       "         ...    \n",
       "65    41842414.0\n",
       "66    42359354.0\n",
       "67    43514673.0\n",
       "68    45521878.0\n",
       "69    46345540.0\n",
       "Name: People_Fully_Vaccinated, Length: 70, dtype: float64"
      ]
     },
     "execution_count": 123,
     "metadata": {},
     "output_type": "execute_result"
    }
   ],
   "source": [
    "y_c_train_100 = df_vac.iloc[:,1]\n",
    "vaccination = df_vac.iloc[:,-1]\n",
    "vaccination"
   ]
  },
  {
   "cell_type": "code",
   "execution_count": 124,
   "metadata": {},
   "outputs": [
    {
     "data": {
      "text/plain": [
       "array([[0.0000000e+00, 0.0000000e+00],\n",
       "       [1.0000000e+00, 0.0000000e+00],\n",
       "       [2.0000000e+00, 0.0000000e+00],\n",
       "       [3.0000000e+00, 0.0000000e+00],\n",
       "       [4.0000000e+00, 0.0000000e+00],\n",
       "       [5.0000000e+00, 0.0000000e+00],\n",
       "       [6.0000000e+00, 0.0000000e+00],\n",
       "       [7.0000000e+00, 0.0000000e+00],\n",
       "       [8.0000000e+00, 0.0000000e+00],\n",
       "       [9.0000000e+00, 0.0000000e+00],\n",
       "       [1.0000000e+01, 0.0000000e+00],\n",
       "       [1.1000000e+01, 0.0000000e+00],\n",
       "       [1.2000000e+01, 0.0000000e+00],\n",
       "       [1.3000000e+01, 0.0000000e+00],\n",
       "       [1.4000000e+01, 4.4004000e+04],\n",
       "       [1.5000000e+01, 2.0000000e+00],\n",
       "       [1.6000000e+01, 2.0000000e+00],\n",
       "       [1.7000000e+01, 2.0000000e+00],\n",
       "       [1.8000000e+01, 2.1780000e+03],\n",
       "       [1.9000000e+01, 4.0610000e+03],\n",
       "       [2.0000000e+01, 5.9100000e+03],\n",
       "       [2.1000000e+01, 1.0446960e+06],\n",
       "       [2.2000000e+01, 8.5545100e+05],\n",
       "       [2.3000000e+01, 9.2336300e+05],\n",
       "       [2.4000000e+01, 1.0109450e+06],\n",
       "       [2.5000000e+01, 2.4419710e+06],\n",
       "       [2.6000000e+01, 2.7648820e+06],\n",
       "       [2.7000000e+01, 1.1884820e+06],\n",
       "       [2.8000000e+01, 1.3039140e+06],\n",
       "       [2.9000000e+01, 1.4779340e+06],\n",
       "       [3.0000000e+01, 3.7254210e+06],\n",
       "       [3.1000000e+01, 4.1423000e+06],\n",
       "       [3.2000000e+01, 4.6923810e+06],\n",
       "       [3.3000000e+01, 5.2347730e+06],\n",
       "       [3.4000000e+01, 5.6077080e+06],\n",
       "       [3.5000000e+01, 6.1092530e+06],\n",
       "       [3.6000000e+01, 6.5926990e+06],\n",
       "       [3.7000000e+01, 7.1347200e+06],\n",
       "       [3.8000000e+01, 7.8183880e+06],\n",
       "       [3.9000000e+01, 8.7309720e+06],\n",
       "       [4.0000000e+01, 9.3779030e+06],\n",
       "       [4.1000000e+01, 1.0226343e+07],\n",
       "       [4.2000000e+01, 1.1132202e+07],\n",
       "       [4.3000000e+01, 1.1871822e+07],\n",
       "       [4.4000000e+01, 1.2353192e+07],\n",
       "       [4.5000000e+01, 1.3433793e+07],\n",
       "       [4.6000000e+01, 1.4585944e+07],\n",
       "       [4.7000000e+01, 1.4830935e+07],\n",
       "       [4.8000000e+01, 1.6008441e+07],\n",
       "       [4.9000000e+01, 1.8001377e+07],\n",
       "       [5.0000000e+01, 1.8306639e+07],\n",
       "       [5.1000000e+01, 1.9621675e+07],\n",
       "       [5.2000000e+01, 2.2067180e+07],\n",
       "       [5.3000000e+01, 2.2284125e+07],\n",
       "       [5.4000000e+01, 2.2736469e+07],\n",
       "       [5.5000000e+01, 2.4494954e+07],\n",
       "       [5.6000000e+01, 2.7070658e+07],\n",
       "       [5.7000000e+01, 1.3573251e+07],\n",
       "       [5.8000000e+01, 2.9217033e+07],\n",
       "       [5.9000000e+01, 3.0788522e+07],\n",
       "       [6.0000000e+01, 3.2539522e+07],\n",
       "       [6.1000000e+01, 3.2890006e+07],\n",
       "       [6.2000000e+01, 3.5065136e+07],\n",
       "       [6.3000000e+01, 3.7272222e+07],\n",
       "       [6.4000000e+01, 3.8151874e+07],\n",
       "       [6.5000000e+01, 4.1842414e+07],\n",
       "       [6.6000000e+01, 4.2359354e+07],\n",
       "       [6.7000000e+01, 4.3514673e+07],\n",
       "       [6.8000000e+01, 4.5521878e+07],\n",
       "       [6.9000000e+01, 4.6345540e+07]])"
      ]
     },
     "execution_count": 124,
     "metadata": {},
     "output_type": "execute_result"
    }
   ],
   "source": [
    "x_c_train_100 = np.vstack((np.array(df_vac.index.values.tolist()), vaccination)).T\n",
    "x_c_train_100"
   ]
  },
  {
   "cell_type": "code",
   "execution_count": 125,
   "metadata": {},
   "outputs": [],
   "source": [
    "neural_net_model_100_cases = NeuralNetModel(model_config[\"model_name\"])\n",
    "neural_net_model_100_cases.train(x_c_train_100, y_c_train_100, model_config[\"model\"])"
   ]
  },
  {
   "cell_type": "code",
   "execution_count": 127,
   "metadata": {},
   "outputs": [
    {
     "data": {
      "text/plain": [
       "array([[       70,  49062123],\n",
       "       [       71,  50802451],\n",
       "       [       72,  52542780],\n",
       "       [       73,  54283109],\n",
       "       [       74,  56023437],\n",
       "       [       75,  57763766],\n",
       "       [       76,  59504094],\n",
       "       [       77,  61244423],\n",
       "       [       78,  62984751],\n",
       "       [       79,  64725080],\n",
       "       [       80,  66465408],\n",
       "       [       81,  68205737],\n",
       "       [       82,  69946065],\n",
       "       [       83,  71686394],\n",
       "       [       84,  73426722],\n",
       "       [       85,  75167051],\n",
       "       [       86,  76907380],\n",
       "       [       87,  78647708],\n",
       "       [       88,  80388037],\n",
       "       [       89,  82128365],\n",
       "       [       90,  83868694],\n",
       "       [       91,  85609022],\n",
       "       [       92,  87349351],\n",
       "       [       93,  89089679],\n",
       "       [       94,  90830008],\n",
       "       [       95,  92570336],\n",
       "       [       96,  94310665],\n",
       "       [       97,  96050994],\n",
       "       [       98,  97791322],\n",
       "       [       99,  99531651],\n",
       "       [      100, 101271979],\n",
       "       [      101, 103012308],\n",
       "       [      102, 104752636],\n",
       "       [      103, 106492965],\n",
       "       [      104, 108233293],\n",
       "       [      105, 109973622],\n",
       "       [      106, 111713950],\n",
       "       [      107, 113454279],\n",
       "       [      108, 115194608],\n",
       "       [      109, 116934936],\n",
       "       [      110, 118675265],\n",
       "       [      111, 120415593],\n",
       "       [      112, 122155922],\n",
       "       [      113, 123896250],\n",
       "       [      114, 125636579],\n",
       "       [      115, 127376907],\n",
       "       [      116, 129117236],\n",
       "       [      117, 130857564],\n",
       "       [      118, 132597893],\n",
       "       [      119, 134338222],\n",
       "       [      120, 136078550],\n",
       "       [      121, 137818879],\n",
       "       [      122, 139559207],\n",
       "       [      123, 141299536],\n",
       "       [      124, 143039864],\n",
       "       [      125, 144780193],\n",
       "       [      126, 146520521],\n",
       "       [      127, 148260850],\n",
       "       [      128, 150001178],\n",
       "       [      129, 151741507],\n",
       "       [      130, 153481836],\n",
       "       [      131, 155222164],\n",
       "       [      132, 156962493],\n",
       "       [      133, 158702821],\n",
       "       [      134, 160443150],\n",
       "       [      135, 162183478],\n",
       "       [      136, 163923807],\n",
       "       [      137, 165664135],\n",
       "       [      138, 167404464],\n",
       "       [      139, 169144792],\n",
       "       [      140, 170885121],\n",
       "       [      141, 172625450],\n",
       "       [      142, 174365778],\n",
       "       [      143, 176106107],\n",
       "       [      144, 177846435],\n",
       "       [      145, 179586764],\n",
       "       [      146, 181327092],\n",
       "       [      147, 183067421],\n",
       "       [      148, 184807749],\n",
       "       [      149, 186548078],\n",
       "       [      150, 188288406],\n",
       "       [      151, 190028735],\n",
       "       [      152, 191769064],\n",
       "       [      153, 193509392],\n",
       "       [      154, 195249721],\n",
       "       [      155, 196990049],\n",
       "       [      156, 198730378],\n",
       "       [      157, 200470706],\n",
       "       [      158, 202211035],\n",
       "       [      159, 203951363],\n",
       "       [      160, 205691692],\n",
       "       [      161, 207432020],\n",
       "       [      162, 209172349],\n",
       "       [      163, 210912678],\n",
       "       [      164, 212653006],\n",
       "       [      165, 214393335],\n",
       "       [      166, 216133663],\n",
       "       [      167, 217873992],\n",
       "       [      168, 219614320],\n",
       "       [      169, 221354649],\n",
       "       [      170, 223094977],\n",
       "       [      171, 224835306],\n",
       "       [      172, 226575634],\n",
       "       [      173, 228315963],\n",
       "       [      174, 230056291],\n",
       "       [      175, 231796620],\n",
       "       [      176, 233536949],\n",
       "       [      177, 235277277],\n",
       "       [      178, 237017606],\n",
       "       [      179, 238757934],\n",
       "       [      180, 240498263],\n",
       "       [      181, 242238591],\n",
       "       [      182, 243978920],\n",
       "       [      183, 245719248],\n",
       "       [      184, 247459577],\n",
       "       [      185, 249199905],\n",
       "       [      186, 250940234],\n",
       "       [      187, 252680563],\n",
       "       [      188, 254420891],\n",
       "       [      189, 256161220],\n",
       "       [      190, 257901548],\n",
       "       [      191, 259641877],\n",
       "       [      192, 261382205],\n",
       "       [      193, 263122534],\n",
       "       [      194, 264862862],\n",
       "       [      195, 266603191],\n",
       "       [      196, 268343519],\n",
       "       [      197, 270083848],\n",
       "       [      198, 271824177],\n",
       "       [      199, 273564505],\n",
       "       [      200, 275304834],\n",
       "       [      201, 277045162],\n",
       "       [      202, 278785491],\n",
       "       [      203, 280525819],\n",
       "       [      204, 282266148],\n",
       "       [      205, 284006476],\n",
       "       [      206, 285746805],\n",
       "       [      207, 287487133],\n",
       "       [      208, 289227462],\n",
       "       [      209, 290967791],\n",
       "       [      210, 292708119],\n",
       "       [      211, 294448448],\n",
       "       [      212, 296188776],\n",
       "       [      213, 297929105],\n",
       "       [      214, 299669433],\n",
       "       [      215, 301409762],\n",
       "       [      216, 303150090],\n",
       "       [      217, 304890419],\n",
       "       [      218, 306630747],\n",
       "       [      219, 308371076],\n",
       "       [      220, 310111405],\n",
       "       [      221, 311851733],\n",
       "       [      222, 313592062],\n",
       "       [      223, 315332390],\n",
       "       [      224, 317072719],\n",
       "       [      225, 318813047],\n",
       "       [      226, 320553376],\n",
       "       [      227, 322293704],\n",
       "       [      228, 324034033],\n",
       "       [      229, 325774361],\n",
       "       [      230, 327514690],\n",
       "       [      231, 329255019],\n",
       "       [      232, 330995347],\n",
       "       [      233, 332735676],\n",
       "       [      234, 334476004],\n",
       "       [      235, 336216333],\n",
       "       [      236, 337956661],\n",
       "       [      237, 339696990],\n",
       "       [      238, 341437318],\n",
       "       [      239, 343177647],\n",
       "       [      240, 344917975],\n",
       "       [      241, 346658304],\n",
       "       [      242, 348398633],\n",
       "       [      243, 350138961],\n",
       "       [      244, 351879290],\n",
       "       [      245, 353619618],\n",
       "       [      246, 355359947],\n",
       "       [      247, 357100275],\n",
       "       [      248, 358840604],\n",
       "       [      249, 360580932],\n",
       "       [      250, 362321261],\n",
       "       [      251, 364061589],\n",
       "       [      252, 365801918],\n",
       "       [      253, 367542246],\n",
       "       [      254, 369282575],\n",
       "       [      255, 371022904],\n",
       "       [      256, 372763232],\n",
       "       [      257, 374503561],\n",
       "       [      258, 376243889],\n",
       "       [      259, 377984218],\n",
       "       [      260, 379724546],\n",
       "       [      261, 381464875],\n",
       "       [      262, 383205203],\n",
       "       [      263, 384945532],\n",
       "       [      264, 386685860],\n",
       "       [      265, 388426189],\n",
       "       [      266, 390166518],\n",
       "       [      267, 391906846],\n",
       "       [      268, 393647175]])"
      ]
     },
     "execution_count": 127,
     "metadata": {},
     "output_type": "execute_result"
    }
   ],
   "source": [
    "x_c_test_100 = np.vstack((np.array(list), y_v_pred_vac_100)).T\n",
    "x_c_test_100"
   ]
  },
  {
   "cell_type": "code",
   "execution_count": 128,
   "metadata": {},
   "outputs": [
    {
     "data": {
      "text/plain": [
       "array([ 188473093,  195158031,  201842972,  208527913,  215212850,\n",
       "        221897791,  228582728,  235267669,  241952607,  248637548,\n",
       "        255322485,  262007426,  268692363,  275377304,  282062241,\n",
       "        288747182,  295432124,  302117061,  308802002,  315486939,\n",
       "        322171880,  328856817,  335541758,  342226696,  348911637,\n",
       "        355596574,  362281515,  368966456,  375651393,  382336334,\n",
       "        389021272,  395706213,  402391150,  409076091,  415761028,\n",
       "        422445969,  429130906,  435815847,  442500788,  449185726,\n",
       "        455870667,  462555604,  469240545,  475925482,  482610423,\n",
       "        489295361,  495980302,  502665239,  509350180,  516035121,\n",
       "        522720058,  529404999,  536089936,  542774878,  549459815,\n",
       "        556144756,  562829693,  569514634,  576199571,  582884512,\n",
       "        589569453,  596254391,  602939332,  609624269,  616309210,\n",
       "        622994147,  629679088,  636364026,  643048967,  649733904,\n",
       "        656418845,  663103786,  669788723,  676473664,  683158601,\n",
       "        689843543,  696528480,  703213421,  709898358,  716583299,\n",
       "        723268236,  729953177,  736638118,  743323056,  750007997,\n",
       "        756692934,  763377875,  770062812,  776747753,  783432691,\n",
       "        790117632,  796802569,  803487510,  810172451,  816857388,\n",
       "        823542329,  830227266,  836912208,  843597145,  850282086,\n",
       "        856967023,  863651964,  870336901,  877021842,  883706780,\n",
       "        890391721,  897076662,  903761599,  910446540,  917131477,\n",
       "        923816418,  930501356,  937186297,  943871234,  950556175,\n",
       "        957241112,  963926053,  970610994,  977295931,  983980872,\n",
       "        990665810,  997350751, 1004035688, 1010720629, 1017405566,\n",
       "       1024090507, 1030775445, 1037460386, 1044145327, 1050830264,\n",
       "       1057515205, 1064200142, 1070885083, 1077570020, 1084254962,\n",
       "       1090939899, 1097624840, 1104309777, 1110994718, 1117679659,\n",
       "       1124364596, 1131049537, 1137734475, 1144419416, 1151104353,\n",
       "       1157789294, 1164474231, 1171159172, 1177844110, 1184529051,\n",
       "       1191213992, 1197898929, 1204583870, 1211268807, 1217953748,\n",
       "       1224638685, 1231323627, 1238008564, 1244693505, 1251378442,\n",
       "       1258063383, 1264748324, 1271433261, 1278118202, 1284803140,\n",
       "       1291488081, 1298173018, 1304857959, 1311542896, 1318227837,\n",
       "       1324912775, 1331597716, 1338282657, 1344967594, 1351652535,\n",
       "       1358337472, 1365022413, 1371707350, 1378392292, 1385077229,\n",
       "       1391762170, 1398447107, 1405132048, 1411816985, 1418501926,\n",
       "       1425186867, 1431871805, 1438556746, 1445241683, 1451926624,\n",
       "       1458611561, 1465296502, 1471981440, 1478666381, 1485351318,\n",
       "       1492036259, 1498721200, 1505406137, 1512091078])"
      ]
     },
     "execution_count": 128,
     "metadata": {},
     "output_type": "execute_result"
    }
   ],
   "source": [
    "y_c_pred_100 = neural_net_model_100_cases.get_predictions(x_c_test_100)\n",
    "y_c_pred_100"
   ]
  },
  {
   "cell_type": "code",
   "execution_count": 130,
   "metadata": {},
   "outputs": [
    {
     "data": {
      "image/png": "[encoded data removed]",
      "text/plain": [
       "<Figure size 432x288 with 1 Axes>"
      ]
     },
     "metadata": {
      "needs_background": "light"
     },
     "output_type": "display_data"
    }
   ],
   "source": [
    "plt.plot(x_pred_100, y_v_pred_vac_100, color='r', label=\"predicted vaccination\")\n",
    "plt.plot(x_pred_100,y_c_pred_100,color='b', label=\"predicted confirmed cases\")\n",
    "#plt.title(\"Amount of \" + model_name + \" in each day\")\n",
    "plt.legend()\n",
    "plt.xlabel(\"Day\")\n",
    "plt.ylabel(\"Cases/Vacciantions\")\n",
    "plt.show()"
   ]
  },
  {
   "cell_type": "code",
   "execution_count": null,
   "metadata": {},
   "outputs": [],
   "source": []
  }
 ],
 "metadata": {
  "kernelspec": {
   "display_name": "venv38",
   "language": "python",
   "name": "venv38"
  },
  "language_info": {
   "codemirror_mode": {
    "name": "ipython",
    "version": 3
   },
   "file_extension": ".py",
   "mimetype": "text/x-python",
   "name": "python",
   "nbconvert_exporter": "python",
   "pygments_lexer": "ipython3",
   "version": "3.8.0"
  }
 },
 "nbformat": 4,
 "nbformat_minor": 1
}
