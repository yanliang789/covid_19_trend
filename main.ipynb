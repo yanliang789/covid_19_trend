{
 "cells": [
  {
   "cell_type": "code",
   "execution_count": 278,
   "metadata": {},
   "outputs": [],
   "source": [
    "from PolynomialRegressionModel import *\n",
    "import numpy as np\n",
    "import pandas as pd\n",
    "import matplotlib.pyplot as plt\n",
    "from NN import NeuralNetModel\n",
    "import json"
   ]
  },
  {
   "cell_type": "code",
   "execution_count": 279,
   "metadata": {},
   "outputs": [],
   "source": [
    "with open(\"config.json\", \"r\") as f:\n",
    "    config = json.load(f)"
   ]
  },
  {
   "cell_type": "code",
   "execution_count": 280,
   "metadata": {},
   "outputs": [
    {
     "data": {
      "text/plain": [
       "{'enabled': True,\n",
       " 'model_name': 'Cases',\n",
       " 'model': {'type': 'neural_net',\n",
       "  'alpha': 1e-07,\n",
       "  'hidden_layer_sizes': 5000,\n",
       "  'learning_rate_init': 0.01,\n",
       "  'max_iter': 100000,\n",
       "  'batch_size': 32,\n",
       "  'tol': 1e-06,\n",
       "  'n_iter_no_change': 250,\n",
       "  'verbose': False},\n",
       " 'datagrabber_class': 'CasesDataGrabber',\n",
       " 'grab_data_from_server': True,\n",
       " 'offline_dataset_date': '2020-09-26',\n",
       " 'days_to_predict': 10}"
      ]
     },
     "execution_count": 280,
     "metadata": {},
     "output_type": "execute_result"
    }
   ],
   "source": [
    "model_config = config[\"models\"]\n",
    "model_config"
   ]
  },
  {
   "cell_type": "code",
   "execution_count": 281,
   "metadata": {},
   "outputs": [
    {
     "data": {
      "text/html": [
       "<div>\n",
       "<style scoped>\n",
       "    .dataframe tbody tr th:only-of-type {\n",
       "        vertical-align: middle;\n",
       "    }\n",
       "\n",
       "    .dataframe tbody tr th {\n",
       "        vertical-align: top;\n",
       "    }\n",
       "\n",
       "    .dataframe thead th {\n",
       "        text-align: right;\n",
       "    }\n",
       "</style>\n",
       "<table border=\"1\" class=\"dataframe\">\n",
       "  <thead>\n",
       "    <tr style=\"text-align: right;\">\n",
       "      <th></th>\n",
       "      <th>ObservationDate</th>\n",
       "      <th>Confirmed</th>\n",
       "      <th>People_Fully_Vaccinated</th>\n",
       "    </tr>\n",
       "  </thead>\n",
       "  <tbody>\n",
       "    <tr>\n",
       "      <th>0</th>\n",
       "      <td>2020-12-20</td>\n",
       "      <td>76818746.0</td>\n",
       "      <td>0.0</td>\n",
       "    </tr>\n",
       "    <tr>\n",
       "      <th>1</th>\n",
       "      <td>2020-12-21</td>\n",
       "      <td>77367360.0</td>\n",
       "      <td>0.0</td>\n",
       "    </tr>\n",
       "    <tr>\n",
       "      <th>2</th>\n",
       "      <td>2020-12-22</td>\n",
       "      <td>78016498.0</td>\n",
       "      <td>0.0</td>\n",
       "    </tr>\n",
       "    <tr>\n",
       "      <th>3</th>\n",
       "      <td>2020-12-23</td>\n",
       "      <td>78710560.0</td>\n",
       "      <td>0.0</td>\n",
       "    </tr>\n",
       "    <tr>\n",
       "      <th>4</th>\n",
       "      <td>2020-12-24</td>\n",
       "      <td>79377452.0</td>\n",
       "      <td>0.0</td>\n",
       "    </tr>\n",
       "    <tr>\n",
       "      <th>...</th>\n",
       "      <td>...</td>\n",
       "      <td>...</td>\n",
       "      <td>...</td>\n",
       "    </tr>\n",
       "    <tr>\n",
       "      <th>65</th>\n",
       "      <td>2021-02-23</td>\n",
       "      <td>112019890.0</td>\n",
       "      <td>41842414.0</td>\n",
       "    </tr>\n",
       "    <tr>\n",
       "      <th>66</th>\n",
       "      <td>2021-02-24</td>\n",
       "      <td>112464430.0</td>\n",
       "      <td>42359354.0</td>\n",
       "    </tr>\n",
       "    <tr>\n",
       "      <th>67</th>\n",
       "      <td>2021-02-25</td>\n",
       "      <td>112911535.0</td>\n",
       "      <td>43514673.0</td>\n",
       "    </tr>\n",
       "    <tr>\n",
       "      <th>68</th>\n",
       "      <td>2021-02-26</td>\n",
       "      <td>113325717.0</td>\n",
       "      <td>45521878.0</td>\n",
       "    </tr>\n",
       "    <tr>\n",
       "      <th>69</th>\n",
       "      <td>2021-02-27</td>\n",
       "      <td>113694842.0</td>\n",
       "      <td>46345540.0</td>\n",
       "    </tr>\n",
       "  </tbody>\n",
       "</table>\n",
       "<p>70 rows × 3 columns</p>\n",
       "</div>"
      ],
      "text/plain": [
       "   ObservationDate    Confirmed  People_Fully_Vaccinated\n",
       "0       2020-12-20   76818746.0                      0.0\n",
       "1       2020-12-21   77367360.0                      0.0\n",
       "2       2020-12-22   78016498.0                      0.0\n",
       "3       2020-12-23   78710560.0                      0.0\n",
       "4       2020-12-24   79377452.0                      0.0\n",
       "..             ...          ...                      ...\n",
       "65      2021-02-23  112019890.0               41842414.0\n",
       "66      2021-02-24  112464430.0               42359354.0\n",
       "67      2021-02-25  112911535.0               43514673.0\n",
       "68      2021-02-26  113325717.0               45521878.0\n",
       "69      2021-02-27  113694842.0               46345540.0\n",
       "\n",
       "[70 rows x 3 columns]"
      ]
     },
     "execution_count": 281,
     "metadata": {},
     "output_type": "execute_result"
    }
   ],
   "source": [
    "df_vac = pd.read_csv('Confirmed_VS_Vaccinated_US.csv').drop(columns=['Unnamed: 0'])\n",
    "df_vac"
   ]
  },
  {
   "cell_type": "code",
   "execution_count": 282,
   "metadata": {},
   "outputs": [
    {
     "data": {
      "text/plain": [
       "array([[70],\n",
       "       [71],\n",
       "       [72],\n",
       "       [73],\n",
       "       [74],\n",
       "       [75],\n",
       "       [76],\n",
       "       [77],\n",
       "       [78],\n",
       "       [79],\n",
       "       [80],\n",
       "       [81],\n",
       "       [82],\n",
       "       [83],\n",
       "       [84],\n",
       "       [85],\n",
       "       [86],\n",
       "       [87],\n",
       "       [88],\n",
       "       [89],\n",
       "       [90]])"
      ]
     },
     "execution_count": 282,
     "metadata": {},
     "output_type": "execute_result"
    }
   ],
   "source": [
    "x = np.array(df_vac.index.values.tolist()).reshape(-1, 1)\n",
    "list = []\n",
    "for i in range(1,22):\n",
    "    list.append(69 +i)\n",
    "x_pred = np.array(list).reshape(-1, 1)\n",
    "x_pred"
   ]
  },
  {
   "cell_type": "code",
   "execution_count": 283,
   "metadata": {},
   "outputs": [
    {
     "data": {
      "text/plain": [
       "0            0.0\n",
       "1            0.0\n",
       "2            0.0\n",
       "3            0.0\n",
       "4            0.0\n",
       "         ...    \n",
       "65    41842414.0\n",
       "66    42359354.0\n",
       "67    43514673.0\n",
       "68    45521878.0\n",
       "69    46345540.0\n",
       "Name: People_Fully_Vaccinated, Length: 70, dtype: float64"
      ]
     },
     "execution_count": 283,
     "metadata": {},
     "output_type": "execute_result"
    }
   ],
   "source": [
    "y_c_train = df_vac.iloc[:,1]\n",
    "y_v_train = df_vac.iloc[:,-1]\n",
    "y_v_train"
   ]
  },
  {
   "cell_type": "code",
   "execution_count": 284,
   "metadata": {},
   "outputs": [],
   "source": [
    "neural_net_model = NeuralNetModel(model_config[\"model_name\"])\n",
    "neural_net_model.train(x, y_v_train, model_config[\"model\"])"
   ]
  },
  {
   "cell_type": "code",
   "execution_count": 285,
   "metadata": {},
   "outputs": [],
   "source": [
    "beginning_day=len(x)\n",
    "limit=10\n",
    "next_days_x = np.array(range(beginning_day, beginning_day + limit)).reshape(-1, 1)\n",
    "y_v_pred = neural_net_model.get_predictions(x_pred)"
   ]
  },
  {
   "cell_type": "code",
   "execution_count": 286,
   "metadata": {},
   "outputs": [
    {
     "data": {
      "text/plain": [
       "array([47712796, 49336115, 50959434, 52582752, 54206071, 55829390,\n",
       "       57452709, 59076028, 60699347, 62322666, 63945985, 65569304,\n",
       "       67192623, 68815942, 70439261, 72062580, 73685898, 75309217,\n",
       "       76932536, 78555855, 80179174])"
      ]
     },
     "execution_count": 286,
     "metadata": {},
     "output_type": "execute_result"
    }
   ],
   "source": [
    "y_v_pred"
   ]
  },
  {
   "cell_type": "code",
   "execution_count": 287,
   "metadata": {},
   "outputs": [
    {
     "data": {
      "text/plain": [
       "0     50217092.0\n",
       "1     52969506.0\n",
       "2     52933742.0\n",
       "3     56283119.0\n",
       "4     57540294.0\n",
       "5     58534730.0\n",
       "6     58056286.0\n",
       "7     60088698.0\n",
       "8     63270356.0\n",
       "9     64762432.0\n",
       "10    69592914.0\n",
       "11    73010600.0\n",
       "12    75600854.0\n",
       "13    78513026.0\n",
       "14    77982576.0\n",
       "15    82336622.0\n",
       "16    79035899.0\n",
       "17    90713305.0\n",
       "18    88548724.0\n",
       "19    90448901.0\n",
       "20    81404397.0\n",
       "Name: People_Fully_Vaccinated, dtype: float64"
      ]
     },
     "execution_count": 287,
     "metadata": {},
     "output_type": "execute_result"
    }
   ],
   "source": [
    "df_y = pd.read_csv('02_28_to_03_20_vaccination.csv')\n",
    "y_v_test = df_y.iloc[:,-1]\n",
    "y_v_test"
   ]
  },
  {
   "cell_type": "code",
   "execution_count": 288,
   "metadata": {},
   "outputs": [],
   "source": [
    "import matplotlib.pyplot as plt"
   ]
  },
  {
   "cell_type": "code",
   "execution_count": 289,
   "metadata": {},
   "outputs": [
    {
     "data": {
      "image/png": "[encoded data removed]",
      "text/plain": [
       "<Figure size 432x288 with 1 Axes>"
      ]
     },
     "metadata": {
      "needs_background": "light"
     },
     "output_type": "display_data"
    }
   ],
   "source": [
    "plt.plot(x_pred, y_v_pred, color='m', label=\"Predicted Vaccination\")\n",
    "plt.plot(x_pred,y_v_test,color='r', label=\"Real Vaccination\")\n",
    "#plt.title(\"Amount of \" + model_name + \" in each day\")\n",
    "plt.legend()\n",
    "plt.xlabel(\"Day\")\n",
    "plt.ylabel(\"vaccination\")\n",
    "plt.show()"
   ]
  },
  {
   "cell_type": "code",
   "execution_count": 290,
   "metadata": {},
   "outputs": [],
   "source": [
    "x_100 = np.array(df_vac.index.values.tolist()).reshape(-1, 1)\n",
    "list = []\n",
    "for i in range(1,200):\n",
    "    list.append(69 +i)\n",
    "x_pred_100 = np.array(list).reshape(-1, 1)"
   ]
  },
  {
   "cell_type": "code",
   "execution_count": 291,
   "metadata": {},
   "outputs": [],
   "source": [
    "neural_net_model_100 = NeuralNetModel(model_config[\"model_name\"])\n",
    "neural_net_model_100.train(x, y_v_train, model_config[\"model\"])"
   ]
  },
  {
   "cell_type": "code",
   "execution_count": 292,
   "metadata": {},
   "outputs": [
    {
     "data": {
      "text/plain": [
       "array([ 48220169,  49850944,  51481719,  53112494,  54743269,  56374044,\n",
       "        58004819,  59635594,  61266369,  62897144,  64527919,  66158694,\n",
       "        67789469,  69420244,  71051019,  72681794,  74312569,  75943344,\n",
       "        77574119,  79204894,  80835669,  82466444,  84097219,  85727994,\n",
       "        87358769,  88989544,  90620319,  92251094,  93881869,  95512644,\n",
       "        97143419,  98774194, 100404969, 102035744, 103666519, 105297294,\n",
       "       106928069, 108558844, 110189619, 111820394, 113451169, 115081944,\n",
       "       116712719, 118343494, 119974269, 121605044, 123235819, 124866594,\n",
       "       126497369, 128128144, 129758919, 131389694, 133020469, 134651244,\n",
       "       136282019, 137912794, 139543569, 141174344, 142805119, 144435894,\n",
       "       146066669, 147697444, 149328219, 150958994, 152589769, 154220544,\n",
       "       155851319, 157482094, 159112869, 160743644, 162374419, 164005194,\n",
       "       165635969, 167266744, 168897519, 170528294, 172159069, 173789844,\n",
       "       175420619, 177051394, 178682169, 180312944, 181943719, 183574494,\n",
       "       185205269, 186836044, 188466819, 190097594, 191728369, 193359144,\n",
       "       194989919, 196620694, 198251469, 199882244, 201513019, 203143794,\n",
       "       204774569, 206405344, 208036119, 209666894, 211297669, 212928444,\n",
       "       214559219, 216189994, 217820769, 219451544, 221082319, 222713094,\n",
       "       224343869, 225974644, 227605419, 229236194, 230866969, 232497744,\n",
       "       234128519, 235759294, 237390069, 239020844, 240651619, 242282394,\n",
       "       243913169, 245543944, 247174719, 248805494, 250436269, 252067044,\n",
       "       253697819, 255328594, 256959369, 258590144, 260220919, 261851694,\n",
       "       263482469, 265113244, 266744019, 268374794, 270005569, 271636344,\n",
       "       273267119, 274897894, 276528669, 278159444, 279790219, 281420994,\n",
       "       283051769, 284682544, 286313319, 287944094, 289574869, 291205644,\n",
       "       292836419, 294467194, 296097969, 297728744, 299359519, 300990294,\n",
       "       302621069, 304251844, 305882619, 307513394, 309144169, 310774944,\n",
       "       312405719, 314036494, 315667269, 317298044, 318928819, 320559594,\n",
       "       322190369, 323821144, 325451919, 327082694, 328713469, 330344244,\n",
       "       331975019, 333605794, 335236569, 336867344, 338498119, 340128894,\n",
       "       341759669, 343390444, 345021219, 346651994, 348282769, 349913544,\n",
       "       351544319, 353175094, 354805869, 356436644, 358067419, 359698194,\n",
       "       361328969, 362959744, 364590519, 366221294, 367852069, 369482844,\n",
       "       371113619])"
      ]
     },
     "execution_count": 292,
     "metadata": {},
     "output_type": "execute_result"
    }
   ],
   "source": [
    "y_v_pred_vac_100 = neural_net_model_100.get_predictions(x_pred_100)\n",
    "y_v_pred_vac_100"
   ]
  },
  {
   "cell_type": "code",
   "execution_count": 293,
   "metadata": {},
   "outputs": [
    {
     "data": {
      "text/plain": [
       "0            0.0\n",
       "1            0.0\n",
       "2            0.0\n",
       "3            0.0\n",
       "4            0.0\n",
       "         ...    \n",
       "65    41842414.0\n",
       "66    42359354.0\n",
       "67    43514673.0\n",
       "68    45521878.0\n",
       "69    46345540.0\n",
       "Name: People_Fully_Vaccinated, Length: 70, dtype: float64"
      ]
     },
     "execution_count": 293,
     "metadata": {},
     "output_type": "execute_result"
    }
   ],
   "source": [
    "y_c_train_100 = df_vac.iloc[:,1]\n",
    "vaccination = df_vac.iloc[:,-1]\n",
    "vaccination"
   ]
  },
  {
   "cell_type": "code",
   "execution_count": 294,
   "metadata": {},
   "outputs": [
    {
     "data": {
      "text/plain": [
       "array([[0.0000000e+00, 0.0000000e+00],\n",
       "       [1.0000000e+00, 0.0000000e+00],\n",
       "       [2.0000000e+00, 0.0000000e+00],\n",
       "       [3.0000000e+00, 0.0000000e+00],\n",
       "       [4.0000000e+00, 0.0000000e+00],\n",
       "       [5.0000000e+00, 0.0000000e+00],\n",
       "       [6.0000000e+00, 0.0000000e+00],\n",
       "       [7.0000000e+00, 0.0000000e+00],\n",
       "       [8.0000000e+00, 0.0000000e+00],\n",
       "       [9.0000000e+00, 0.0000000e+00],\n",
       "       [1.0000000e+01, 0.0000000e+00],\n",
       "       [1.1000000e+01, 0.0000000e+00],\n",
       "       [1.2000000e+01, 0.0000000e+00],\n",
       "       [1.3000000e+01, 0.0000000e+00],\n",
       "       [1.4000000e+01, 4.4004000e+04],\n",
       "       [1.5000000e+01, 2.0000000e+00],\n",
       "       [1.6000000e+01, 2.0000000e+00],\n",
       "       [1.7000000e+01, 2.0000000e+00],\n",
       "       [1.8000000e+01, 2.1780000e+03],\n",
       "       [1.9000000e+01, 4.0610000e+03],\n",
       "       [2.0000000e+01, 5.9100000e+03],\n",
       "       [2.1000000e+01, 1.0446960e+06],\n",
       "       [2.2000000e+01, 8.5545100e+05],\n",
       "       [2.3000000e+01, 9.2336300e+05],\n",
       "       [2.4000000e+01, 1.0109450e+06],\n",
       "       [2.5000000e+01, 2.4419710e+06],\n",
       "       [2.6000000e+01, 2.7648820e+06],\n",
       "       [2.7000000e+01, 1.1884820e+06],\n",
       "       [2.8000000e+01, 1.3039140e+06],\n",
       "       [2.9000000e+01, 1.4779340e+06],\n",
       "       [3.0000000e+01, 3.7254210e+06],\n",
       "       [3.1000000e+01, 4.1423000e+06],\n",
       "       [3.2000000e+01, 4.6923810e+06],\n",
       "       [3.3000000e+01, 5.2347730e+06],\n",
       "       [3.4000000e+01, 5.6077080e+06],\n",
       "       [3.5000000e+01, 6.1092530e+06],\n",
       "       [3.6000000e+01, 6.5926990e+06],\n",
       "       [3.7000000e+01, 7.1347200e+06],\n",
       "       [3.8000000e+01, 7.8183880e+06],\n",
       "       [3.9000000e+01, 8.7309720e+06],\n",
       "       [4.0000000e+01, 9.3779030e+06],\n",
       "       [4.1000000e+01, 1.0226343e+07],\n",
       "       [4.2000000e+01, 1.1132202e+07],\n",
       "       [4.3000000e+01, 1.1871822e+07],\n",
       "       [4.4000000e+01, 1.2353192e+07],\n",
       "       [4.5000000e+01, 1.3433793e+07],\n",
       "       [4.6000000e+01, 1.4585944e+07],\n",
       "       [4.7000000e+01, 1.4830935e+07],\n",
       "       [4.8000000e+01, 1.6008441e+07],\n",
       "       [4.9000000e+01, 1.8001377e+07],\n",
       "       [5.0000000e+01, 1.8306639e+07],\n",
       "       [5.1000000e+01, 1.9621675e+07],\n",
       "       [5.2000000e+01, 2.2067180e+07],\n",
       "       [5.3000000e+01, 2.2284125e+07],\n",
       "       [5.4000000e+01, 2.2736469e+07],\n",
       "       [5.5000000e+01, 2.4494954e+07],\n",
       "       [5.6000000e+01, 2.7070658e+07],\n",
       "       [5.7000000e+01, 1.3573251e+07],\n",
       "       [5.8000000e+01, 2.9217033e+07],\n",
       "       [5.9000000e+01, 3.0788522e+07],\n",
       "       [6.0000000e+01, 3.2539522e+07],\n",
       "       [6.1000000e+01, 3.2890006e+07],\n",
       "       [6.2000000e+01, 3.5065136e+07],\n",
       "       [6.3000000e+01, 3.7272222e+07],\n",
       "       [6.4000000e+01, 3.8151874e+07],\n",
       "       [6.5000000e+01, 4.1842414e+07],\n",
       "       [6.6000000e+01, 4.2359354e+07],\n",
       "       [6.7000000e+01, 4.3514673e+07],\n",
       "       [6.8000000e+01, 4.5521878e+07],\n",
       "       [6.9000000e+01, 4.6345540e+07]])"
      ]
     },
     "execution_count": 294,
     "metadata": {},
     "output_type": "execute_result"
    }
   ],
   "source": [
    "x_c_train_100 = np.vstack((np.array(df_vac.index.values.tolist()), vaccination)).T\n",
    "x_c_train_100"
   ]
  },
  {
   "cell_type": "code",
   "execution_count": 295,
   "metadata": {},
   "outputs": [],
   "source": [
    "neural_net_model_100_cases = NeuralNetModel(model_config[\"model_name\"])\n",
    "neural_net_model_100_cases.train(x_c_train_100, y_c_train_100, model_config[\"model\"])"
   ]
  },
  {
   "cell_type": "code",
   "execution_count": 296,
   "metadata": {},
   "outputs": [
    {
     "data": {
      "text/plain": [
       "array([[       70,  48220169],\n",
       "       [       71,  49850944],\n",
       "       [       72,  51481719],\n",
       "       [       73,  53112494],\n",
       "       [       74,  54743269],\n",
       "       [       75,  56374044],\n",
       "       [       76,  58004819],\n",
       "       [       77,  59635594],\n",
       "       [       78,  61266369],\n",
       "       [       79,  62897144],\n",
       "       [       80,  64527919],\n",
       "       [       81,  66158694],\n",
       "       [       82,  67789469],\n",
       "       [       83,  69420244],\n",
       "       [       84,  71051019],\n",
       "       [       85,  72681794],\n",
       "       [       86,  74312569],\n",
       "       [       87,  75943344],\n",
       "       [       88,  77574119],\n",
       "       [       89,  79204894],\n",
       "       [       90,  80835669],\n",
       "       [       91,  82466444],\n",
       "       [       92,  84097219],\n",
       "       [       93,  85727994],\n",
       "       [       94,  87358769],\n",
       "       [       95,  88989544],\n",
       "       [       96,  90620319],\n",
       "       [       97,  92251094],\n",
       "       [       98,  93881869],\n",
       "       [       99,  95512644],\n",
       "       [      100,  97143419],\n",
       "       [      101,  98774194],\n",
       "       [      102, 100404969],\n",
       "       [      103, 102035744],\n",
       "       [      104, 103666519],\n",
       "       [      105, 105297294],\n",
       "       [      106, 106928069],\n",
       "       [      107, 108558844],\n",
       "       [      108, 110189619],\n",
       "       [      109, 111820394],\n",
       "       [      110, 113451169],\n",
       "       [      111, 115081944],\n",
       "       [      112, 116712719],\n",
       "       [      113, 118343494],\n",
       "       [      114, 119974269],\n",
       "       [      115, 121605044],\n",
       "       [      116, 123235819],\n",
       "       [      117, 124866594],\n",
       "       [      118, 126497369],\n",
       "       [      119, 128128144],\n",
       "       [      120, 129758919],\n",
       "       [      121, 131389694],\n",
       "       [      122, 133020469],\n",
       "       [      123, 134651244],\n",
       "       [      124, 136282019],\n",
       "       [      125, 137912794],\n",
       "       [      126, 139543569],\n",
       "       [      127, 141174344],\n",
       "       [      128, 142805119],\n",
       "       [      129, 144435894],\n",
       "       [      130, 146066669],\n",
       "       [      131, 147697444],\n",
       "       [      132, 149328219],\n",
       "       [      133, 150958994],\n",
       "       [      134, 152589769],\n",
       "       [      135, 154220544],\n",
       "       [      136, 155851319],\n",
       "       [      137, 157482094],\n",
       "       [      138, 159112869],\n",
       "       [      139, 160743644],\n",
       "       [      140, 162374419],\n",
       "       [      141, 164005194],\n",
       "       [      142, 165635969],\n",
       "       [      143, 167266744],\n",
       "       [      144, 168897519],\n",
       "       [      145, 170528294],\n",
       "       [      146, 172159069],\n",
       "       [      147, 173789844],\n",
       "       [      148, 175420619],\n",
       "       [      149, 177051394],\n",
       "       [      150, 178682169],\n",
       "       [      151, 180312944],\n",
       "       [      152, 181943719],\n",
       "       [      153, 183574494],\n",
       "       [      154, 185205269],\n",
       "       [      155, 186836044],\n",
       "       [      156, 188466819],\n",
       "       [      157, 190097594],\n",
       "       [      158, 191728369],\n",
       "       [      159, 193359144],\n",
       "       [      160, 194989919],\n",
       "       [      161, 196620694],\n",
       "       [      162, 198251469],\n",
       "       [      163, 199882244],\n",
       "       [      164, 201513019],\n",
       "       [      165, 203143794],\n",
       "       [      166, 204774569],\n",
       "       [      167, 206405344],\n",
       "       [      168, 208036119],\n",
       "       [      169, 209666894],\n",
       "       [      170, 211297669],\n",
       "       [      171, 212928444],\n",
       "       [      172, 214559219],\n",
       "       [      173, 216189994],\n",
       "       [      174, 217820769],\n",
       "       [      175, 219451544],\n",
       "       [      176, 221082319],\n",
       "       [      177, 222713094],\n",
       "       [      178, 224343869],\n",
       "       [      179, 225974644],\n",
       "       [      180, 227605419],\n",
       "       [      181, 229236194],\n",
       "       [      182, 230866969],\n",
       "       [      183, 232497744],\n",
       "       [      184, 234128519],\n",
       "       [      185, 235759294],\n",
       "       [      186, 237390069],\n",
       "       [      187, 239020844],\n",
       "       [      188, 240651619],\n",
       "       [      189, 242282394],\n",
       "       [      190, 243913169],\n",
       "       [      191, 245543944],\n",
       "       [      192, 247174719],\n",
       "       [      193, 248805494],\n",
       "       [      194, 250436269],\n",
       "       [      195, 252067044],\n",
       "       [      196, 253697819],\n",
       "       [      197, 255328594],\n",
       "       [      198, 256959369],\n",
       "       [      199, 258590144],\n",
       "       [      200, 260220919],\n",
       "       [      201, 261851694],\n",
       "       [      202, 263482469],\n",
       "       [      203, 265113244],\n",
       "       [      204, 266744019],\n",
       "       [      205, 268374794],\n",
       "       [      206, 270005569],\n",
       "       [      207, 271636344],\n",
       "       [      208, 273267119],\n",
       "       [      209, 274897894],\n",
       "       [      210, 276528669],\n",
       "       [      211, 278159444],\n",
       "       [      212, 279790219],\n",
       "       [      213, 281420994],\n",
       "       [      214, 283051769],\n",
       "       [      215, 284682544],\n",
       "       [      216, 286313319],\n",
       "       [      217, 287944094],\n",
       "       [      218, 289574869],\n",
       "       [      219, 291205644],\n",
       "       [      220, 292836419],\n",
       "       [      221, 294467194],\n",
       "       [      222, 296097969],\n",
       "       [      223, 297728744],\n",
       "       [      224, 299359519],\n",
       "       [      225, 300990294],\n",
       "       [      226, 302621069],\n",
       "       [      227, 304251844],\n",
       "       [      228, 305882619],\n",
       "       [      229, 307513394],\n",
       "       [      230, 309144169],\n",
       "       [      231, 310774944],\n",
       "       [      232, 312405719],\n",
       "       [      233, 314036494],\n",
       "       [      234, 315667269],\n",
       "       [      235, 317298044],\n",
       "       [      236, 318928819],\n",
       "       [      237, 320559594],\n",
       "       [      238, 322190369],\n",
       "       [      239, 323821144],\n",
       "       [      240, 325451919],\n",
       "       [      241, 327082694],\n",
       "       [      242, 328713469],\n",
       "       [      243, 330344244],\n",
       "       [      244, 331975019],\n",
       "       [      245, 333605794],\n",
       "       [      246, 335236569],\n",
       "       [      247, 336867344],\n",
       "       [      248, 338498119],\n",
       "       [      249, 340128894],\n",
       "       [      250, 341759669],\n",
       "       [      251, 343390444],\n",
       "       [      252, 345021219],\n",
       "       [      253, 346651994],\n",
       "       [      254, 348282769],\n",
       "       [      255, 349913544],\n",
       "       [      256, 351544319],\n",
       "       [      257, 353175094],\n",
       "       [      258, 354805869],\n",
       "       [      259, 356436644],\n",
       "       [      260, 358067419],\n",
       "       [      261, 359698194],\n",
       "       [      262, 361328969],\n",
       "       [      263, 362959744],\n",
       "       [      264, 364590519],\n",
       "       [      265, 366221294],\n",
       "       [      266, 367852069],\n",
       "       [      267, 369482844],\n",
       "       [      268, 371113619]])"
      ]
     },
     "execution_count": 296,
     "metadata": {},
     "output_type": "execute_result"
    }
   ],
   "source": [
    "x_c_test_100 = np.vstack((np.array(list), y_v_pred_vac_100)).T\n",
    "x_c_test_100"
   ]
  },
  {
   "cell_type": "code",
   "execution_count": 297,
   "metadata": {},
   "outputs": [
    {
     "data": {
      "text/plain": [
       "array([ 175786902,  181730395,  187673888,  193617380,  199560873,\n",
       "        205504366,  211447859,  217391352,  223334844,  229278337,\n",
       "        235221830,  241165323,  247108816,  253052308,  258995801,\n",
       "        264939294,  270882787,  276826280,  282769772,  288713265,\n",
       "        294656758,  300600251,  306543744,  312487236,  318430729,\n",
       "        324374222,  330317715,  336261208,  342204700,  348148193,\n",
       "        354091686,  360035179,  365978672,  371922164,  377865657,\n",
       "        383809150,  389752643,  395696136,  401639628,  407583121,\n",
       "        413526614,  419470107,  425413600,  431357092,  437300585,\n",
       "        443244078,  449187571,  455131064,  461074556,  467018049,\n",
       "        472961542,  478905035,  484848528,  490792020,  496735513,\n",
       "        502679006,  508622499,  514565992,  520509484,  526452977,\n",
       "        532396470,  538339963,  544283456,  550226948,  556170441,\n",
       "        562113934,  568057427,  574000920,  579944412,  585887905,\n",
       "        591831398,  597774891,  603718384,  609661876,  615605369,\n",
       "        621548862,  627492355,  633435848,  639379340,  645322833,\n",
       "        651266326,  657209819,  663153312,  669096804,  675040297,\n",
       "        680983790,  686927283,  692870776,  698814268,  704757761,\n",
       "        710701254,  716644747,  722588240,  728531732,  734475225,\n",
       "        740418718,  746362211,  752305704,  758249196,  764192689,\n",
       "        770136182,  776079675,  782023168,  787966660,  793910153,\n",
       "        799853646,  805797139,  811740632,  817684124,  823627617,\n",
       "        829571110,  835514603,  841458096,  847401588,  853345081,\n",
       "        859288574,  865232067,  871175560,  877119052,  883062545,\n",
       "        889006038,  894949531,  900893024,  906836516,  912780009,\n",
       "        918723502,  924666995,  930610488,  936553980,  942497473,\n",
       "        948440966,  954384459,  960327952,  966271444,  972214937,\n",
       "        978158430,  984101923,  990045416,  995988908, 1001932401,\n",
       "       1007875894, 1013819387, 1019762880, 1025706372, 1031649865,\n",
       "       1037593358, 1043536851, 1049480344, 1055423836, 1061367329,\n",
       "       1067310822, 1073254315, 1079197808, 1085141300, 1091084793,\n",
       "       1097028286, 1102971779, 1108915272, 1114858764, 1120802257,\n",
       "       1126745750, 1132689243, 1138632736, 1144576228, 1150519721,\n",
       "       1156463214, 1162406707, 1168350200, 1174293692, 1180237185,\n",
       "       1186180678, 1192124171, 1198067664, 1204011156, 1209954649,\n",
       "       1215898142, 1221841635, 1227785128, 1233728620, 1239672113,\n",
       "       1245615606, 1251559099, 1257502592, 1263446084, 1269389577,\n",
       "       1275333070, 1281276563, 1287220056, 1293163548, 1299107041,\n",
       "       1305050534, 1310994027, 1316937520, 1322881012, 1328824505,\n",
       "       1334767998, 1340711491, 1346654984, 1352598476])"
      ]
     },
     "execution_count": 297,
     "metadata": {},
     "output_type": "execute_result"
    }
   ],
   "source": [
    "y_c_pred_100 = neural_net_model_100_cases.get_predictions(x_c_test_100)\n",
    "y_c_pred_100"
   ]
  },
  {
   "cell_type": "code",
   "execution_count": 298,
   "metadata": {},
   "outputs": [
    {
     "data": {
      "image/png": "[encoded data removed]",
      "text/plain": [
       "<Figure size 432x288 with 1 Axes>"
      ]
     },
     "metadata": {
      "needs_background": "light"
     },
     "output_type": "display_data"
    }
   ],
   "source": [
    "plt.plot(x_pred_100, y_v_pred_vac_100, color='r', label=\"predicted vaccination\")\n",
    "plt.plot(x_pred_100,y_c_pred_100,color='b', label=\"predicted confirmed cases\")\n",
    "#plt.title(\"Amount of \" + model_name + \" in each day\")\n",
    "plt.legend()\n",
    "plt.xlabel(\"Day\")\n",
    "plt.ylabel(\"Cases/Vacciantions\")\n",
    "plt.show()"
   ]
  },
  {
   "cell_type": "code",
   "execution_count": null,
   "metadata": {},
   "outputs": [],
   "source": []
  }
 ],
 "metadata": {
  "kernelspec": {
   "display_name": "venv38",
   "language": "python",
   "name": "venv38"
  },
  "language_info": {
   "codemirror_mode": {
    "name": "ipython",
    "version": 3
   },
   "file_extension": ".py",
   "mimetype": "text/x-python",
   "name": "python",
   "nbconvert_exporter": "python",
   "pygments_lexer": "ipython3",
   "version": "3.8.0"
  }
 },
 "nbformat": 4,
 "nbformat_minor": 1
}
